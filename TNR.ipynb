{
 "cells": [
  {
   "cell_type": "code",
   "execution_count": 2,
   "metadata": {},
   "outputs": [],
   "source": [
    "%load_ext autoreload\n",
    "%autoreload 2\n",
    "from TNR import *"
   ]
  },
  {
   "cell_type": "code",
   "execution_count": 70,
   "metadata": {},
   "outputs": [
    {
     "name": "stdout",
     "output_type": "stream",
     "text": [
      "vertical truncation err: 0.6242497505002912\n",
      "horizontal truncation err: 0.0\n",
      "Aout shape: (6, 6, 6, 6)\n",
      "Coarsen truncation error: 3.16407e-15\n",
      "Coarsen truncation error: 3.16387e-15\n",
      "Coarsen truncation error: 2.99658e-15\n",
      "Coarsen truncation error: 3.15982e-15\n",
      "Coarsen truncation error: 3.1469e-15\n",
      "Coarsen truncation error: 3.25872e-15\n",
      "Coarsen truncation error: 3.05294e-15\n",
      "Coarsen truncation error: 2.98017e-15\n"
     ]
    }
   ],
   "source": [
    "chi={}\n",
    "chi['w'],chi['y'],chi['u'],chi['v']=6,6,6,6\n",
    "chiw,chiy,chiu,chiv=chi['w'],chi['y'],chi['u'],chi['v']\n",
    "\n",
    "J=1\n",
    "\n",
    "htemp=(KP(s0,sx,sx,s0)+KP(s0,sz,sz,s0))+\\\n",
    "    J*(KP(sx,sx,s0,s0)+KP(sz,sz,s0,s0)+KP(s0,s0,sx,sx)+KP(s0,s0,sz,sz))/2\n",
    "# htemp=KP(sx,sx)+J*(KP(sz,s0)+KP(s0,sz))/2\n",
    "# htemp=KP(sx,sx)+KP(sy,sy)+KP(sz,sz)\n",
    "\n",
    "d=int(np.sqrt(htemp.shape[0]))\n",
    "Ainit=expm(-0.002*htemp).reshape(d,d,d,d)\n",
    "A0=Asplit(Ainit,chi)\n",
    "for i in range(8):\n",
    "    A0=coarsen(A0,chi)\n",
    "\n",
    "# na=np.newaxis\n",
    "# s=np.array([1,-1])\n",
    "# Tc=2/np.log(1+np.sqrt(2))\n",
    "# T=1*Tc\n",
    "# A0=np.exp(-1/T*(s[:,na,na,na]*s[na,:,na,na]+s[na,:,na,na]*s[na,na,:,na]\\\n",
    "#                 +s[na,na,:,na]*s[na,na,na,:]+s[na,na,na,:]*s[:,na,na,na]))\n",
    "# A0/=np.linalg.norm(A0)"
   ]
  },
  {
   "cell_type": "code",
   "execution_count": 71,
   "metadata": {},
   "outputs": [
    {
     "name": "stdout",
     "output_type": "stream",
     "text": [
      "RG step:  0\n",
      "iter=0, U.Uenv=1\n",
      "iter=100, U.Uenv=1\n",
      "error in U, vl, vr optimization: 0\n",
      "error in yl, yr, D optimization: 2.93331e-15\n",
      "error in w optimization: 0.219704\n",
      "iter=0, u.uenv=0.932864, v.venv=0.932864\n",
      "iter=1000, u.uenv=0.932864, v.venv=0.932864\n",
      "Adiff 0.366432\n",
      "A.shape=  (6, 6, 6, 6)\n",
      "\n",
      "RG step:  1\n",
      "iter=0, U.Uenv=1\n",
      "iter=100, U.Uenv=1\n",
      "error in U, vl, vr optimization: -1.77773e-16\n",
      "error in yl, yr, D optimization: 2.99193e-15\n",
      "error in w optimization: 0.0371804\n",
      "iter=0, u.uenv=0.97047, v.venv=0.97047\n",
      "iter=1000, u.uenv=0.97047, v.venv=0.97047\n",
      "Adiff 0.243023\n",
      "A.shape=  (6, 6, 6, 6)\n",
      "\n",
      "RG step:  2\n",
      "iter=0, U.Uenv=1\n",
      "iter=100, U.Uenv=1\n",
      "error in U, vl, vr optimization: -7.58032e-16\n",
      "error in yl, yr, D optimization: 3.00591e-15\n",
      "error in w optimization: 0.000619077\n",
      "iter=0, u.uenv=0.999331, v.venv=0.999331\n",
      "iter=1000, u.uenv=0.999331, v.venv=0.999331\n",
      "Adiff 0.0365679\n",
      "A.shape=  (6, 6, 6, 6)\n",
      "\n",
      "RG step:  3\n",
      "iter=0, U.Uenv=1\n",
      "iter=100, U.Uenv=1\n",
      "error in U, vl, vr optimization: 1.91099e-06\n",
      "error in yl, yr, D optimization: 2.88658e-15\n",
      "error in w optimization: 2.4334e-07\n",
      "iter=0, u.uenv=1, v.venv=1\n",
      "iter=1000, u.uenv=1, v.venv=1\n",
      "Adiff 0.000619077\n",
      "A.shape=  (6, 6, 6, 6)\n",
      "\n",
      "RG step:  4\n",
      "iter=0, U.Uenv=1\n",
      "iter=100, U.Uenv=1\n",
      "error in U, vl, vr optimization: -2.22045e-16\n",
      "error in yl, yr, D optimization: 2.9976e-15\n",
      "error in w optimization: 3.26314e-09\n",
      "iter=0, u.uenv=1, v.venv=1\n",
      "iter=1000, u.uenv=1, v.venv=1\n",
      "Adiff 2.91989e-14\n",
      "A.shape=  (6, 6, 6, 6)\n",
      "\n",
      "RG step:  5\n",
      "iter=0, U.Uenv=1\n",
      "iter=100, U.Uenv=1\n",
      "error in U, vl, vr optimization: -4.44089e-16\n",
      "error in yl, yr, D optimization: 2.88658e-15\n",
      "error in w optimization: 1.35439e-14\n",
      "iter=0, u.uenv=1, v.venv=1\n",
      "iter=1000, u.uenv=1, v.venv=1\n",
      "Adiff 9.35855e-24\n",
      "A.shape=  (6, 6, 6, 6)\n",
      "\n",
      "RG step:  6\n",
      "iter=0, U.Uenv=1\n",
      "iter=100, U.Uenv=1\n",
      "error in U, vl, vr optimization: -4.44089e-16\n",
      "error in yl, yr, D optimization: 2.88658e-15\n",
      "error in w optimization: 3.46063e-17\n",
      "iter=0, u.uenv=1, v.venv=1\n",
      "iter=1000, u.uenv=1, v.venv=1\n",
      "Adiff 2.22045e-16\n",
      "A.shape=  (6, 6, 6, 6)\n",
      "\n",
      "RG step:  7\n",
      "iter=0, U.Uenv=1\n",
      "iter=100, U.Uenv=1\n",
      "error in U, vl, vr optimization: -4.44089e-16\n",
      "error in yl, yr, D optimization: 2.88658e-15\n",
      "error in w optimization: 1.11992e-16\n",
      "iter=0, u.uenv=1, v.venv=1\n",
      "iter=1000, u.uenv=1, v.venv=1\n",
      "Adiff 9.35862e-24\n",
      "A.shape=  (6, 6, 6, 6)\n",
      "\n",
      "RG step:  8\n",
      "iter=0, U.Uenv=1\n",
      "iter=100, U.Uenv=1\n",
      "error in U, vl, vr optimization: -4.44089e-16\n",
      "error in yl, yr, D optimization: 2.88658e-15\n",
      "error in w optimization: 1.55849e-16\n",
      "iter=0, u.uenv=1, v.venv=1\n",
      "iter=1000, u.uenv=1, v.venv=1\n",
      "Adiff 2.22045e-16\n",
      "A.shape=  (6, 6, 6, 6)\n",
      "\n",
      "RG step:  9\n",
      "iter=0, U.Uenv=1\n",
      "iter=100, U.Uenv=1\n",
      "error in U, vl, vr optimization: -4.44089e-16\n",
      "error in yl, yr, D optimization: 2.88658e-15\n",
      "error in w optimization: 1.20446e-16\n",
      "iter=0, u.uenv=1, v.venv=1\n",
      "iter=1000, u.uenv=1, v.venv=1\n",
      "Adiff 2.22045e-16\n",
      "A.shape=  (6, 6, 6, 6)\n",
      "\n"
     ]
    }
   ],
   "source": [
    "RGsteps=10\n",
    "A_list=[None]*(RGsteps+1)\n",
    "Anorm_list=[None]*(RGsteps+1)\n",
    "B_list,U_list,vl_list,vr_list,yl_list,yr_list,D_list,w_list,u_list,v_list=[[None]*RGsteps for i in range(10)]\n",
    "A_list[0]=A0\n",
    "\n",
    "for i in range(RGsteps):\n",
    "    print('RG step: ',i)\n",
    "    Aold=A_list[i]\n",
    "    B,U,vl,vr,yl,yr,D,w,u,v,A,Anorm=doTNR(Aold,chi)\n",
    "    B_list[i],U_list[i],vl_list[i],vr_list[i],yl_list[i],yr_list[i],D_list[i],w_list[i],u_list[i],v_list[i],A_list[i+1],Anorm_list[i+1]=\\\n",
    "    B,U,vl,vr,yl,yr,D,w,u,v,A,Anorm\n",
    "    print('A.shape= ',A.shape)\n",
    "    print()"
   ]
  },
  {
   "cell_type": "code",
   "execution_count": 72,
   "metadata": {},
   "outputs": [],
   "source": [
    "i=10\n",
    "A=A_list[i]\n",
    "import scipy"
   ]
  },
  {
   "cell_type": "code",
   "execution_count": 73,
   "metadata": {},
   "outputs": [
    {
     "name": "stderr",
     "output_type": "stream",
     "text": [
      "c:\\programdata\\miniconda3\\lib\\site-packages\\scipy\\sparse\\linalg\\eigen\\arpack\\arpack.py:1254: RuntimeWarning: k >= N - 1 for N * N square matrix. Attempting to use scipy.linalg.eig instead.\n",
      "  RuntimeWarning)\n",
      "c:\\programdata\\miniconda3\\lib\\site-packages\\ipykernel_launcher.py:6: RuntimeWarning: divide by zero encountered in log\n",
      "  \n",
      "c:\\programdata\\miniconda3\\lib\\site-packages\\ipykernel_launcher.py:7: RuntimeWarning: invalid value encountered in true_divide\n",
      "  import sys\n"
     ]
    },
    {
     "data": {
      "text/plain": [
       "array([-0., nan, nan, nan, nan, nan])"
      ]
     },
     "execution_count": 73,
     "metadata": {},
     "output_type": "execute_result"
    }
   ],
   "source": [
    "T=np.einsum(A,[2,1,2,0])\n",
    "# ew,_=np.linalg.eigh(T)\n",
    "ew = scipy.sparse.linalg.eigsh(T, k=100, which='LM', maxiter=200, tol=1e-5, return_eigenvectors=False)\n",
    "ew.sort()\n",
    "ew=ew[::-1]\n",
    "el=-np.log(np.abs(ew/ew[0]))\n",
    "(el/(el[5]-el[0]))[:100]"
   ]
  },
  {
   "cell_type": "code",
   "execution_count": 74,
   "metadata": {},
   "outputs": [
    {
     "name": "stderr",
     "output_type": "stream",
     "text": [
      "c:\\programdata\\miniconda3\\lib\\site-packages\\ipykernel_launcher.py:4: RuntimeWarning: divide by zero encountered in log\n",
      "  after removing the cwd from sys.path.\n",
      "c:\\programdata\\miniconda3\\lib\\site-packages\\ipykernel_launcher.py:5: RuntimeWarning: invalid value encountered in true_divide\n",
      "  \"\"\"\n"
     ]
    },
    {
     "data": {
      "text/plain": [
       "array([-0., nan, nan, nan, nan, nan])"
      ]
     },
     "execution_count": 74,
     "metadata": {},
     "output_type": "execute_result"
    }
   ],
   "source": [
    "T=A[0,:,0,:]\n",
    "ew,_=np.linalg.eigh(T)\n",
    "ew=ew[::-1]\n",
    "el=-np.log(np.abs(ew/ew[0]))\n",
    "(el/(el[4]-el[0]))[:100]"
   ]
  },
  {
   "cell_type": "code",
   "execution_count": 75,
   "metadata": {},
   "outputs": [
    {
     "name": "stderr",
     "output_type": "stream",
     "text": [
      "c:\\programdata\\miniconda3\\lib\\site-packages\\ipykernel_launcher.py:4: RuntimeWarning: divide by zero encountered in log\n",
      "  after removing the cwd from sys.path.\n",
      "c:\\programdata\\miniconda3\\lib\\site-packages\\ipykernel_launcher.py:5: RuntimeWarning: invalid value encountered in true_divide\n",
      "  \"\"\"\n"
     ]
    },
    {
     "data": {
      "text/plain": [
       "array([-0., nan, nan, nan, nan, nan, nan, nan, nan, nan, nan, nan, nan,\n",
       "       nan, nan, nan, nan, nan, nan, nan, nan, nan, nan, nan, nan, nan,\n",
       "       nan, nan, nan, nan, nan, nan, nan, nan, nan, nan])"
      ]
     },
     "execution_count": 75,
     "metadata": {},
     "output_type": "execute_result"
    }
   ],
   "source": [
    "T2=np.einsum(A,[4,2,5,0],A,[5,3,4,1]).reshape(chiw**2,chiw**2)\n",
    "ew,_=np.linalg.eigh(T2)\n",
    "ew=ew[::-1]\n",
    "el=-np.log(np.abs(ew/ew[0]))\n",
    "(el/(el[5]-el[0]))[:100]"
   ]
  },
  {
   "cell_type": "code",
   "execution_count": 76,
   "metadata": {},
   "outputs": [
    {
     "data": {
      "text/plain": [
       "array([-0.        ,  0.98533899,  0.99278887,  0.99430289,  0.99713318,\n",
       "        0.99904217,  1.        ,  1.0023255 ,  1.0032207 ,  1.00385318,\n",
       "        1.00403879,  1.00444692,  1.00450745,  1.00474447,  1.00479912,\n",
       "        1.00481575,  1.00492926,  1.00501821,  1.00506891,  1.0056507 ,\n",
       "        1.00569602,  1.00589928,  1.00614889,  1.00639831,  1.00670451,\n",
       "        1.00707821,  1.00761251,  1.00845214,  1.00966963,  1.00972575,\n",
       "        1.0097769 ,  1.00982887,  1.01020339,  1.01051362,  1.01051619,\n",
       "        1.01114142,  1.01132681,  1.01321101,  1.01323903,  1.01327087,\n",
       "        1.01472869,  1.01635406,  1.01836712,  1.01837982,  1.01862126,\n",
       "        1.0203181 ,  1.02239474,  1.02555559,  1.03413122,  1.03499584,\n",
       "        1.03598029,  1.05097496,  1.07560162,  1.04438134,  1.03933278,\n",
       "        1.03105325,  1.02534444,  1.02144426,  1.02106603,  1.01883488,\n",
       "        1.01865191,  1.01658911,  1.01608625,  1.01341637,  1.0121233 ,\n",
       "        1.01085562,  1.01044105,  1.00889795,  1.00805731,  1.00781607,\n",
       "        1.00771277,  1.00733863,  1.00712066,  1.00708262,  1.00702117,\n",
       "        1.00671799,  1.00659214,  1.00614067,  1.00597285,  1.0055659 ,\n",
       "        1.00525801,  1.00511385,  1.00497924,  1.00483613,  1.00457753,\n",
       "        1.00440812,  1.00439218,  1.00394013,  1.00381713,  1.00380553,\n",
       "        1.0037932 ,  1.00300962,  1.0028618 ,  1.00263972,  1.00133666,\n",
       "        0.99970041,  0.99819976,  0.99506619,  0.99493993,  0.52770731])"
      ]
     },
     "execution_count": 76,
     "metadata": {},
     "output_type": "execute_result"
    }
   ],
   "source": [
    "T3=np.einsum(A,[10,3,8,0],A,[8,4,9,1],A,[9,5,10,2]).reshape(chiw**3,chiw**3)\n",
    "ew = scipy.sparse.linalg.eigsh(T3, k=100, which='LM', maxiter=200, tol=1e-5, return_eigenvectors=False)\n",
    "ew.sort()\n",
    "ew=ew[::-1]\n",
    "el=-np.log(np.abs(ew/ew[0]))\n",
    "(el/(el[6]-el[0]))[:100]"
   ]
  },
  {
   "cell_type": "code",
   "execution_count": 84,
   "metadata": {},
   "outputs": [
    {
     "name": "stderr",
     "output_type": "stream",
     "text": [
      "c:\\programdata\\miniconda3\\lib\\site-packages\\ipykernel_launcher.py:5: RuntimeWarning: divide by zero encountered in log\n",
      "  \"\"\"\n"
     ]
    },
    {
     "data": {
      "text/plain": [
       "array([-0., inf, inf, inf, inf, inf, inf, inf, inf, inf, inf, inf, inf,\n",
       "       inf, inf, inf, inf, inf, inf, inf, inf, inf, inf, inf, inf, inf,\n",
       "       inf, inf, inf, inf, inf, inf, inf, inf, inf, inf, inf, inf, inf,\n",
       "       inf, inf, inf, inf, inf, inf, inf, inf, inf, inf, inf, inf, inf,\n",
       "       inf, inf, inf, inf, inf, inf, inf, inf, inf, inf, inf, inf, inf,\n",
       "       inf, inf, inf, inf, inf, inf, inf, inf, inf, inf, inf, inf, inf,\n",
       "       inf, inf, inf, inf, inf, inf, inf, inf, inf, inf, inf, inf, inf,\n",
       "       inf, inf, inf, inf, inf, inf, inf, inf, inf])"
      ]
     },
     "execution_count": 84,
     "metadata": {},
     "output_type": "execute_result"
    }
   ],
   "source": [
    "T4=np.einsum(A,[11,4,8,0],A,[8,5,9,1],A,[9,6,10,2],A,[10,7,11,3]).reshape(chiw**4,chiw**4)\n",
    "ew,_ = np.linalg.eig(T4)\n",
    "ew.sort()\n",
    "ew=ew[::-1]\n",
    "el=-np.log(np.abs(ew/ew[0]))\n",
    "(el)[:100]"
   ]
  },
  {
   "cell_type": "code",
   "execution_count": 86,
   "metadata": {},
   "outputs": [
    {
     "data": {
      "text/plain": [
       "array([1.+0.j, 0.+0.j, 0.+0.j, ..., 0.+0.j, 0.+0.j, 0.+0.j])"
      ]
     },
     "execution_count": 86,
     "metadata": {},
     "output_type": "execute_result"
    }
   ],
   "source": [
    "ew"
   ]
  },
  {
   "cell_type": "code",
   "execution_count": 82,
   "metadata": {},
   "outputs": [
    {
     "data": {
      "text/plain": [
       "array([-0.        ,  0.98177172,  0.99669649,  0.99803865,  0.9986423 ,\n",
       "        0.9987946 ,  0.99896682,  0.99909685,  0.99949844,  1.        ,\n",
       "        1.00009002,  1.00029668,  1.00085156,  1.00109714,  1.00207088,\n",
       "        1.00213751,  1.00233087,  1.00297601,  1.00313051,  1.0032219 ,\n",
       "        1.00333175,  1.00335376,  1.00400226,  1.00411341,  1.00437936,\n",
       "        1.00460477,  1.00546215,  1.00629849,  1.00655387,  1.00700243,\n",
       "        1.00739674,  1.00915915,  1.00947787,  1.00973638,  1.01030318,\n",
       "        1.01297456,  1.01440127,  1.01516865,  1.01517105,  1.01736849,\n",
       "        1.01741433,  1.01760444,  1.01828501,  1.01842282,  1.02002835,\n",
       "        1.02283608,  1.0440878 ,  1.03730653,  1.03221008,  1.0319128 ,\n",
       "        1.02529835,  1.02477686,  1.02182697,  1.02069047,  1.02037569,\n",
       "        1.01740282,  1.01486694,  1.01168791,  1.01158466,  1.01093676,\n",
       "        1.01086619,  1.00971888,  1.00907916,  1.0081681 ,  1.0081387 ,\n",
       "        1.0080972 ,  1.00799428,  1.00768553,  1.00715563,  1.00672759,\n",
       "        1.00613316,  1.00482453,  1.00448518,  1.00446285,  1.00418069,\n",
       "        1.00407457,  1.00373099,  1.00334222,  1.00318206,  1.00314953,\n",
       "        1.00310966,  1.00286145,  1.00268799,  1.00228255,  1.00210078,\n",
       "        1.00202424,  1.00190065,  1.00176351,  1.00119405,  1.00044362,\n",
       "        1.00044259,  1.00028963,  1.00012742,  0.99995278,  0.99971294,\n",
       "        0.99874331,  0.99851867,  0.997788  ,  0.9954167 ,  0.52968964])"
      ]
     },
     "execution_count": 82,
     "metadata": {},
     "output_type": "execute_result"
    }
   ],
   "source": [
    "T4=np.einsum(A,[11,4,8,0],A,[8,5,9,1],A,[9,6,10,2],A,[10,7,11,3]).reshape(chiw**4,chiw**4)\n",
    "ew = scipy.sparse.linalg.eigsh(T4, k=100, which='LM', return_eigenvectors=False)\n",
    "ew.sort()\n",
    "ew=ew[::-1]\n",
    "el=-np.log(np.abs(ew/ew[0]))\n",
    "(el/(el[9]-el[0]))[:100]"
   ]
  },
  {
   "cell_type": "code",
   "execution_count": 79,
   "metadata": {},
   "outputs": [
    {
     "name": "stderr",
     "output_type": "stream",
     "text": [
      "c:\\programdata\\miniconda3\\lib\\site-packages\\scipy\\sparse\\linalg\\eigen\\arpack\\arpack.py:1254: RuntimeWarning: k >= N - 1 for N * N square matrix. Attempting to use scipy.linalg.eig instead.\n",
      "  RuntimeWarning)\n",
      "c:\\programdata\\miniconda3\\lib\\site-packages\\ipykernel_launcher.py:5: RuntimeWarning: divide by zero encountered in log\n",
      "  \"\"\"\n",
      "c:\\programdata\\miniconda3\\lib\\site-packages\\ipykernel_launcher.py:6: RuntimeWarning: invalid value encountered in true_divide\n",
      "  \n"
     ]
    },
    {
     "data": {
      "text/plain": [
       "array([-0., nan, nan, nan, nan, nan, nan, nan, nan, nan, nan, nan, nan,\n",
       "       nan, nan, nan, nan, nan, nan, nan, nan, nan, nan, nan, nan, nan,\n",
       "       nan, nan, nan, nan, nan, nan, nan, nan, nan, nan])"
      ]
     },
     "execution_count": 79,
     "metadata": {},
     "output_type": "execute_result"
    }
   ],
   "source": [
    "T4reduced=np.einsum(A,[11,0,8,0],A,[8,5,9,1],A,[9,6,10,2],A,[10,3,11,3]).reshape(chiw**2,chiw**2)\n",
    "ew = scipy.sparse.linalg.eigsh(T4reduced, k=100, which='LM', maxiter=200, tol=1e-5, return_eigenvectors=False)\n",
    "ew.sort()\n",
    "ew=ew[::-1]\n",
    "el=-np.log(np.abs(ew/ew[0]))\n",
    "(el/(el[9]-el[0]))[:100]"
   ]
  },
  {
   "cell_type": "code",
   "execution_count": 38,
   "metadata": {},
   "outputs": [
    {
     "data": {
      "text/plain": [
       "(4, 4, 4, 4, 4, 4, 4, 4)"
      ]
     },
     "execution_count": 38,
     "metadata": {},
     "output_type": "execute_result"
    }
   ],
   "source": [
    "MOq.shape"
   ]
  },
  {
   "cell_type": "code",
   "execution_count": 37,
   "metadata": {},
   "outputs": [
    {
     "name": "stdout",
     "output_type": "stream",
     "text": [
      "vertical truncation err: 0.0\n",
      "horizontal truncation err: 0.0\n",
      "Aout shape: (4, 4, 4, 4)\n"
     ]
    },
    {
     "ename": "ValueError",
     "evalue": "Size of label 'l' for operand 1 (4) does not match previous terms (6).",
     "output_type": "error",
     "traceback": [
      "\u001b[1;31m---------------------------------------------------------------------------\u001b[0m",
      "\u001b[1;31mValueError\u001b[0m                                Traceback (most recent call last)",
      "\u001b[1;32m<ipython-input-37-a13fcd5db7ac>\u001b[0m in \u001b[0;36m<module>\u001b[1;34m()\u001b[0m\n\u001b[0;32m      7\u001b[0m \u001b[0mMOq\u001b[0m\u001b[1;33m=\u001b[0m\u001b[0mMOq_\u001b[0m\u001b[1;33m(\u001b[0m\u001b[0mA0\u001b[0m\u001b[1;33m,\u001b[0m\u001b[0mAz\u001b[0m\u001b[1;33m)\u001b[0m\u001b[1;33m\u001b[0m\u001b[0m\n\u001b[0;32m      8\u001b[0m \u001b[1;33m\u001b[0m\u001b[0m\n\u001b[1;32m----> 9\u001b[1;33m \u001b[0meval_op\u001b[0m\u001b[1;33m(\u001b[0m\u001b[0mMOq\u001b[0m\u001b[1;33m,\u001b[0m\u001b[0mtensor_list\u001b[0m\u001b[1;33m)\u001b[0m\u001b[1;33m\u001b[0m\u001b[0m\n\u001b[0m",
      "\u001b[1;32m~\\Desktop\\TNR\\TNR.py\u001b[0m in \u001b[0;36meval_op\u001b[1;34m(MO0, tensor_list)\u001b[0m\n\u001b[0;32m    239\u001b[0m         \u001b[0mA_list\u001b[0m\u001b[1;33m[\u001b[0m\u001b[0mi\u001b[0m\u001b[1;33m]\u001b[0m\u001b[1;33m,\u001b[0m\u001b[0mU_list\u001b[0m\u001b[1;33m[\u001b[0m\u001b[0mi\u001b[0m\u001b[1;33m]\u001b[0m\u001b[1;33m,\u001b[0m\u001b[0mvl_list\u001b[0m\u001b[1;33m[\u001b[0m\u001b[0mi\u001b[0m\u001b[1;33m]\u001b[0m\u001b[1;33m,\u001b[0m\u001b[0mvr_list\u001b[0m\u001b[1;33m[\u001b[0m\u001b[0mi\u001b[0m\u001b[1;33m]\u001b[0m\u001b[1;33m,\u001b[0m\u001b[0myl_list\u001b[0m\u001b[1;33m[\u001b[0m\u001b[0mi\u001b[0m\u001b[1;33m]\u001b[0m\u001b[1;33m,\u001b[0m\u001b[0myr_list\u001b[0m\u001b[1;33m[\u001b[0m\u001b[0mi\u001b[0m\u001b[1;33m]\u001b[0m\u001b[1;33m,\u001b[0m\u001b[0mD_list\u001b[0m\u001b[1;33m[\u001b[0m\u001b[0mi\u001b[0m\u001b[1;33m]\u001b[0m\u001b[1;33m,\u001b[0m\u001b[0mw_list\u001b[0m\u001b[1;33m[\u001b[0m\u001b[0mi\u001b[0m\u001b[1;33m]\u001b[0m\u001b[1;33m,\u001b[0m\u001b[0mu_list\u001b[0m\u001b[1;33m[\u001b[0m\u001b[0mi\u001b[0m\u001b[1;33m]\u001b[0m\u001b[1;33m,\u001b[0m\u001b[0mv_list\u001b[0m\u001b[1;33m[\u001b[0m\u001b[0mi\u001b[0m\u001b[1;33m]\u001b[0m\u001b[1;33m\u001b[0m\u001b[0m\n\u001b[0;32m    240\u001b[0m         \u001b[0mMA\u001b[0m\u001b[1;33m=\u001b[0m\u001b[0mMscaled_\u001b[0m\u001b[1;33m(\u001b[0m\u001b[0mMAold\u001b[0m\u001b[1;33m,\u001b[0m\u001b[0mA\u001b[0m\u001b[1;33m,\u001b[0m\u001b[0mU\u001b[0m\u001b[1;33m,\u001b[0m\u001b[0mvl\u001b[0m\u001b[1;33m,\u001b[0m\u001b[0mvr\u001b[0m\u001b[1;33m,\u001b[0m\u001b[0myl\u001b[0m\u001b[1;33m,\u001b[0m\u001b[0myr\u001b[0m\u001b[1;33m,\u001b[0m\u001b[0mD\u001b[0m\u001b[1;33m,\u001b[0m\u001b[0mw\u001b[0m\u001b[1;33m,\u001b[0m\u001b[0mu\u001b[0m\u001b[1;33m,\u001b[0m\u001b[0mv\u001b[0m\u001b[1;33m)\u001b[0m\u001b[1;33m\u001b[0m\u001b[0m\n\u001b[1;32m--> 241\u001b[1;33m         \u001b[0mMO\u001b[0m\u001b[1;33m=\u001b[0m\u001b[0mMscaled_\u001b[0m\u001b[1;33m(\u001b[0m\u001b[0mMOold\u001b[0m\u001b[1;33m,\u001b[0m\u001b[0mA\u001b[0m\u001b[1;33m,\u001b[0m\u001b[0mU\u001b[0m\u001b[1;33m,\u001b[0m\u001b[0mvl\u001b[0m\u001b[1;33m,\u001b[0m\u001b[0mvr\u001b[0m\u001b[1;33m,\u001b[0m\u001b[0myl\u001b[0m\u001b[1;33m,\u001b[0m\u001b[0myr\u001b[0m\u001b[1;33m,\u001b[0m\u001b[0mD\u001b[0m\u001b[1;33m,\u001b[0m\u001b[0mw\u001b[0m\u001b[1;33m,\u001b[0m\u001b[0mu\u001b[0m\u001b[1;33m,\u001b[0m\u001b[0mv\u001b[0m\u001b[1;33m)\u001b[0m\u001b[1;33m\u001b[0m\u001b[0m\n\u001b[0m\u001b[0;32m    242\u001b[0m         \u001b[0mMAtrace\u001b[0m\u001b[1;33m=\u001b[0m\u001b[0mMtrace_\u001b[0m\u001b[1;33m(\u001b[0m\u001b[0mMA\u001b[0m\u001b[1;33m)\u001b[0m\u001b[1;33m\u001b[0m\u001b[0m\n\u001b[0;32m    243\u001b[0m         \u001b[0mMA_list\u001b[0m\u001b[1;33m[\u001b[0m\u001b[0mi\u001b[0m\u001b[1;33m+\u001b[0m\u001b[1;36m1\u001b[0m\u001b[1;33m]\u001b[0m\u001b[1;33m=\u001b[0m\u001b[0mMA\u001b[0m\u001b[1;33m/\u001b[0m\u001b[0mMAtrace\u001b[0m\u001b[1;33m\u001b[0m\u001b[0m\n",
      "\u001b[1;32m~\\Desktop\\TNR\\TNR.py\u001b[0m in \u001b[0;36mMscaled_\u001b[1;34m(M, A, U, vl, vr, yl, yr, D, w, u, v)\u001b[0m\n\u001b[0;32m    212\u001b[0m     \u001b[0mgne\u001b[0m\u001b[1;33m=\u001b[0m\u001b[0mgne_\u001b[0m\u001b[1;33m(\u001b[0m\u001b[0mvl\u001b[0m\u001b[1;33m,\u001b[0m\u001b[0mvr\u001b[0m\u001b[1;33m,\u001b[0m\u001b[0myl\u001b[0m\u001b[1;33m,\u001b[0m\u001b[0mD\u001b[0m\u001b[1;33m,\u001b[0m\u001b[0mw\u001b[0m\u001b[1;33m)\u001b[0m\u001b[1;33m\u001b[0m\u001b[0m\n\u001b[0;32m    213\u001b[0m     \u001b[0mgnw\u001b[0m\u001b[1;33m,\u001b[0m\u001b[0mgne\u001b[0m\u001b[1;33m=\u001b[0m\u001b[0mgauge_\u001b[0m\u001b[1;33m(\u001b[0m\u001b[0mgnw\u001b[0m\u001b[1;33m,\u001b[0m\u001b[0mgne\u001b[0m\u001b[1;33m,\u001b[0m\u001b[0mu\u001b[0m\u001b[1;33m,\u001b[0m\u001b[0mv\u001b[0m\u001b[1;33m)\u001b[0m\u001b[1;33m\u001b[0m\u001b[0m\n\u001b[1;32m--> 214\u001b[1;33m     \u001b[0mMscaled\u001b[0m\u001b[1;33m=\u001b[0m\u001b[0mrg_\u001b[0m\u001b[1;33m(\u001b[0m\u001b[0mM\u001b[0m\u001b[1;33m,\u001b[0m\u001b[0mgl\u001b[0m\u001b[1;33m,\u001b[0m\u001b[0mgr\u001b[0m\u001b[1;33m,\u001b[0m\u001b[0mgu\u001b[0m\u001b[1;33m,\u001b[0m\u001b[0mgnw\u001b[0m\u001b[1;33m,\u001b[0m\u001b[0mgne\u001b[0m\u001b[1;33m)\u001b[0m\u001b[1;33m\u001b[0m\u001b[0m\n\u001b[0m\u001b[0;32m    215\u001b[0m     \u001b[1;32mreturn\u001b[0m \u001b[0mMscaled\u001b[0m\u001b[1;33m\u001b[0m\u001b[0m\n\u001b[0;32m    216\u001b[0m \u001b[1;33m\u001b[0m\u001b[0m\n",
      "\u001b[1;32m~\\Desktop\\TNR\\TNR.py\u001b[0m in \u001b[0;36mrg_\u001b[1;34m(M, gl, gr, gu, gnw, gne)\u001b[0m\n\u001b[0;32m    192\u001b[0m \u001b[1;33m\u001b[0m\u001b[0m\n\u001b[0;32m    193\u001b[0m \u001b[1;32mdef\u001b[0m \u001b[0mrg_\u001b[0m\u001b[1;33m(\u001b[0m\u001b[0mM\u001b[0m\u001b[1;33m,\u001b[0m\u001b[0mgl\u001b[0m\u001b[1;33m,\u001b[0m\u001b[0mgr\u001b[0m\u001b[1;33m,\u001b[0m\u001b[0mgu\u001b[0m\u001b[1;33m,\u001b[0m\u001b[0mgnw\u001b[0m\u001b[1;33m,\u001b[0m\u001b[0mgne\u001b[0m\u001b[1;33m)\u001b[0m\u001b[1;33m:\u001b[0m\u001b[1;33m\u001b[0m\u001b[0m\n\u001b[1;32m--> 194\u001b[1;33m     \u001b[1;32mreturn\u001b[0m \u001b[0mnp\u001b[0m\u001b[1;33m.\u001b[0m\u001b[0meinsum\u001b[0m\u001b[1;33m(\u001b[0m\u001b[0mM\u001b[0m\u001b[1;33m,\u001b[0m\u001b[1;33m[\u001b[0m\u001b[1;36m8\u001b[0m\u001b[1;33m,\u001b[0m\u001b[1;36m9\u001b[0m\u001b[1;33m,\u001b[0m\u001b[1;36m10\u001b[0m\u001b[1;33m,\u001b[0m\u001b[1;36m11\u001b[0m\u001b[1;33m,\u001b[0m\u001b[1;36m12\u001b[0m\u001b[1;33m,\u001b[0m\u001b[1;36m13\u001b[0m\u001b[1;33m,\u001b[0m\u001b[1;36m14\u001b[0m\u001b[1;33m,\u001b[0m\u001b[1;36m15\u001b[0m\u001b[1;33m]\u001b[0m\u001b[1;33m,\u001b[0m\u001b[0mgl\u001b[0m\u001b[1;33m,\u001b[0m\u001b[1;33m[\u001b[0m\u001b[1;36m11\u001b[0m\u001b[1;33m,\u001b[0m\u001b[1;36m13\u001b[0m\u001b[1;33m,\u001b[0m\u001b[1;36m19\u001b[0m\u001b[1;33m,\u001b[0m\u001b[1;36m21\u001b[0m\u001b[1;33m]\u001b[0m\u001b[1;33m,\u001b[0m\u001b[0mgr\u001b[0m\u001b[1;33m,\u001b[0m\u001b[1;33m[\u001b[0m\u001b[1;36m10\u001b[0m\u001b[1;33m,\u001b[0m\u001b[1;36m12\u001b[0m\u001b[1;33m,\u001b[0m\u001b[1;36m18\u001b[0m\u001b[1;33m,\u001b[0m\u001b[1;36m20\u001b[0m\u001b[1;33m]\u001b[0m\u001b[1;33m,\u001b[0m\u001b[0mgu\u001b[0m\u001b[1;33m,\u001b[0m\u001b[1;33m[\u001b[0m\u001b[1;36m14\u001b[0m\u001b[1;33m,\u001b[0m\u001b[1;36m15\u001b[0m\u001b[1;33m,\u001b[0m\u001b[1;36m22\u001b[0m\u001b[1;33m,\u001b[0m\u001b[1;36m23\u001b[0m\u001b[1;33m]\u001b[0m\u001b[1;33m,\u001b[0m\u001b[0mgu\u001b[0m\u001b[1;33m.\u001b[0m\u001b[0mconj\u001b[0m\u001b[1;33m(\u001b[0m\u001b[1;33m)\u001b[0m\u001b[1;33m,\u001b[0m\u001b[1;33m[\u001b[0m\u001b[1;36m8\u001b[0m\u001b[1;33m,\u001b[0m\u001b[1;36m9\u001b[0m\u001b[1;33m,\u001b[0m\u001b[1;36m16\u001b[0m\u001b[1;33m,\u001b[0m\u001b[1;36m17\u001b[0m\u001b[1;33m]\u001b[0m\u001b[1;33m,\u001b[0m\u001b[0mgnw\u001b[0m\u001b[1;33m,\u001b[0m\u001b[1;33m[\u001b[0m\u001b[1;36m20\u001b[0m\u001b[1;33m,\u001b[0m\u001b[1;36m22\u001b[0m\u001b[1;33m,\u001b[0m\u001b[1;36m4\u001b[0m\u001b[1;33m,\u001b[0m\u001b[1;36m6\u001b[0m\u001b[1;33m]\u001b[0m\u001b[1;33m,\u001b[0m\u001b[0mgne\u001b[0m\u001b[1;33m,\u001b[0m\u001b[1;33m[\u001b[0m\u001b[1;36m21\u001b[0m\u001b[1;33m,\u001b[0m\u001b[1;36m23\u001b[0m\u001b[1;33m,\u001b[0m\u001b[1;36m5\u001b[0m\u001b[1;33m,\u001b[0m\u001b[1;36m7\u001b[0m\u001b[1;33m]\u001b[0m\u001b[1;33m,\u001b[0m\u001b[0mgnw\u001b[0m\u001b[1;33m.\u001b[0m\u001b[0mconj\u001b[0m\u001b[1;33m(\u001b[0m\u001b[1;33m)\u001b[0m\u001b[1;33m,\u001b[0m\u001b[1;33m[\u001b[0m\u001b[1;36m18\u001b[0m\u001b[1;33m,\u001b[0m\u001b[1;36m16\u001b[0m\u001b[1;33m,\u001b[0m\u001b[1;36m2\u001b[0m\u001b[1;33m,\u001b[0m\u001b[1;36m0\u001b[0m\u001b[1;33m]\u001b[0m\u001b[1;33m,\u001b[0m\u001b[0mgne\u001b[0m\u001b[1;33m.\u001b[0m\u001b[0mconj\u001b[0m\u001b[1;33m(\u001b[0m\u001b[1;33m)\u001b[0m\u001b[1;33m,\u001b[0m\u001b[1;33m[\u001b[0m\u001b[1;36m19\u001b[0m\u001b[1;33m,\u001b[0m\u001b[1;36m17\u001b[0m\u001b[1;33m,\u001b[0m\u001b[1;36m3\u001b[0m\u001b[1;33m,\u001b[0m\u001b[1;36m1\u001b[0m\u001b[1;33m]\u001b[0m\u001b[1;33m,\u001b[0m\u001b[0moptimize\u001b[0m\u001b[1;33m=\u001b[0m\u001b[1;33m(\u001b[0m\u001b[1;34m'greedy'\u001b[0m\u001b[1;33m,\u001b[0m \u001b[1;36m2\u001b[0m\u001b[1;33m**\u001b[0m\u001b[1;36m100\u001b[0m\u001b[1;33m)\u001b[0m\u001b[1;33m)\u001b[0m\u001b[1;33m\u001b[0m\u001b[0m\n\u001b[0m\u001b[0;32m    195\u001b[0m \u001b[1;33m\u001b[0m\u001b[0m\n\u001b[0;32m    196\u001b[0m \u001b[1;32mdef\u001b[0m \u001b[0mgauge_\u001b[0m\u001b[1;33m(\u001b[0m\u001b[0mgnw\u001b[0m\u001b[1;33m,\u001b[0m\u001b[0mgne\u001b[0m\u001b[1;33m,\u001b[0m\u001b[0mu\u001b[0m\u001b[1;33m,\u001b[0m\u001b[0mv\u001b[0m\u001b[1;33m)\u001b[0m\u001b[1;33m:\u001b[0m\u001b[1;33m\u001b[0m\u001b[0m\n",
      "\u001b[1;32mc:\\programdata\\miniconda3\\lib\\site-packages\\numpy\\core\\einsumfunc.py\u001b[0m in \u001b[0;36meinsum\u001b[1;34m(*operands, **kwargs)\u001b[0m\n\u001b[0;32m   1249\u001b[0m     \u001b[1;31m# Build the contraction list and operand\u001b[0m\u001b[1;33m\u001b[0m\u001b[1;33m\u001b[0m\u001b[0m\n\u001b[0;32m   1250\u001b[0m     operands, contraction_list = einsum_path(*operands, optimize=optimize_arg,\n\u001b[1;32m-> 1251\u001b[1;33m                                              einsum_call=True)\n\u001b[0m\u001b[0;32m   1252\u001b[0m \u001b[1;33m\u001b[0m\u001b[0m\n\u001b[0;32m   1253\u001b[0m     \u001b[0mhandle_out\u001b[0m \u001b[1;33m=\u001b[0m \u001b[1;32mFalse\u001b[0m\u001b[1;33m\u001b[0m\u001b[0m\n",
      "\u001b[1;32mc:\\programdata\\miniconda3\\lib\\site-packages\\numpy\\core\\einsumfunc.py\u001b[0m in \u001b[0;36meinsum_path\u001b[1;34m(*operands, **kwargs)\u001b[0m\n\u001b[0;32m    868\u001b[0m                     raise ValueError(\"Size of label '%s' for operand %d (%d) \"\n\u001b[0;32m    869\u001b[0m                                      \u001b[1;34m\"does not match previous terms (%d).\"\u001b[0m\u001b[1;33m\u001b[0m\u001b[0m\n\u001b[1;32m--> 870\u001b[1;33m                                      % (char, tnum, dimension_dict[char], dim))\n\u001b[0m\u001b[0;32m    871\u001b[0m             \u001b[1;32melse\u001b[0m\u001b[1;33m:\u001b[0m\u001b[1;33m\u001b[0m\u001b[0m\n\u001b[0;32m    872\u001b[0m                 \u001b[0mdimension_dict\u001b[0m\u001b[1;33m[\u001b[0m\u001b[0mchar\u001b[0m\u001b[1;33m]\u001b[0m \u001b[1;33m=\u001b[0m \u001b[0mdim\u001b[0m\u001b[1;33m\u001b[0m\u001b[0m\n",
      "\u001b[1;31mValueError\u001b[0m: Size of label 'l' for operand 1 (4) does not match previous terms (6)."
     ]
    }
   ],
   "source": [
    "#eval mag\n",
    "tensor_list={}\n",
    "tensor_list['A'],tensor_list['U'],tensor_list['vl'],tensor_list['vr'],tensor_list['yl'],tensor_list['yr'],tensor_list['D'],tensor_list['w'],tensor_list['u'],tensor_list['v']=A_list,U_list,vl_list,vr_list,yl_list,yr_list,D_list,w_list,u_list,v_list\n",
    "op=sz\n",
    "A0=Asplit(Ainit,chi)\n",
    "Az=Az_(Ainit,chi)\n",
    "MOq=MOq_(A0,Az)\n",
    "\n",
    "eval_op(MOq,tensor_list)  "
   ]
  },
  {
   "cell_type": "code",
   "execution_count": 28,
   "metadata": {},
   "outputs": [
    {
     "name": "stdout",
     "output_type": "stream",
     "text": [
      "0.629648162973007\n"
     ]
    }
   ],
   "source": [
    "#exact value\n",
    "mag_exact=(1-np.sinh(2/T)**(-4))**(1/8)\n",
    "print(mag_exact)"
   ]
  },
  {
   "cell_type": "markdown",
   "metadata": {},
   "source": [
    "scaling dimensions"
   ]
  },
  {
   "cell_type": "code",
   "execution_count": 24,
   "metadata": {},
   "outputs": [],
   "source": [
    "i=3\n",
    "A=A_list[i+1]\n",
    "Aold,U,vl,vr,yl,yr,D,w,u,v=A_list[i],U_list[i],vl_list[i],vr_list[i],yl_list[i],yr_list[i],D_list[i],w_list[i],u_list[i],v_list[i]\n",
    "\n",
    "gl=gl_(vl)\n",
    "gr=gr_(vr)\n",
    "gu=gu_(Aold,U,vl,vr)\n",
    "gnw=gnw_(vl,vr,yr,D,w)\n",
    "gne=gne_(vl,vr,yl,D,w)\n",
    "gnw,gne=gauge_(gnw,gne,u,v)\n",
    "\n",
    "chiytemp=min(chiy,Aold.shape[0])\n",
    "chiwtemp=min(chiw,Aold.shape[1])\n",
    "def scaleop(v):\n",
    "    M=v.reshape(chiwtemp,chiwtemp,chiytemp,chiytemp,chiytemp,chiytemp,chiwtemp,chiwtemp)\n",
    "    Mscaled=rg_(M,gl,gr,gu,gnw,gne)\n",
    "    return Mscaled.flatten()\n",
    "\n",
    "n=chiwtemp**4*chiytemp**4"
   ]
  },
  {
   "cell_type": "code",
   "execution_count": 25,
   "metadata": {},
   "outputs": [
    {
     "data": {
      "text/plain": [
       "array([-0.        ,  1.82548082,  1.84913751,  1.90390264,  1.90861535,\n",
       "        2.04672911,  2.05618218,  2.79575673,  2.88839787,  3.2273013 ,\n",
       "        3.29335963,  3.34877207,  3.37503155,  3.55961591,  3.67312588,\n",
       "        3.74014019,  3.74075378,  3.74605071,  3.81223776,  3.84210499])"
      ]
     },
     "execution_count": 25,
     "metadata": {},
     "output_type": "execute_result"
    }
   ],
   "source": [
    "import scipy\n",
    "from scipy.sparse.linalg import LinearOperator\n",
    "\n",
    "N_level=20\n",
    "Atemp = LinearOperator((n,n), matvec = scaleop, dtype='complex')\n",
    "ew = scipy.sparse.linalg.eigs(Atemp, k=N_level, which='LM', maxiter=200, tol=1e-5, return_eigenvectors=False)\n",
    "ew=ew[::-1]\n",
    "-np.log2(np.abs(ew/ew[0]))"
   ]
  },
  {
   "cell_type": "code",
   "execution_count": 228,
   "metadata": {},
   "outputs": [
    {
     "data": {
      "text/plain": [
       "array([-0.        ,  0.18126637,  0.56473003,  0.7651075 ,  0.82930577,\n",
       "        0.93717961,  1.15840441,  1.16340123,  1.21039609,  1.23688751,\n",
       "        1.46377128,  1.54051149,  1.57518613,  1.57518613,  1.64407593,\n",
       "        1.64407593,  1.64840365,  1.86336301,  1.8636821 ,  1.86368214])"
      ]
     },
     "execution_count": 228,
     "metadata": {},
     "output_type": "execute_result"
    }
   ],
   "source": [
    "i=3\n",
    "A=A_list[i+1]\n",
    "Aold,U,vl,vr,yl,yr,D,w,u,v=A_list[i],U_list[i],vl_list[i],vr_list[i],yl_list[i],yr_list[i],D_list[i],w_list[i],u_list[i],v_list[i]\n",
    "\n",
    "\n",
    "wgauged=w@u\n",
    "# wgauged=w\n",
    "\n",
    "def scaleop(v):\n",
    "    M=v.reshape(chiw,chiw,chiw,chiw)\n",
    "    mera=np.einsum(M,[0,1,2,3],U,[0,1,8,9],wgauged,[12,8,4],wgauged,[9,13,5],U.conj(),[2,3,10,11],wgauged.conj(),[12,10,6],wgauged.conj(),[11,13,7],optimize=(\"greedy\",2**100))\n",
    "    return mera.flatten()\n",
    "\n",
    "n=chiw**4\n",
    "\n",
    "import scipy\n",
    "from scipy.sparse.linalg import LinearOperator\n",
    "\n",
    "N_level=20\n",
    "Atemp = LinearOperator((n,n), matvec = scaleop, dtype='complex')\n",
    "ew = scipy.sparse.linalg.eigs(Atemp, k=20,which='LM', maxiter=200, tol=1e-5, return_eigenvectors=False)\n",
    "ew=ew[::-1]\n",
    "-np.log2(np.abs(ew/ew[0]))"
   ]
  },
  {
   "cell_type": "code",
   "execution_count": 11,
   "metadata": {},
   "outputs": [],
   "source": [
    "# compress legs\n",
    "\n",
    "# def wrenv_(A):\n",
    "#     return np.einsum(A,[5,6,0,8],A,[4,7,1,6],A.conj(),[4,7,3,9],A.conj(),[5,9,2,8])\n",
    "# def wlenv_(A):\n",
    "#     return np.einsum(A,[0,6,5,8],A,[1,7,4,6],A.conj(),[3,7,4,9],A.conj(),[2,9,5,8])\n",
    "# def wvenv_(A):\n",
    "#     return np.einsum(A,[8,0,6,5],A,[6,1,7,4],A.conj(),[8,2,9,5],A.conj(),[9,3,7,4])\n",
    "# chik=20\n",
    "# wrenv=wrenv_(A)\n",
    "# _,wr=compress(wrenv,chik)\n",
    "# wlenv=wlenv_(A)\n",
    "# _,wl=compress(wlenv,chik)\n",
    "# wvenv=wvenv_(A)\n",
    "# _,wv=compress(wvenv,chik)\n",
    "\n",
    "# wrenv=wrenv_(Aold)\n",
    "# _,wrold=compress(wrenv,chik)\n",
    "# wlenv=wlenv_(Aold)\n",
    "# _,wlold=compress(wlenv,chik)\n",
    "# wvenv=wvenv_(Aold)\n",
    "# _,wvold=compress(wvenv,chik)\n",
    "\n",
    "# glw=np.einsum(gl,[3,4,1,2],wrold.conj(),[3,4,0])\n",
    "# grw=np.einsum(gr,[3,4,1,2],wlold.conj(),[3,4,0])\n",
    "# guw=np.einsum(gu,[3,4,1,2],wvold.conj(),[3,4,0])\n",
    "\n",
    "# def scaleop(v):\n",
    "#     v4=v.reshape(chik,chik,chik,chik)\n",
    "#     out=np.einsum(v4,[8,9,10,11],glw,[10,19,21],grw,[8,18,20],guw,[9,22,23],guw.conj(),[11,16,17],gnw,[20,22,5,14],gne,[21,23,7,15],gnw.conj(),[18,16,4,12],gne.conj(),[19,17,6,13],wl,[4,5,0],wr,[6,7,2],wv,[14,15,1],wv.conj(),[12,13,3],optimize=('greedy',2**100))\n",
    "#     return out.flatten()\n",
    "# def rscaleop(v):\n",
    "#     v4=v.reshape(chik,chik,chik,chik)\n",
    "#     out=np.einsum(v4.conj(),[0,1,2,3],glw,[10,19,21],grw,[8,18,20],guw,[9,22,23],guw.conj(),[11,16,17],gnw,[20,22,5,14],gne,[21,23,7,15],gnw.conj(),[18,16,4,12],gne.conj(),[19,17,6,13],wl,[4,5,0],wr,[6,7,2],wv,[14,15,1],wv.conj(),[12,13,3],optimize=('greedy',2**100))\n",
    "#     return out.flatten().conj()\n",
    "\n",
    "# n=chik**4"
   ]
  },
  {
   "cell_type": "code",
   "execution_count": 29,
   "metadata": {},
   "outputs": [
    {
     "name": "stdout",
     "output_type": "stream",
     "text": [
      "vertical truncation err: 0.0\n",
      "horizontal truncation err: 0.0\n",
      "Aout shape: (4, 4, 4, 4)\n"
     ]
    }
   ],
   "source": [
    "def Az_(Ainit,chi):\n",
    "    #input: Ainit, chi, op: operator acting on a leg\n",
    "    #output:up-down symmetric Aout\n",
    "    chiw,chiy,chiu,chiv=chi['w'],chi['y'],chi['u'],chi['v']\n",
    "\n",
    "   #vertical cut\n",
    "    w1,vtemp=compress(Ainit,chiw)\n",
    "    v=vtemp.conj()*np.sqrt(w1)\n",
    "\n",
    "    #horizontal cut\n",
    "    vl2,w2,vr2,tr2= h_cut(Ainit,chiy)\n",
    "    \n",
    "    Aout=np.einsum(vr2*np.sqrt(w2),[4,5,0],v,[5,7,1],vl2*np.sqrt(w2),[6,7,2],v.conj(),[4,6,3])\n",
    "    Anorm=np.linalg.norm(Aout)\n",
    "    \n",
    "    Azout=0.5*(np.einsum(vr2*np.sqrt(w2),[4,5,0],v,[5,7,1],sz@vl2*np.sqrt(w2),[6,7,2],v.conj(),[4,6,3])+np.einsum(vr2*np.sqrt(w2),[4,5,0],v,[5,7,1],vl2*np.sqrt(w2),[6,7,2],sz@v.conj(),[4,6,3]))\n",
    "    Anorm=np.linalg.norm(Aout)\n",
    "    return Azout/Anorm\n",
    "\n",
    "def MOq_(A0,Az):\n",
    "    return 0.5*(np.einsum(A0,[2,9,8,0],A0,[8,10,3,1],A0,[4,6,11,9],Az,[11,7,5,10])+np.einsum(A0,[2,9,8,0],Az,[8,10,3,1],A0,[4,6,11,9],A0,[11,7,5,10]))"
   ]
  },
  {
   "cell_type": "code",
   "execution_count": 30,
   "metadata": {},
   "outputs": [],
   "source": []
  },
  {
   "cell_type": "code",
   "execution_count": 31,
   "metadata": {},
   "outputs": [
    {
     "data": {
      "text/plain": [
       "(4, 4, 4, 4, 4, 4, 4, 4)"
      ]
     },
     "execution_count": 31,
     "metadata": {},
     "output_type": "execute_result"
    }
   ],
   "source": [
    "MOq.shape"
   ]
  },
  {
   "cell_type": "code",
   "execution_count": null,
   "metadata": {},
   "outputs": [],
   "source": []
  }
 ],
 "metadata": {
  "kernelspec": {
   "display_name": "Python 3",
   "language": "python",
   "name": "python3"
  },
  "language_info": {
   "codemirror_mode": {
    "name": "ipython",
    "version": 3
   },
   "file_extension": ".py",
   "mimetype": "text/x-python",
   "name": "python",
   "nbconvert_exporter": "python",
   "pygments_lexer": "ipython3",
   "version": "3.6.5"
  }
 },
 "nbformat": 4,
 "nbformat_minor": 2
}
