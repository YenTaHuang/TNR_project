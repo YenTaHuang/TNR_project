{
 "cells": [
  {
   "cell_type": "code",
   "execution_count": 1,
   "metadata": {},
   "outputs": [],
   "source": [
    "%load_ext autoreload\n",
    "%autoreload 2\n",
    "from TNR import *"
   ]
  },
  {
   "cell_type": "code",
   "execution_count": 2,
   "metadata": {},
   "outputs": [],
   "source": [
    "# htemp=KP(s0,sx,sx,s0)+KP(s0,sy,sy,s0)+KP(s0,sz,sz,s0)\n",
    "# htemp=KP(sx,sx,s0,s0)+KP(sy,sy,s0,s0)+KP(sz,sz,s0,s0)\n",
    "# htemp=KP(sz,sz)+(KP(sx,s0)+KP(s0,sx))/4\n",
    "\n",
    "# d=int(np.sqrt(htemp.shape[0]))\n",
    "# Ainit=expm(-htemp).reshape(d,d,d,d)\n",
    "# A0=Asplit(Ainit,chi)\n",
    "\n",
    "na=np.newaxis\n",
    "s=np.array([1,-1])\n",
    "Tc=2/np.log(1+np.sqrt(2))\n",
    "T=0.995*Tc\n",
    "A0=np.exp(-1/T*(s[:,na,na,na]*s[na,:,na,na]+s[na,:,na,na]*s[na,na,:,na]\\\n",
    "                +s[na,na,:,na]*s[na,na,na,:]+s[na,na,na,:]*s[:,na,na,na]))\n",
    "A0/=np.linalg.norm(A0)\n",
    "\n",
    "chi={}\n",
    "chi['w'],chi['y'],chi['u'],chi['v']=6,6,6,6\n",
    "chiw,chiy,chiu,chiv=chi['w'],chi['y'],chi['u'],chi['v']"
   ]
  },
  {
   "cell_type": "code",
   "execution_count": 3,
   "metadata": {},
   "outputs": [
    {
     "name": "stdout",
     "output_type": "stream",
     "text": [
      "RG step:  0\n",
      "iter=0, U.Uenv=0.578607\n",
      "iter=100, U.Uenv=0.578608\n",
      "iter=200, U.Uenv=0.578608\n",
      "error in U, vl, vr optimization: 1.70719e-12\n",
      "error in yl, yr, D optimization: 0.0027255\n",
      "error in w optimization: 0.0424534\n",
      "Anew.shape!=Aold.shape, skip fix_gauge\n",
      "\n",
      "RG step:  1\n",
      "iter=0, U.Uenv=0.487724\n",
      "iter=100, U.Uenv=0.488137\n",
      "iter=200, U.Uenv=0.488138\n",
      "iter=300, U.Uenv=0.488139\n",
      "iter=400, U.Uenv=0.488139\n",
      "iter=500, U.Uenv=0.488139\n",
      "error in U, vl, vr optimization: 0.00525789\n",
      "error in yl, yr, D optimization: 0.0130059\n",
      "error in w optimization: 0.0214653\n",
      "iter=0, u.uenv=0.32938, v.venv=0.96752\n",
      "iter=1000, u.uenv=0.971332, v.venv=0.971332\n",
      "iter=2000, u.uenv=0.971332, v.venv=0.971332\n",
      "Adiff 0.239451\n",
      "\n",
      "RG step:  2\n",
      "iter=0, U.Uenv=0.523665\n",
      "iter=100, U.Uenv=0.523735\n",
      "iter=200, U.Uenv=0.523735\n",
      "iter=300, U.Uenv=0.523735\n",
      "error in U, vl, vr optimization: 0.00243891\n",
      "error in yl, yr, D optimization: 0.00274795\n",
      "error in w optimization: 0.0190256\n",
      "iter=0, u.uenv=0.372206, v.venv=0.952316\n",
      "iter=1000, u.uenv=0.972607, v.venv=0.972607\n",
      "iter=2000, u.uenv=0.972607, v.venv=0.972607\n",
      "Adiff 0.234063\n",
      "\n",
      "RG step:  3\n",
      "iter=0, U.Uenv=0.495836\n",
      "iter=100, U.Uenv=0.495893\n",
      "iter=200, U.Uenv=0.495897\n",
      "iter=300, U.Uenv=0.495897\n",
      "iter=400, U.Uenv=0.495897\n",
      "iter=500, U.Uenv=0.495897\n",
      "error in U, vl, vr optimization: 0.00165342\n",
      "error in yl, yr, D optimization: 0.00309929\n",
      "error in w optimization: 0.0207514\n",
      "iter=0, u.uenv=0.826646, v.venv=0.852555\n",
      "iter=1000, u.uenv=0.996326, v.venv=0.996326\n",
      "iter=2000, u.uenv=0.996326, v.venv=0.996326\n",
      "Adiff 0.0857259\n",
      "\n",
      "RG step:  4\n",
      "iter=0, U.Uenv=0.49149\n",
      "iter=100, U.Uenv=0.491554\n",
      "iter=200, U.Uenv=0.491557\n",
      "iter=300, U.Uenv=0.491557\n",
      "iter=400, U.Uenv=0.491557\n",
      "iter=500, U.Uenv=0.491557\n",
      "error in U, vl, vr optimization: 0.00158043\n",
      "error in yl, yr, D optimization: 0.00309779\n",
      "error in w optimization: 0.0251562\n",
      "iter=0, u.uenv=0.929045, v.venv=0.99378\n",
      "iter=1000, u.uenv=0.998295, v.venv=0.998295\n",
      "iter=2000, u.uenv=0.998295, v.venv=0.998295\n",
      "Adiff 0.058393\n",
      "\n",
      "RG step:  5\n",
      "iter=0, U.Uenv=0.484372\n",
      "iter=100, U.Uenv=0.484454\n",
      "iter=200, U.Uenv=0.484455\n",
      "iter=300, U.Uenv=0.484455\n",
      "iter=400, U.Uenv=0.484455\n",
      "iter=500, U.Uenv=0.484455\n",
      "error in U, vl, vr optimization: 0.00173846\n",
      "error in yl, yr, D optimization: 0.00305034\n",
      "error in w optimization: 0.0238116\n",
      "iter=0, u.uenv=0.868327, v.venv=0.968359\n",
      "iter=1000, u.uenv=0.993937, v.venv=0.993937\n",
      "iter=2000, u.uenv=0.993937, v.venv=0.993937\n",
      "Adiff 0.110122\n",
      "\n",
      "RG step:  6\n",
      "iter=0, U.Uenv=0.49203\n",
      "iter=100, U.Uenv=0.492092\n",
      "iter=200, U.Uenv=0.492093\n",
      "iter=300, U.Uenv=0.492093\n",
      "iter=400, U.Uenv=0.492093\n",
      "iter=500, U.Uenv=0.492093\n",
      "error in U, vl, vr optimization: 0.00165679\n",
      "error in yl, yr, D optimization: 0.00225961\n",
      "error in w optimization: 0.017354\n",
      "iter=0, u.uenv=0.599808, v.venv=0.676242\n",
      "iter=1000, u.uenv=0.961299, v.venv=0.961299\n",
      "iter=2000, u.uenv=0.961299, v.venv=0.961299\n",
      "Adiff 0.278213\n",
      "\n",
      "RG step:  7\n",
      "iter=0, U.Uenv=0.667687\n",
      "iter=100, U.Uenv=0.667705\n",
      "iter=200, U.Uenv=0.667705\n",
      "iter=300, U.Uenv=0.667705\n",
      "iter=400, U.Uenv=0.667705\n",
      "iter=500, U.Uenv=0.667705\n",
      "iter=600, U.Uenv=0.667705\n",
      "error in U, vl, vr optimization: 0.00110995\n",
      "error in yl, yr, D optimization: 0.000513022\n",
      "error in w optimization: 0.00254554\n",
      "iter=0, u.uenv=0.454852, v.venv=0.599235\n",
      "iter=1000, u.uenv=0.910103, v.venv=0.910103\n",
      "iter=2000, u.uenv=0.910141, v.venv=0.910141\n",
      "iter=3000, u.uenv=0.910141, v.venv=0.910141\n",
      "Adiff 0.423931\n",
      "\n",
      "RG step:  8\n",
      "iter=0, U.Uenv=0.991174\n",
      "iter=100, U.Uenv=0.991174\n",
      "iter=200, U.Uenv=0.991174\n",
      "iter=300, U.Uenv=0.991174\n",
      "iter=400, U.Uenv=0.991174\n",
      "iter=500, U.Uenv=0.991174\n",
      "iter=600, U.Uenv=0.991174\n",
      "iter=700, U.Uenv=0.991174\n",
      "error in U, vl, vr optimization: 7.9206e-05\n",
      "error in yl, yr, D optimization: 9.13861e-07\n",
      "error in w optimization: 2.45607e-05\n",
      "iter=0, u.uenv=0.43735, v.venv=0.755253\n",
      "iter=1000, u.uenv=0.998413, v.venv=0.998413\n",
      "iter=2000, u.uenv=0.998413, v.venv=0.998413\n",
      "Adiff 0.0563388\n",
      "\n",
      "RG step:  9\n",
      "iter=0, U.Uenv=0.99838\n",
      "iter=100, U.Uenv=0.99838\n",
      "iter=200, U.Uenv=0.99838\n",
      "iter=300, U.Uenv=0.99838\n",
      "error in U, vl, vr optimization: 2.63479e-07\n",
      "error in yl, yr, D optimization: 0.000276749\n",
      "error in w optimization: 0.0165228\n",
      "iter=0, u.uenv=0.44237, v.venv=0.756878\n",
      "iter=1000, u.uenv=0.999215, v.venv=0.999215\n",
      "iter=2000, u.uenv=0.999215, v.venv=0.999215\n",
      "Adiff 0.0396238\n",
      "\n"
     ]
    }
   ],
   "source": [
    "RGsteps=10\n",
    "A_list=[None]*(RGsteps+1)\n",
    "Anorm_list=[None]*(RGsteps+1)\n",
    "B_list,U_list,vl_list,vr_list,yl_list,yr_list,D_list,w_list,u_list,v_list=[[None]*RGsteps for i in range(10)]\n",
    "A_list[0]=A0\n",
    "\n",
    "for i in range(RGsteps):\n",
    "    print('RG step: ',i)\n",
    "    Aold=A_list[i]\n",
    "    B,U,vl,vr,yl,yr,D,w,u,v,A,Anorm=doTNR(Aold,chi)\n",
    "    B_list[i],U_list[i],vl_list[i],vr_list[i],yl_list[i],yr_list[i],D_list[i],w_list[i],u_list[i],v_list[i],A_list[i+1],Anorm_list[i+1]=\\\n",
    "    B,U,vl,vr,yl,yr,D,w,u,v,A,Anorm\n",
    "    print()"
   ]
  },
  {
   "cell_type": "code",
   "execution_count": 4,
   "metadata": {},
   "outputs": [],
   "source": [
    "# def Az_(Ainit,chi):\n",
    "#     #input: Ainit, chi, op: operator acting on a leg\n",
    "#     #output:up-down symmetric Aout\n",
    "#     chiw,chiy,chiu,chiv=chi['w'],chi['y'],chi['u'],chi['v']\n",
    "#     As=Ainit.shape\n",
    "    \n",
    "#     #vertical cut\n",
    "#     Av=Ainit.reshape(As[0]*As[1],As[2]*As[3])\n",
    "#     dtemp,vtemp=eigCut(Av,chiw)\n",
    "#     v=(vtemp*np.sqrt(dtemp)).reshape(As[0],As[1],min(chiw,As[0]*As[1]))\n",
    "\n",
    "#     #horizontal cut\n",
    "#     vl2,w,vr2= h_cut(Ainit,chiy)\n",
    "#     Aout=np.einsum(vr2,[4,5,0],v,[5,7,1],vl2*w,[6,7,2],v.conj(),[4,6,3])\n",
    "#     Azout=0.5*(np.einsum(vr2,[4,5,0],v,[5,7,1],sz@vl2*w,[6,7,2],v.conj(),[4,6,3])+np.einsum(vr2,[4,5,0],v,[5,7,1],vl2*w,[6,7,2],sz@v.conj(),[4,6,3]))\n",
    "#     Anorm=np.linalg.norm(Aout)\n",
    "#     return Azout/Anorm\n",
    "\n",
    "# A0=Asplit(Ainit,chi)\n",
    "# Az=Az_(Ainit,chi)\n",
    "# def MZ_(A0,Az):\n",
    "#     return np.einsum(Az,[2,9,8,0],A0,[8,10,3,1],A0,[4,6,11,9],A0,[11,7,5,10])"
   ]
  },
  {
   "cell_type": "code",
   "execution_count": 4,
   "metadata": {},
   "outputs": [
    {
     "name": "stdout",
     "output_type": "stream",
     "text": [
      "<O>= (-2.243723498735813e-06+0j)\n",
      "<O>= (-0.0008295331526040248+0j)\n",
      "<O>= (-0.004181060884186793+0j)\n",
      "<O>= (-0.01640087309536384+0j)\n",
      "<O>= (-0.06159852790421861+0j)\n",
      "<O>= (-0.22717044955701068+0j)\n",
      "<O>= (-0.569975652495356+0j)\n",
      "<O>= (-0.630641623348859+0j)\n",
      "<O>= (-0.6306500154054485+0j)\n",
      "<O>= (-0.6306500154054473+0j)\n"
     ]
    },
    {
     "data": {
      "text/plain": [
       "(-0.6306500154054473-1.8407463859917004e-17j)"
      ]
     },
     "execution_count": 4,
     "metadata": {},
     "output_type": "execute_result"
    }
   ],
   "source": [
    "tensor_list={}\n",
    "tensor_list['A'],tensor_list['U'],tensor_list['vl'],tensor_list['vr'],tensor_list['yl'],tensor_list['yr'],tensor_list['D'],tensor_list['w'],tensor_list['u'],tensor_list['v']=A_list,U_list,vl_list,vr_list,yl_list,yr_list,D_list,w_list,u_list,v_list\n",
    "op=sz\n",
    "eval_op(op,tensor_list)"
   ]
  },
  {
   "cell_type": "code",
   "execution_count": 5,
   "metadata": {},
   "outputs": [
    {
     "name": "stdout",
     "output_type": "stream",
     "text": [
      "0.629648162973007\n"
     ]
    }
   ],
   "source": [
    "#exact value\n",
    "mag_exact=(1-np.sinh(2/T)**(-4))**(1/8)\n",
    "print(mag_exact)"
   ]
  },
  {
   "cell_type": "markdown",
   "metadata": {},
   "source": [
    "scaling dimensions"
   ]
  },
  {
   "cell_type": "code",
   "execution_count": 132,
   "metadata": {},
   "outputs": [],
   "source": [
    "i=3\n",
    "A=A_list[i+1]\n",
    "Aold,U,vl,vr,yl,yr,D,w,u,v=A_list[i],U_list[i],vl_list[i],vr_list[i],yl_list[i],yr_list[i],D_list[i],w_list[i],u_list[i],v_list[i]\n",
    "def wrenv_(A):\n",
    "    return np.einsum(A,[5,6,0,8],A,[4,7,1,6],A.conj(),[4,7,3,9],A.conj(),[5,9,2,8])\n",
    "def wlenv_(A):\n",
    "    return np.einsum(A,[0,6,5,8],A,[1,7,4,6],A.conj(),[3,7,4,9],A.conj(),[2,9,5,8])\n",
    "def wvenv_(A):\n",
    "    return np.einsum(A,[8,0,6,5],A,[6,1,7,4],A.conj(),[8,2,9,5],A.conj(),[9,3,7,4])\n",
    "chik=20\n",
    "wrenv=wrenv_(A)\n",
    "_,wr=compress(wrenv,chik)\n",
    "wlenv=wlenv_(A)\n",
    "_,wl=compress(wlenv,chik)\n",
    "wvenv=wvenv_(A)\n",
    "_,wv=compress(wvenv,chik)\n",
    "\n",
    "wrenv=wrenv_(Aold)\n",
    "_,wrold=compress(wrenv,chik)\n",
    "wlenv=wlenv_(Aold)\n",
    "_,wlold=compress(wlenv,chik)\n",
    "wvenv=wvenv_(Aold)\n",
    "_,wvold=compress(wvenv,chik)"
   ]
  },
  {
   "cell_type": "code",
   "execution_count": 134,
   "metadata": {},
   "outputs": [],
   "source": [
    "def gauge_(gnw,gne,u,v):\n",
    "    if type(u)==type(None):\n",
    "        return gnw,gne\n",
    "    else:\n",
    "        gnw_gauged=np.einsum(gnw@u,[0,1,4,3],v.conj(),[4,2])\n",
    "        gne_gauged=np.einsum(gne@u,[0,1,4,3],v,[4,2])\n",
    "        return gnw_gauged,gne_gauged"
   ]
  },
  {
   "cell_type": "code",
   "execution_count": 135,
   "metadata": {},
   "outputs": [],
   "source": [
    "gl=gl_(vl)\n",
    "gr=gr_(vr)\n",
    "gu=gu_(Aold,U,vl,vr)\n",
    "gnw=gnw_(vl,vr,yr,D,w)\n",
    "gne=gne_(vl,vr,yl,D,w)\n",
    "gnw,gne=gauge_(gnw,gne,u,v)"
   ]
  },
  {
   "cell_type": "code",
   "execution_count": 136,
   "metadata": {},
   "outputs": [],
   "source": [
    "glw=np.einsum(gl,[3,4,1,2],wrold.conj(),[3,4,0])\n",
    "grw=np.einsum(gr,[3,4,1,2],wlold.conj(),[3,4,0])\n",
    "guw=np.einsum(gu,[3,4,1,2],wvold.conj(),[3,4,0])\n",
    "def scaleop(v):\n",
    "    v4=v.reshape(chik,chik,chik,chik)\n",
    "    out=np.einsum(v4,[8,9,10,11],glw,[10,19,21],grw,[8,18,20],guw,[9,22,23],guw.conj(),[11,16,17],gnw,[20,22,5,14],gne,[21,23,7,15],gnw.conj(),[18,16,4,12],gne.conj(),[19,17,6,13],wl,[4,5,0],wr,[6,7,2],wv,[14,15,1],wv.conj(),[12,13,3],optimize=('greedy',2**100))\n",
    "    return out.flatten()\n",
    "def rscaleop(v):\n",
    "    v4=v.reshape(chik,chik,chik,chik)\n",
    "    out=np.einsum(v4.conj(),[0,1,2,3],glw,[10,19,21],grw,[8,18,20],guw,[9,22,23],guw.conj(),[11,16,17],gnw,[20,22,5,14],gne,[21,23,7,15],gnw.conj(),[18,16,4,12],gne.conj(),[19,17,6,13],wl,[4,5,0],wr,[6,7,2],wv,[14,15,1],wv.conj(),[12,13,3],optimize=('greedy',2**100))\n",
    "    return out.flatten().conj()"
   ]
  },
  {
   "cell_type": "code",
   "execution_count": 137,
   "metadata": {},
   "outputs": [],
   "source": [
    "import scipy\n",
    "from scipy.sparse.linalg import LinearOperator\n",
    "\n",
    "n=chik**4\n",
    "N_level=100\n",
    "Atemp = LinearOperator((n,n), matvec = scaleop, rmatvec = rscaleop, dtype='complex')"
   ]
  },
  {
   "cell_type": "code",
   "execution_count": 131,
   "metadata": {},
   "outputs": [
    {
     "data": {
      "text/plain": [
       "array([-0.        ,  0.09603869,  0.91314976,  1.03848894,  1.06049471,\n",
       "        1.88906926,  1.8310601 ,  1.78338902,  1.79179025,  1.8029546 ,\n",
       "        1.80086261,  2.05807152,  2.6474452 ,  2.67695708,  2.68392507,\n",
       "        2.69090698,  2.69820594,  2.71221363,  2.71553667,  2.7839871 ,\n",
       "        2.86627828,  2.88596264,  2.90992285,  3.47578695,  3.86478737,\n",
       "        3.52927954,  3.53658895,  3.72750857,  3.54894076,  3.55323468,\n",
       "        3.5667369 ,  3.68394283,  3.68572378,  3.63953118,  3.63170705,\n",
       "        3.61009888,  3.59948529,  3.5964812 ,  3.59310579,  3.59370726,\n",
       "        4.06587343,  4.3095935 ,  4.33300921,  4.39531287,  4.41209089,\n",
       "        4.4227364 ,  4.44155912,  4.44520043,  4.48451282,  4.48828176,\n",
       "        4.51632999,  4.51225545,  4.50742162,  4.5083088 ,  4.53813752,\n",
       "        4.58233647,  4.58756364,  4.59119291,  4.62191793,  4.63078248,\n",
       "        4.63639507,  4.64094846,  4.67124122,  4.69192808,  4.71518756,\n",
       "        4.87547209,  4.92198759,  5.11087829,  5.14787624,  5.29870267,\n",
       "        5.31268439,  5.32700546,  5.33304874,  5.3370132 ,  5.34127868,\n",
       "        5.34755229,  5.35174857,  5.35769773,  5.36212818,  5.36911004,\n",
       "        5.37379126,  5.38020349,  5.38537947,  5.39364254,  5.39878286,\n",
       "        5.40907764,  5.40658718,  5.42935844,  5.45046389,  5.45646703,\n",
       "        5.47229522,  5.48482564,  5.49839313,  5.50389015,  5.5113101 ,\n",
       "        5.5217478 ,  5.58916224,  5.60967884,  5.66332045,  5.67554877])"
      ]
     },
     "execution_count": 131,
     "metadata": {},
     "output_type": "execute_result"
    }
   ],
   "source": [
    "ew = scipy.sparse.linalg.svds(Atemp, k=N_level, which='LM', maxiter=200, tol=1e-5, return_singular_vectors=False)\n",
    "ew=ew[::-1]\n",
    "-np.log2(np.abs(ew/ew[0]))"
   ]
  },
  {
   "cell_type": "code",
   "execution_count": 139,
   "metadata": {},
   "outputs": [],
   "source": [
    "ew = scipy.sparse.linalg.eigs(Atemp, k=N_level, which='LM', maxiter=200, tol=1e-5, return_eigenvectors=False)\n",
    "ew=ew[::-1]\n",
    "-np.log2(np.abs(ew/ew[0]))"
   ]
  }
 ],
 "metadata": {
  "kernelspec": {
   "display_name": "Python 3",
   "language": "python",
   "name": "python3"
  },
  "language_info": {
   "codemirror_mode": {
    "name": "ipython",
    "version": 3
   },
   "file_extension": ".py",
   "mimetype": "text/x-python",
   "name": "python",
   "nbconvert_exporter": "python",
   "pygments_lexer": "ipython3",
   "version": "3.6.5"
  }
 },
 "nbformat": 4,
 "nbformat_minor": 2
}
