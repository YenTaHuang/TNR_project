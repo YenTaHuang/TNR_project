{
 "cells": [
  {
   "cell_type": "code",
   "execution_count": 1,
   "metadata": {},
   "outputs": [],
   "source": [
    "%load_ext autoreload\n",
    "%autoreload 2\n",
    "from TNR import *"
   ]
  },
  {
   "cell_type": "code",
   "execution_count": 95,
   "metadata": {},
   "outputs": [
    {
     "name": "stdout",
     "output_type": "stream",
     "text": [
      "vertical truncation err: 0.0\n",
      "horizontal truncation err: 1.3307111039703433e-12\n",
      "Aout shape: (3, 4, 3, 4)\n",
      "Coarsen truncation error: 6.63999e-11 Acoarse shape: (3, 4, 3, 4)\n",
      "Coarsen truncation error: 5.52341e-13 Acoarse shape: (4, 4, 4, 4)\n",
      "Coarsen truncation error: 2.07825e-11 Acoarse shape: (4, 4, 4, 4)\n",
      "Coarsen truncation error: 2.11725e-11 Acoarse shape: (5, 4, 5, 4)\n",
      "Coarsen truncation error: 4.44935e-12 Acoarse shape: (6, 4, 6, 4)\n",
      "Coarsen truncation error: 8.79816e-11 Acoarse shape: (8, 4, 8, 4)\n",
      "Coarsen truncation error: 2.3348e-08 Acoarse shape: (8, 4, 8, 4)\n",
      "Coarsen truncation error: 3.26661e-06 Acoarse shape: (8, 4, 8, 4)\n",
      "Coarsen truncation error: 0.000170188 Acoarse shape: (8, 4, 8, 4)\n",
      "Coarsen truncation error: 0.00372825 Acoarse shape: (8, 4, 8, 4)\n"
     ]
    }
   ],
   "source": [
    "# quantum 1d ising:\n",
    "J=1\n",
    "htemp=KP(sz,sz)+J*(KP(sx,s0)+KP(s0,sx))/2\n",
    "chi={'w':6,'y':8,'u':6,'v':6,'k':8,'q':36}\n",
    "coarsensteps=10\n",
    "\n",
    "# quantum 1d zeeman\n",
    "# htemp=(KP(sz,s0)+KP(s0,sz))/2+(KP(sx,s0)+KP(s0,sx))/2\n",
    "# chi={'w':4,'y':2,'u':2,'v':2}\n",
    "# coarsensteps=10\n",
    "\n",
    "# quantum XY:\n",
    "# J=1\n",
    "# htemp=KP(sx,sx)+KP(sz,sz)\n",
    "# chi={'w':12,'y':8,'u':8,'v':8}\n",
    "# coarsensteps=8\n",
    "# htemp=(KP(s0,sx,sx,s0)+KP(s0,sz,sz,s0))+J*(KP(sx,sx,s0,s0)+KP(sz,sz,s0,s0)+KP(s0,s0,sx,sx)+KP(s0,s0,sz,sz))/2\n",
    "\n",
    "# quantum 1d Potts\n",
    "# J=1\n",
    "# htemp=-KP(R,R.conj())-J*(KP(M,np.eye(3))+KP(np.eye(3),M))/2\n",
    "# htemp+=htemp.T.conj()\n",
    "# chi={'w':12,'y':9,'u':9,'v':9,'k':15,'q':66}\n",
    "# coarsensteps=9\n",
    "# RGsteps=5\n",
    "\n",
    "# quantum 1d z3z3\n",
    "# htemp=-KP(R,R.conj())-KP(M,M)\n",
    "# htemp+=htemp.T.conj()\n",
    "# coarsensteps=8\n",
    "\n",
    "#quantum 1d pre-steps\n",
    "d=int(np.sqrt(htemp.shape[0]))\n",
    "Ainit=expm(-0.002*htemp).reshape(d,d,d,d)\n",
    "Asplit_tensors,A00=Asplit(Ainit,chi)\n",
    "coarsen_list=[{'A':A00}]\n",
    "for i in range(coarsensteps):\n",
    "    Aold=coarsen_list[i]['A']\n",
    "    coarsen_list[i],Acoarse=coarsen(Aold,chi)\n",
    "    coarsen_list.append({'A':Acoarse})\n",
    "A0=coarsen_list[-1]['A']\n",
    "\n",
    "# classical ising:\n",
    "# chi={'w':6,'y':6,'u':6,'v':6,'k':12,'q':24}\n",
    "# na=np.newaxis\n",
    "# s=np.array([1,-1])\n",
    "# Tc=2/np.log(1+np.sqrt(2))\n",
    "# T=1*Tc\n",
    "# A0=np.exp(-1/T*(s[:,na,na,na]*s[na,:,na,na]+s[na,:,na,na]*s[na,na,:,na]\\\n",
    "#                 +s[na,na,:,na]*s[na,na,na,:]+s[na,na,na,:]*s[:,na,na,na]))\n",
    "# A0/=np.linalg.norm(A0)\n",
    "\n",
    "tensors_list=[{'A':A0}]\n",
    "chiw,chiy,chiu,chiv=chi['w'],chi['y'],chi['u'],chi['v']"
   ]
  },
  {
   "cell_type": "code",
   "execution_count": 96,
   "metadata": {},
   "outputs": [
    {
     "name": "stdout",
     "output_type": "stream",
     "text": [
      "RG step:  0\n",
      "iter=0, U.Uenv=0.393018\n",
      "iter=100, U.Uenv=0.393249\n",
      "iter=200, U.Uenv=0.393249\n",
      "error in U, vl, vr optimization: 0.0012854\n",
      "error in yl, yr, D optimization: 0.010169\n",
      "error in w optimization: 0.0079128\n",
      "iter=0, u.uenv=0.863634, v.venv=0.78601\n",
      "iter=1000, u.uenv=0.996602, v.venv=0.996602\n",
      "iter=2000, u.uenv=0.996602, v.venv=0.996602\n",
      "Adiff 0.0739625\n",
      "A.shape= (8, 6, 8, 6)\n",
      "chiv= 6\n",
      "\n",
      "RG step:  1\n",
      "iter=0, U.Uenv=0.414228\n",
      "iter=100, U.Uenv=0.414316\n",
      "iter=200, U.Uenv=0.414317\n",
      "iter=300, U.Uenv=0.414317\n",
      "iter=400, U.Uenv=0.414317\n",
      "error in U, vl, vr optimization: 0.00142528\n",
      "error in yl, yr, D optimization: 0.0105415\n",
      "error in w optimization: 0.00745651\n",
      "iter=0, u.uenv=0.933104, v.venv=0.815065\n",
      "iter=1000, u.uenv=0.999926, v.venv=0.999926\n",
      "iter=2000, u.uenv=0.999926, v.venv=0.999926\n",
      "Adiff 0.0121384\n",
      "A.shape= (8, 6, 8, 6)\n",
      "chiv= 6\n",
      "\n",
      "RG step:  2\n",
      "iter=0, U.Uenv=0.411154\n",
      "iter=100, U.Uenv=0.411262\n",
      "iter=200, U.Uenv=0.411262\n",
      "iter=300, U.Uenv=0.411262\n",
      "iter=400, U.Uenv=0.411262\n",
      "error in U, vl, vr optimization: 0.00158317\n",
      "error in yl, yr, D optimization: 0.00986088\n",
      "error in w optimization: 0.00731883\n",
      "iter=0, u.uenv=0.684026, v.venv=0.226634\n",
      "iter=1000, u.uenv=0.999996, v.venv=0.999996\n",
      "iter=2000, u.uenv=0.999996, v.venv=0.999996\n",
      "Adiff 0.0027972\n",
      "A.shape= (8, 6, 8, 6)\n",
      "chiv= 6\n",
      "\n",
      "RG step:  3\n",
      "iter=0, U.Uenv=0.411932\n",
      "iter=100, U.Uenv=0.412035\n",
      "iter=200, U.Uenv=0.412035\n",
      "iter=300, U.Uenv=0.412035\n",
      "iter=400, U.Uenv=0.412035\n",
      "error in U, vl, vr optimization: 0.00155155\n",
      "error in yl, yr, D optimization: 0.00981861\n",
      "error in w optimization: 0.00734951\n",
      "iter=0, u.uenv=0.999893, v.venv=0.939329\n",
      "iter=1000, u.uenv=1, v.venv=1\n",
      "iter=2000, u.uenv=1, v.venv=1\n",
      "Adiff 0.000690244\n",
      "A.shape= (8, 6, 8, 6)\n",
      "chiv= 6\n",
      "\n",
      "RG step:  4\n",
      "iter=0, U.Uenv=0.411721\n",
      "iter=100, U.Uenv=0.411825\n",
      "iter=200, U.Uenv=0.411825\n",
      "iter=300, U.Uenv=0.411825\n",
      "iter=400, U.Uenv=0.411825\n",
      "error in U, vl, vr optimization: 0.00155833\n",
      "error in yl, yr, D optimization: 0.00979494\n",
      "error in w optimization: 0.00734312\n",
      "iter=0, u.uenv=0.961591, v.venv=0.767207\n",
      "iter=1000, u.uenv=1, v.venv=1\n",
      "iter=2000, u.uenv=1, v.venv=1\n",
      "Adiff 0.000951906\n",
      "A.shape= (8, 6, 8, 6)\n",
      "chiv= 6\n",
      "\n"
     ]
    }
   ],
   "source": [
    "RGsteps=5\n",
    "i0=len(tensors_list)-1\n",
    "for i in range(RGsteps):\n",
    "    print('RG step: ',i0+i)\n",
    "    Aold=tensors_list[i0+i]['A']\n",
    "    tensors_list[i0+i],Anew=doTNR(Aold,chi)\n",
    "    tensors_list.append({'A':Anew})\n",
    "    print('A.shape=',Anew.shape)\n",
    "    print('chiv=',tensors_list[i0+i]['vl'].shape[2])\n",
    "    print()"
   ]
  },
  {
   "cell_type": "code",
   "execution_count": 23,
   "metadata": {},
   "outputs": [],
   "source": [
    "i=3\n",
    "A=tensors_list[i+1]['A']\n",
    "from scipy.sparse.linalg import eigsh"
   ]
  },
  {
   "cell_type": "code",
   "execution_count": 24,
   "metadata": {},
   "outputs": [
    {
     "name": "stderr",
     "output_type": "stream",
     "text": [
      "c:\\programdata\\miniconda3\\lib\\site-packages\\scipy\\sparse\\linalg\\eigen\\arpack\\arpack.py:1254: RuntimeWarning: k >= N - 1 for N * N square matrix. Attempting to use scipy.linalg.eig instead.\n",
      "  RuntimeWarning)\n"
     ]
    },
    {
     "data": {
      "text/plain": [
       "array([-0.        ,  0.1185881 ,  1.        ,  1.03526507,  1.11012191,\n",
       "        1.42195287])"
      ]
     },
     "execution_count": 24,
     "metadata": {},
     "output_type": "execute_result"
    }
   ],
   "source": [
    "T1=np.einsum(A,[2,1,2,0])\n",
    "# ew,_=np.linalg.eigh(T)\n",
    "ew = eigsh(T1, k=100, which='LM', maxiter=200, tol=1e-5, return_eigenvectors=False)\n",
    "ew.sort()\n",
    "ew=ew[::-1]\n",
    "el=-np.log(np.abs(ew/ew[0]))\n",
    "(el/(el[2]-el[0]))[:100]"
   ]
  },
  {
   "cell_type": "code",
   "execution_count": 25,
   "metadata": {},
   "outputs": [
    {
     "name": "stderr",
     "output_type": "stream",
     "text": [
      "c:\\programdata\\miniconda3\\lib\\site-packages\\scipy\\sparse\\linalg\\eigen\\arpack\\arpack.py:1254: RuntimeWarning: k >= N - 1 for N * N square matrix. Attempting to use scipy.linalg.eig instead.\n",
      "  RuntimeWarning)\n"
     ]
    },
    {
     "data": {
      "text/plain": [
       "array([-0.        ,  0.12498022,  1.        ,  1.12335006,  1.12421145,\n",
       "        1.98774168,  2.00162317,  2.02697953,  2.04074836,  2.14480648,\n",
       "        2.14828669,  2.17457332,  2.70948425,  2.7492312 ,  2.7497438 ,\n",
       "        2.88486088,  3.0478844 ,  3.21521456,  3.30954822,  3.31570005,\n",
       "        3.35564174,  3.44284917,  3.79468675,  4.03144511,  4.08477725,\n",
       "        4.09811851,  4.1025944 ,  4.55638605,  4.56196265,  4.42458202,\n",
       "        4.22736376,  4.11736855,  3.88423798,  3.5024575 ,  3.31580867,\n",
       "        3.27952689])"
      ]
     },
     "execution_count": 25,
     "metadata": {},
     "output_type": "execute_result"
    }
   ],
   "source": [
    "T2=np.einsum(A,[4,2,5,0],A,[5,3,4,1]).reshape(chiw**2,chiw**2)\n",
    "ew = eigsh(T2, k=100, which='LM', maxiter=200, tol=1e-5, return_eigenvectors=False)\n",
    "ew.sort()\n",
    "ew=ew[::-1]\n",
    "el=-np.log(np.abs(ew/ew[0]))\n",
    "(el/(el[2]-el[0]))[:100]"
   ]
  },
  {
   "cell_type": "code",
   "execution_count": 26,
   "metadata": {},
   "outputs": [
    {
     "data": {
      "text/plain": [
       "array([-0.        ,  0.12557751,  1.        ,  1.12417724,  1.12417724,\n",
       "        1.99928523,  1.99928523,  2.00783879,  2.00783879,  2.13305496,\n",
       "        2.13305496,  2.13391197,  2.99484746,  3.02226469,  3.04008761,\n",
       "        3.04008761,  3.04803807,  3.11777385,  3.12159258,  3.157412  ,\n",
       "        3.16859833,  3.16859833,  3.21063772,  3.90421335,  3.91345114,\n",
       "        3.91345114,  3.94182719,  3.94182719,  4.04721177,  4.04721177,\n",
       "        4.05701377,  4.1283819 ,  4.1283819 ,  4.1734247 ,  4.1734247 ,\n",
       "        4.18636669,  4.18636669,  4.30269029,  4.36442643,  4.45024191,\n",
       "        4.45024191,  4.46927825,  4.46927825,  4.62702991,  4.843758  ,\n",
       "        4.843758  ,  4.97509996,  4.98832185,  4.98832185,  5.13513025,\n",
       "        5.13513025,  5.22219337,  5.24624473,  5.24624473,  5.34194669,\n",
       "        5.34194669,  5.34585416,  5.36877996,  5.36877996,  5.40721602,\n",
       "        5.40956881,  5.53567869,  5.53567869,  5.65783339,  5.65783339,\n",
       "        5.67619994,  5.74340877,  5.74340877,  5.78810004,  5.78810004,\n",
       "        5.80955267,  5.91000621,  5.99735842,  6.07222653,  6.07222653,\n",
       "        6.09315139,  6.12032903,  6.14834123,  6.14834123,  6.30048231,\n",
       "        6.31719779,  6.31719779,  6.31835991,  6.33450629,  6.3568742 ,\n",
       "        6.39677627,  6.21034693,  6.21034693,  6.04253442,  5.77296419,\n",
       "        5.77296419,  5.57909015,  5.5074687 ,  5.5074687 ,  5.29560524,\n",
       "        5.19229645,  4.84881544,  4.84881544,  4.8144228 ,  4.8144228 ])"
      ]
     },
     "execution_count": 26,
     "metadata": {},
     "output_type": "execute_result"
    }
   ],
   "source": [
    "T3=np.einsum(A,[10,3,8,0],A,[8,4,9,1],A,[9,5,10,2]).reshape(chiw**3,chiw**3)\n",
    "ew = eigsh(T3, k=100, which='LM', maxiter=200, tol=1e-5, return_eigenvectors=False)\n",
    "ew.sort()\n",
    "ew=ew[::-1]\n",
    "el=-np.log(np.abs(ew/ew[0]))\n",
    "(el/(el[2]-el[0]))[:100]"
   ]
  },
  {
   "cell_type": "code",
   "execution_count": 27,
   "metadata": {},
   "outputs": [
    {
     "data": {
      "text/plain": [
       "array([-0.        ,  0.12591164,  1.        ,  1.12397447,  1.12397447,\n",
       "        1.99983768,  1.99997458,  2.00306896,  2.00306896,  2.12643182,\n",
       "        2.12905483,  2.12944401,  3.00453135,  3.00453135,  3.01254739,\n",
       "        3.01569266,  3.01691209,  3.12568275,  3.12568275,  3.1394174 ,\n",
       "        3.1394174 ,  3.14532227,  3.14532227,  3.99490718,  4.00612003,\n",
       "        4.01344961,  4.02162664,  4.04391256,  4.04391256,  4.04505071,\n",
       "        4.05574914,  4.05574914,  4.11939986,  4.12362097,  4.1444107 ,\n",
       "        4.14449174,  4.16025206,  4.16318961,  4.17766789,  4.18094592,\n",
       "        4.26441083,  4.96637003,  4.96637003,  4.98545589,  5.01687769,\n",
       "        5.01959283,  5.03656792,  5.03656792,  5.05780751,  5.05780751,\n",
       "        5.06368734,  5.10555148,  5.10555148,  5.12579794,  5.13420632,\n",
       "        5.14528313,  5.14528313,  5.16011322,  5.16011322,  5.18305417,\n",
       "        5.18305417,  5.1918607 ,  5.1918607 ,  5.2562973 ,  5.2562973 ,\n",
       "        5.35169484,  5.45592533,  5.52237149,  5.52237149,  5.53588191,\n",
       "        5.7410288 ,  5.7410288 ,  5.74187593,  5.86305735,  5.93211197,\n",
       "        5.99309638,  5.99309638,  6.01123592,  6.04489729,  6.04936067,\n",
       "        6.06083144,  6.06083144,  6.06173528,  6.07164973,  6.07951367,\n",
       "        6.11744572,  6.13007663,  6.14637925,  6.14666609,  6.17687004,\n",
       "        6.1795007 ,  6.2025703 ,  6.2104295 ,  6.2398825 ,  6.26065842,\n",
       "        6.26835824,  6.27390653,  6.27390653,  6.06169172,  6.03396793])"
      ]
     },
     "execution_count": 27,
     "metadata": {},
     "output_type": "execute_result"
    }
   ],
   "source": [
    "T4=np.einsum(A,[11,4,8,0],A,[8,5,9,1],A,[9,6,10,2],A,[10,7,11,3]).reshape(chiw**4,chiw**4)\n",
    "ew = eigsh(T4, k=100, which='LM', return_eigenvectors=False)\n",
    "ew.sort()\n",
    "ew=ew[::-1]\n",
    "el=-np.log(np.abs(ew/ew[0]))\n",
    "(el/(el[2]-el[0]))[:100]"
   ]
  },
  {
   "cell_type": "code",
   "execution_count": 28,
   "metadata": {},
   "outputs": [
    {
     "name": "stderr",
     "output_type": "stream",
     "text": [
      "c:\\programdata\\miniconda3\\lib\\site-packages\\scipy\\sparse\\linalg\\eigen\\arpack\\arpack.py:1254: RuntimeWarning: k >= N - 1 for N * N square matrix. Attempting to use scipy.linalg.eig instead.\n",
      "  RuntimeWarning)\n"
     ]
    },
    {
     "data": {
      "text/plain": [
       "array([-0.        ,  0.09351399,  0.37195871,  0.44375947,  0.56315653,\n",
       "        0.72260528,  0.84655332,  0.89011332,  0.94521416,  1.        ,\n",
       "        1.0932012 ,  1.11792341,  1.22602407,  1.28395641,  1.41493762,\n",
       "        1.43444532,  1.451283  ,  1.49775921,  1.55779045,  1.57067217,\n",
       "        1.59382801,  1.72349635,  1.79866985,  1.80214377,  1.8446175 ,\n",
       "        1.87493968,  2.05647616,  2.15012709,  2.19710137,  2.2712998 ,\n",
       "        2.3083409 ,  2.35124155,  2.4235692 ,  2.4850527 ,  1.97600602,\n",
       "        1.88467137])"
      ]
     },
     "execution_count": 28,
     "metadata": {},
     "output_type": "execute_result"
    }
   ],
   "source": [
    "T4reduced=np.einsum(A,[11,0,8,0],A,[8,5,9,1],A,[9,6,10,2],A,[10,3,11,3]).reshape(chiw**2,chiw**2)\n",
    "ew = eigsh(T4reduced, k=100, which='LM', maxiter=200, tol=1e-5, return_eigenvectors=False)\n",
    "ew.sort()\n",
    "ew=ew[::-1]\n",
    "el=-np.log(np.abs(ew/ew[0]))\n",
    "(el/(el[9]-el[0]))[:100]"
   ]
  },
  {
   "cell_type": "code",
   "execution_count": 7,
   "metadata": {},
   "outputs": [
    {
     "name": "stdout",
     "output_type": "stream",
     "text": [
      "RGsteps: 0 , <O> = (-0.9486832980504737+0j)\n",
      "RGsteps: 1 , <O> = (-0.9486832980504737+0j)\n",
      "RGsteps: 2 , <O> = (-0.9486832980504737+0j)\n",
      "RGsteps: 3 , <O> = (-0.9486832980504737+0j)\n",
      "RGsteps: 4 , <O> = (-0.9486832980504737+0j)\n"
     ]
    },
    {
     "data": {
      "text/plain": [
       "(-0.9486832980504737+0j)"
      ]
     },
     "execution_count": 7,
     "metadata": {},
     "output_type": "execute_result"
    }
   ],
   "source": [
    "#eval mag for quantum 1d models\n",
    "op=sz\n",
    "MOq=MOq_(op,Asplit_tensors,coarsen_list)\n",
    "eval_op(MOq,tensors_list)  "
   ]
  },
  {
   "cell_type": "code",
   "execution_count": 29,
   "metadata": {},
   "outputs": [
    {
     "name": "stdout",
     "output_type": "stream",
     "text": [
      "RGsteps: 0 , <O> = 0j\n",
      "RGsteps: 1 , <O> = 0j\n",
      "RGsteps: 2 , <O> = 0j\n",
      "RGsteps: 3 , <O> = 0j\n",
      "RGsteps: 4 , <O> = (-6.392594011758512e-10+0j)\n"
     ]
    },
    {
     "data": {
      "text/plain": [
       "(-6.392594011758512e-10+5.068979602773256e-20j)"
      ]
     },
     "execution_count": 29,
     "metadata": {},
     "output_type": "execute_result"
    }
   ],
   "source": [
    "#eval mag for classical ising:\n",
    "op=sz\n",
    "A0=tensors_list[0]['A']\n",
    "MO=MO_(A0,op)\n",
    "eval_op(MO,tensors_list)"
   ]
  },
  {
   "cell_type": "code",
   "execution_count": 47,
   "metadata": {},
   "outputs": [
    {
     "name": "stdout",
     "output_type": "stream",
     "text": [
      "0.629648162973007\n"
     ]
    }
   ],
   "source": [
    "#exact value\n",
    "mag_exact=(1-np.sinh(2/T)**(-4))**(1/8)\n",
    "print(mag_exact)"
   ]
  },
  {
   "cell_type": "markdown",
   "metadata": {},
   "source": [
    "scaling dimensions"
   ]
  },
  {
   "cell_type": "code",
   "execution_count": 97,
   "metadata": {},
   "outputs": [],
   "source": [
    "i=3\n",
    "tensors=tensors_list[i]\n",
    "Aold=tensors['A'];\n",
    "chiwt=Aold.shape[1]\n",
    "chiyt=Aold.shape[0]\n",
    "scale_tensors=scale_tensors_(tensors)\n",
    "\n",
    "def scaleop(v):\n",
    "    M=v.reshape(chiwt,chiwt,chiyt,chiyt,chiyt,chiyt,chiwt,chiwt)\n",
    "    Mscaled=rg_(M,scale_tensors)\n",
    "    return Mscaled.flatten()\n",
    "\n",
    "n=chiw**4*chiy**4"
   ]
  },
  {
   "cell_type": "code",
   "execution_count": 101,
   "metadata": {},
   "outputs": [
    {
     "name": "stdout",
     "output_type": "stream",
     "text": [
      "gu compression error: 0.000506281642929517\n",
      "gr compression error: 1.980180723666667e-16\n",
      "gl compression error: 0.0\n"
     ]
    }
   ],
   "source": [
    "# compress legs\n",
    "\n",
    "chik=8\n",
    "chiq=36\n",
    "gu,gr,gl,gnw,gne=scale_tensors['gu'],scale_tensors['gr'],scale_tensors['gl'],scale_tensors['gnw'],scale_tensors['gne']\n",
    "guw,glw,grw,wv,wr,wl = g_compressed(Aold,gu,gr,gl,chik,chiq)\n",
    "\n",
    "def scaleop(v):\n",
    "    v4=v.reshape(chiq,chik,chiq,chik)\n",
    "    out=ncon(v4,[8,9,10,11],glw,[10,19,21],grw,[8,18,20],guw,[9,22,23],guw.conj(),[11,16,17],gnw,[20,22,5,14],gne,[21,23,7,15],gnw.conj(),[18,16,4,12],gne.conj(),[19,17,6,13],wr,[4,5,0],wl,[6,7,2],wv,[14,15,1],wv.conj(),[12,13,3])\n",
    "    return out.flatten()\n",
    "n=chik**2*chiq**2"
   ]
  },
  {
   "cell_type": "code",
   "execution_count": 55,
   "metadata": {},
   "outputs": [
    {
     "data": {
      "text/plain": [
       "array([-0.        ,  0.12655181,  1.00131558,  1.12441053,  1.12494036,\n",
       "        2.00148834,  2.00177471,  2.00229527,  2.00361926,  2.12322129,\n",
       "        2.126631  ,  2.13012912,  3.0005998 ,  3.00263808,  3.00327742,\n",
       "        3.00459674,  3.00753422,  3.10694089,  3.12905695,  3.12990191,\n",
       "        3.13224755,  3.13453359,  3.13951972,  3.99620319,  3.99759564,\n",
       "        4.00029876,  4.00270958,  4.0049498 ,  4.0056991 ,  4.010566  ,\n",
       "        4.01187323,  4.01443199,  4.06879442,  4.1188085 ,  4.12315199,\n",
       "        4.13281048,  4.13309002,  4.13969317,  4.14728885,  4.14811996])"
      ]
     },
     "execution_count": 55,
     "metadata": {},
     "output_type": "execute_result"
    }
   ],
   "source": [
    "import scipy\n",
    "from scipy.sparse.linalg import LinearOperator\n",
    "\n",
    "N_level=40\n",
    "Atemp = LinearOperator((n,n), matvec = scaleop, dtype='complex')\n",
    "ew = scipy.sparse.linalg.eigs(Atemp, k=N_level, which='LM', maxiter=200, tol=1e-5, return_eigenvectors=False)\n",
    "ew=np.abs(ew)\n",
    "ew.sort()\n",
    "ew=ew[::-1]\n",
    "scaledim=-np.log2(np.abs(ew/ew[0]))\n",
    "scaledim"
   ]
  },
  {
   "cell_type": "code",
   "execution_count": 72,
   "metadata": {},
   "outputs": [],
   "source": [
    "i=3\n",
    "tensors=tensors_list[i]\n",
    "U=tensors['U'];w=tensors['w'];u=tensors['u']\n",
    "\n",
    "wgauged=w@u\n",
    "# wgauged=w\n",
    "\n",
    "def scaleop(v):\n",
    "    M=v.reshape(chiw,chiw,chiw,chiw)\n",
    "    mera=ncon(M,[0,1,2,3],U,[0,1,8,9],wgauged,[12,8,4],wgauged,[9,13,5],U.conj(),[2,3,10,11],wgauged.conj(),[12,10,6],wgauged.conj(),[11,13,7])\n",
    "    return mera.flatten()\n",
    "\n",
    "n=chiw**4"
   ]
  },
  {
   "cell_type": "code",
   "execution_count": 73,
   "metadata": {},
   "outputs": [
    {
     "data": {
      "text/plain": [
       "array([-0.        ,  0.12728364,  0.9684625 ,  1.10353051,  1.20739804,\n",
       "        1.20739804,  1.59860124,  1.59860124,  1.64755579,  1.8180896 ,\n",
       "        1.8180896 ,  1.81271592,  1.81271592,  1.81871814,  1.81871814,\n",
       "        1.92904183,  1.98387286,  2.07673273,  2.27317919,  2.35460655,\n",
       "        2.46307274,  2.49162207,  2.53869677,  2.52851065,  2.52851065])"
      ]
     },
     "execution_count": 73,
     "metadata": {},
     "output_type": "execute_result"
    }
   ],
   "source": [
    "import scipy\n",
    "from scipy.sparse.linalg import LinearOperator\n",
    "\n",
    "N_level=25\n",
    "Atemp = LinearOperator((n,n), matvec = scaleop, dtype='complex')\n",
    "ew = scipy.sparse.linalg.eigs(Atemp, k=N_level, which='LM', maxiter=200, tol=1e-5, return_eigenvectors=False)\n",
    "ew.sort()\n",
    "ew=ew[::-1]\n",
    "-np.log2(np.abs(ew/ew[0]))"
   ]
  },
  {
   "cell_type": "code",
   "execution_count": 77,
   "metadata": {},
   "outputs": [],
   "source": [
    "data={'chi':chi,'tensors_list':tensors_list}\n",
    "np.save('ising',data)"
   ]
  },
  {
   "cell_type": "code",
   "execution_count": 78,
   "metadata": {},
   "outputs": [],
   "source": [
    "data=np.load('ising.npy')"
   ]
  },
  {
   "cell_type": "code",
   "execution_count": 82,
   "metadata": {},
   "outputs": [
    {
     "ename": "TypeError",
     "evalue": "iteration over a 0-d array",
     "output_type": "error",
     "traceback": [
      "\u001b[1;31m---------------------------------------------------------------------------\u001b[0m",
      "\u001b[1;31mTypeError\u001b[0m                                 Traceback (most recent call last)",
      "\u001b[1;32m<ipython-input-82-4833744bc230>\u001b[0m in \u001b[0;36m<module>\u001b[1;34m()\u001b[0m\n\u001b[1;32m----> 1\u001b[1;33m \u001b[0mdata2\u001b[0m\u001b[1;33m=\u001b[0m\u001b[0mdict\u001b[0m\u001b[1;33m(\u001b[0m\u001b[0mdata\u001b[0m\u001b[1;33m)\u001b[0m\u001b[1;33m\u001b[0m\u001b[0m\n\u001b[0m",
      "\u001b[1;31mTypeError\u001b[0m: iteration over a 0-d array"
     ]
    }
   ],
   "source": [
    "data2=dict(data)"
   ]
  },
  {
   "cell_type": "code",
   "execution_count": 86,
   "metadata": {},
   "outputs": [],
   "source": [
    "import pickle\n",
    "with open('data.pkl','rb') as f:\n",
    "    data=pickle.load(f)"
   ]
  },
  {
   "cell_type": "code",
   "execution_count": 87,
   "metadata": {},
   "outputs": [
    {
     "data": {
      "text/plain": [
       "dict_keys(['chi', 'tensors_list'])"
      ]
     },
     "execution_count": 87,
     "metadata": {},
     "output_type": "execute_result"
    }
   ],
   "source": [
    "data.keys()"
   ]
  },
  {
   "cell_type": "code",
   "execution_count": null,
   "metadata": {},
   "outputs": [],
   "source": []
  }
 ],
 "metadata": {
  "kernelspec": {
   "display_name": "Python 3",
   "language": "python",
   "name": "python3"
  },
  "language_info": {
   "codemirror_mode": {
    "name": "ipython",
    "version": 3
   },
   "file_extension": ".py",
   "mimetype": "text/x-python",
   "name": "python",
   "nbconvert_exporter": "python",
   "pygments_lexer": "ipython3",
   "version": "3.6.5"
  }
 },
 "nbformat": 4,
 "nbformat_minor": 2
}
