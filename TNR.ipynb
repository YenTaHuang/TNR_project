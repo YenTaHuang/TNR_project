{
 "cells": [
  {
   "cell_type": "code",
   "execution_count": 198,
   "metadata": {},
   "outputs": [
    {
     "name": "stdout",
     "output_type": "stream",
     "text": [
      "The autoreload extension is already loaded. To reload it, use:\n",
      "  %reload_ext autoreload\n"
     ]
    }
   ],
   "source": [
    "%load_ext autoreload\n",
    "%autoreload 2\n",
    "from TNR import *"
   ]
  },
  {
   "cell_type": "code",
   "execution_count": 199,
   "metadata": {},
   "outputs": [],
   "source": [
    "chi={}\n",
    "chi['w'],chi['y'],chi['u'],chi['v']=6,6,6,6\n",
    "chiw,chiy,chiu,chiv=chi['w'],chi['y'],chi['u'],chi['v']\n",
    "\n",
    "# J=1\n",
    "# htemp=(KP(s0,sx,sx,s0)+KP(s0,sz,sz,s0))+\\\n",
    "#     J*(KP(sx,sx,s0,s0)+KP(sz,sz,s0,s0)+KP(s0,s0,sx,sx)+KP(s0,s0,sz,sz))/2\n",
    "# htemp=KP(sz,sz)+J*(KP(sx,s0)+KP(s0,sx))/2\n",
    "# htemp=(KP(sz,s0)+KP(s0,sz))/2+(KP(sx,s0)+KP(s0,sx))/2\n",
    "# htemp=KP(sx,sx)+KP(sz,sz)\n",
    "# htemp=-KP(R,R.conj())-J*(KP(M,np.eye(3))+KP(np.eye(3),M))/2\n",
    "# htemp=-KP(R,R.conj())-KP(M,M)\n",
    "# htemp+=htemp.T.conj()\n",
    "\n",
    "# d=int(np.sqrt(htemp.shape[0]))\n",
    "# Ainit=expm(-0.002*htemp).reshape(d,d,d,d)\n",
    "# A0=Asplit(Ainit,chi)\n",
    "# for i in range(7):\n",
    "#     A0=coarsen(A0,chi)\n",
    "\n",
    "# classical ising:\n",
    "na=np.newaxis\n",
    "s=np.array([1,-1])\n",
    "Tc=2/np.log(1+np.sqrt(2))\n",
    "T=1*Tc\n",
    "A0=np.exp(-1/T*(s[:,na,na,na]*s[na,:,na,na]+s[na,:,na,na]*s[na,na,:,na]\\\n",
    "                +s[na,na,:,na]*s[na,na,na,:]+s[na,na,na,:]*s[:,na,na,na]))\n",
    "A0/=np.linalg.norm(A0)"
   ]
  },
  {
   "cell_type": "code",
   "execution_count": 224,
   "metadata": {},
   "outputs": [
    {
     "name": "stdout",
     "output_type": "stream",
     "text": [
      "RG step:  0\n",
      "iter=0, U.Uenv=0.58\n",
      "iter=100, U.Uenv=0.58\n",
      "error in U, vl, vr optimization: 5.12577e-16\n",
      "error in yl, yr, D optimization: 7.27387e-15\n",
      "error in w optimization: 9.03172e-16\n",
      "iter=0, u.uenv=0.463478, v.venv=0.441666\n",
      "iter=1000, u.uenv=0.915927, v.venv=0.915927\n",
      "iter=2000, u.uenv=0.915927, v.venv=0.915927\n",
      "Adiff 0.0922636\n",
      "A.shape=  (4, 4, 4, 4)\n",
      "\n",
      "RG step:  1\n",
      "iter=0, U.Uenv=0.492758\n",
      "iter=100, U.Uenv=0.492796\n",
      "iter=200, U.Uenv=0.492806\n",
      "iter=300, U.Uenv=0.492809\n",
      "iter=400, U.Uenv=0.49281\n",
      "iter=500, U.Uenv=0.49281\n",
      "iter=600, U.Uenv=0.49281\n",
      "iter=700, U.Uenv=0.49281\n",
      "iter=800, U.Uenv=0.49281\n",
      "iter=900, U.Uenv=0.49281\n",
      "iter=1000, U.Uenv=0.49281\n",
      "error in U, vl, vr optimization: 0.00048738\n",
      "error in yl, yr, D optimization: 0.0127057\n",
      "error in w optimization: 0.0278938\n",
      "iter=0, u.uenv=0.440844, v.venv=0.426816\n",
      "iter=1000, u.uenv=0.979327, v.venv=0.979327\n",
      "iter=2000, u.uenv=0.979327, v.venv=0.979327\n",
      "Adiff 0.120366\n",
      "A.shape=  (6, 6, 6, 6)\n",
      "\n",
      "RG step:  2\n",
      "iter=0, U.Uenv=0.517359\n",
      "iter=100, U.Uenv=0.517444\n",
      "iter=200, U.Uenv=0.517444\n",
      "iter=300, U.Uenv=0.517444\n",
      "error in U, vl, vr optimization: 0.0019309\n",
      "error in yl, yr, D optimization: 0.00301828\n",
      "error in w optimization: 0.0167741\n",
      "iter=0, u.uenv=0.315029, v.venv=0.225082\n",
      "iter=1000, u.uenv=0.987736, v.venv=0.987736\n",
      "iter=2000, u.uenv=0.987736, v.venv=0.987736\n",
      "Adiff 0.156612\n",
      "A.shape=  (6, 6, 6, 6)\n",
      "\n",
      "RG step:  3\n",
      "iter=0, U.Uenv=0.503474\n",
      "iter=100, U.Uenv=0.503522\n",
      "iter=200, U.Uenv=0.503526\n",
      "iter=300, U.Uenv=0.503526\n",
      "iter=400, U.Uenv=0.503526\n",
      "iter=500, U.Uenv=0.503526\n",
      "error in U, vl, vr optimization: 0.00159438\n",
      "error in yl, yr, D optimization: 0.00304745\n",
      "error in w optimization: 0.0181181\n",
      "iter=0, u.uenv=0.238126, v.venv=0.205756\n",
      "iter=1000, u.uenv=0.999901, v.venv=0.999901\n",
      "iter=2000, u.uenv=0.999901, v.venv=0.999901\n",
      "Adiff 0.0140412\n",
      "A.shape=  (6, 6, 6, 6)\n",
      "\n",
      "RG step:  4\n",
      "iter=0, U.Uenv=0.50059\n",
      "iter=100, U.Uenv=0.50064\n",
      "iter=200, U.Uenv=0.500644\n",
      "iter=300, U.Uenv=0.500644\n",
      "iter=400, U.Uenv=0.500644\n",
      "iter=500, U.Uenv=0.500644\n",
      "error in U, vl, vr optimization: 0.00155274\n",
      "error in yl, yr, D optimization: 0.0027613\n",
      "error in w optimization: 0.0187355\n",
      "iter=0, u.uenv=0.445165, v.venv=0.428082\n",
      "iter=1000, u.uenv=0.999456, v.venv=0.999456\n",
      "iter=2000, u.uenv=0.999456, v.venv=0.999456\n",
      "Adiff 0.0329735\n",
      "A.shape=  (6, 6, 6, 6)\n",
      "\n",
      "RG step:  5\n",
      "iter=0, U.Uenv=0.499302\n",
      "iter=100, U.Uenv=0.499351\n",
      "iter=200, U.Uenv=0.499358\n",
      "iter=300, U.Uenv=0.499358\n",
      "iter=400, U.Uenv=0.499358\n",
      "iter=500, U.Uenv=0.499358\n",
      "error in U, vl, vr optimization: 0.00175043\n",
      "error in yl, yr, D optimization: 0.00410553\n",
      "error in w optimization: 0.0202289\n",
      "iter=0, u.uenv=0.446573, v.venv=0.428834\n",
      "iter=1000, u.uenv=0.99977, v.venv=0.99977\n",
      "iter=2000, u.uenv=0.99977, v.venv=0.99977\n",
      "Adiff 0.0214424\n",
      "A.shape=  (6, 6, 6, 6)\n",
      "\n",
      "RG step:  6\n",
      "iter=0, U.Uenv=0.503652\n",
      "iter=100, U.Uenv=0.503711\n",
      "iter=200, U.Uenv=0.503714\n",
      "iter=300, U.Uenv=0.503714\n",
      "iter=400, U.Uenv=0.503714\n",
      "error in U, vl, vr optimization: 0.00207802\n",
      "error in yl, yr, D optimization: 0.00352111\n",
      "error in w optimization: 0.0186775\n",
      "iter=0, u.uenv=0.440323, v.venv=0.41123\n",
      "iter=1000, u.uenv=0.999906, v.venv=0.999906\n",
      "iter=2000, u.uenv=0.999906, v.venv=0.999906\n",
      "Adiff 0.0137176\n",
      "A.shape=  (6, 6, 6, 6)\n",
      "\n",
      "RG step:  7\n",
      "iter=0, U.Uenv=0.503126\n",
      "iter=100, U.Uenv=0.503175\n",
      "iter=200, U.Uenv=0.503181\n",
      "iter=300, U.Uenv=0.503181\n",
      "iter=400, U.Uenv=0.503181\n",
      "iter=500, U.Uenv=0.503181\n",
      "error in U, vl, vr optimization: 0.00191611\n",
      "error in yl, yr, D optimization: 0.00391951\n",
      "error in w optimization: 0.0199961\n",
      "iter=0, u.uenv=0.446025, v.venv=0.426887\n",
      "iter=1000, u.uenv=0.999949, v.venv=0.999949\n",
      "iter=2000, u.uenv=0.999949, v.venv=0.999949\n",
      "Adiff 0.0100594\n",
      "A.shape=  (6, 6, 6, 6)\n",
      "\n",
      "RG step:  8\n",
      "iter=0, U.Uenv=0.505036\n",
      "iter=100, U.Uenv=0.505093\n",
      "iter=200, U.Uenv=0.505097\n",
      "iter=300, U.Uenv=0.505097\n",
      "iter=400, U.Uenv=0.505097\n",
      "error in U, vl, vr optimization: 0.00204083\n",
      "error in yl, yr, D optimization: 0.00361103\n",
      "error in w optimization: 0.0190593\n",
      "iter=0, u.uenv=0.44402, v.venv=0.423532\n",
      "iter=1000, u.uenv=0.999913, v.venv=0.999913\n",
      "iter=2000, u.uenv=0.999913, v.venv=0.999913\n",
      "Adiff 0.0131793\n",
      "A.shape=  (6, 6, 6, 6)\n",
      "\n",
      "RG step:  9\n",
      "iter=0, U.Uenv=0.507262\n",
      "iter=100, U.Uenv=0.507313\n",
      "iter=200, U.Uenv=0.507319\n",
      "iter=300, U.Uenv=0.507319\n",
      "iter=400, U.Uenv=0.507319\n",
      "iter=500, U.Uenv=0.507319\n",
      "error in U, vl, vr optimization: 0.00194914\n",
      "error in yl, yr, D optimization: 0.00377687\n",
      "error in w optimization: 0.0197892\n",
      "iter=0, u.uenv=0.440314, v.venv=0.416228\n",
      "iter=1000, u.uenv=0.999742, v.venv=0.999742\n",
      "iter=2000, u.uenv=0.999742, v.venv=0.999742\n",
      "Adiff 0.0227271\n",
      "A.shape=  (6, 6, 6, 6)\n",
      "\n"
     ]
    }
   ],
   "source": [
    "RGsteps=10\n",
    "A_list=[None]*(RGsteps+1)\n",
    "Anorm_list=[None]*(RGsteps+1)\n",
    "B_list,U_list,vl_list,vr_list,yl_list,yr_list,D_list,w_list,u_list,v_list=[[None]*RGsteps for i in range(10)]\n",
    "A_list[0]=A0\n",
    "\n",
    "for i in range(RGsteps):\n",
    "    print('RG step: ',i)\n",
    "    Aold=A_list[i]\n",
    "    B,U,vl,vr,yl,yr,D,w,u,v,A,Anorm=doTNR(Aold,chi)\n",
    "    B_list[i],U_list[i],vl_list[i],vr_list[i],yl_list[i],yr_list[i],D_list[i],w_list[i],u_list[i],v_list[i],A_list[i+1],Anorm_list[i+1]=\\\n",
    "    B,U,vl,vr,yl,yr,D,w,u,v,A,Anorm\n",
    "    print('A.shape= ',A.shape)\n",
    "    print()"
   ]
  },
  {
   "cell_type": "code",
   "execution_count": 105,
   "metadata": {},
   "outputs": [],
   "source": [
    "i=7\n",
    "A=A_list[i+1]"
   ]
  },
  {
   "cell_type": "code",
   "execution_count": 235,
   "metadata": {},
   "outputs": [
    {
     "name": "stderr",
     "output_type": "stream",
     "text": [
      "c:\\programdata\\miniconda3\\lib\\site-packages\\scipy\\sparse\\linalg\\eigen\\arpack\\arpack.py:1254: RuntimeWarning: k >= N - 1 for N * N square matrix. Attempting to use scipy.linalg.eig instead.\n",
      "  RuntimeWarning)\n"
     ]
    },
    {
     "data": {
      "text/plain": [
       "array([-0.        ,  0.1185881 ,  1.        ,  1.03526507,  1.11012191,\n",
       "        1.42195287])"
      ]
     },
     "execution_count": 235,
     "metadata": {},
     "output_type": "execute_result"
    }
   ],
   "source": [
    "T=np.einsum(A,[2,1,2,0])\n",
    "# ew,_=np.linalg.eigh(T)\n",
    "ew = scipy.sparse.linalg.eigsh(T, k=100, which='LM', maxiter=200, tol=1e-5, return_eigenvectors=False)\n",
    "ew.sort()\n",
    "ew=ew[::-1]\n",
    "el=-np.log(np.abs(ew/ew[0]))\n",
    "(el/(el[2]-el[0]))[:100]"
   ]
  },
  {
   "cell_type": "code",
   "execution_count": 237,
   "metadata": {},
   "outputs": [
    {
     "data": {
      "text/plain": [
       "array([-0.        ,  0.53734485,  1.        ,  0.91949011,  0.6253713 ,\n",
       "        0.57335888])"
      ]
     },
     "execution_count": 237,
     "metadata": {},
     "output_type": "execute_result"
    }
   ],
   "source": [
    "T=A[0,:,0,:]\n",
    "ew,_=np.linalg.eigh(T)\n",
    "ew=ew[::-1]\n",
    "el=-np.log(np.abs(ew/ew[0]))\n",
    "(el/(el[2]-el[0]))[:100]"
   ]
  },
  {
   "cell_type": "code",
   "execution_count": 238,
   "metadata": {},
   "outputs": [
    {
     "data": {
      "text/plain": [
       "array([-0.        ,  0.12498022,  1.        ,  1.12335006,  1.12421145,\n",
       "        1.98774168,  2.00162317,  2.02697953,  2.04074836,  2.14480648,\n",
       "        2.14828669,  2.17457332,  2.70948425,  2.7492312 ,  2.7497438 ,\n",
       "        2.88486088,  3.0478844 ,  3.21521455,  3.30954823,  3.31570005,\n",
       "        3.35564174,  3.44284917,  3.79468674,  4.03144508,  4.08477725,\n",
       "        4.09811851,  4.10259439,  4.55638605,  4.56196266,  4.42458208,\n",
       "        4.22736378,  4.11736856,  3.884238  ,  3.5024575 ,  3.31580867,\n",
       "        3.27952689])"
      ]
     },
     "execution_count": 238,
     "metadata": {},
     "output_type": "execute_result"
    }
   ],
   "source": [
    "T2=np.einsum(A,[4,2,5,0],A,[5,3,4,1]).reshape(chiw**2,chiw**2)\n",
    "ew,_=np.linalg.eigh(T2)\n",
    "ew=ew[::-1]\n",
    "el=-np.log(np.abs(ew/ew[0]))\n",
    "(el/(el[2]-el[0]))[:100]"
   ]
  },
  {
   "cell_type": "code",
   "execution_count": 239,
   "metadata": {},
   "outputs": [
    {
     "data": {
      "text/plain": [
       "array([-0.        ,  0.12557751,  1.        ,  1.12417724,  1.12417724,\n",
       "        1.99928523,  1.99928523,  2.00783879,  2.00783879,  2.13305496,\n",
       "        2.13305496,  2.13391197,  2.99484746,  3.02226469,  3.04008761,\n",
       "        3.04008761,  3.04803807,  3.11777385,  3.12159258,  3.157412  ,\n",
       "        3.16859833,  3.16859833,  3.21063772,  3.90421335,  3.91345114,\n",
       "        3.91345114,  3.94182719,  3.94182719,  4.04721177,  4.04721177,\n",
       "        4.05701377,  4.1283819 ,  4.1283819 ,  4.1734247 ,  4.1734247 ,\n",
       "        4.18636669,  4.18636669,  4.30269029,  4.36442643,  4.45024191,\n",
       "        4.45024191,  4.46927825,  4.46927825,  4.62702991,  4.843758  ,\n",
       "        4.843758  ,  4.97509996,  4.98832185,  4.98832185,  5.13513025,\n",
       "        5.13513025,  5.22219337,  5.24624473,  5.24624473,  5.34194669,\n",
       "        5.34194669,  5.34585414,  5.36877996,  5.36877996,  5.40721601,\n",
       "        5.40956881,  5.53567869,  5.53567869,  5.65783339,  5.65783339,\n",
       "        5.67619994,  5.74340877,  5.74340877,  5.78810005,  5.78810005,\n",
       "        5.80955266,  5.91000621,  5.99735842,  6.07222653,  6.07222653,\n",
       "        6.09315139,  6.12032902,  6.14834123,  6.14834123,  6.3004823 ,\n",
       "        6.31719779,  6.31719779,  6.31835991,  6.33450629,  6.3568742 ,\n",
       "        6.39677628,  6.21034695,  6.21034695,  6.04253443,  5.77296421,\n",
       "        5.77296421,  5.57909015,  5.50746872,  5.50746872,  5.29560524,\n",
       "        5.19229646,  4.84881545,  4.84881545,  4.81442281,  4.81442281])"
      ]
     },
     "execution_count": 239,
     "metadata": {},
     "output_type": "execute_result"
    }
   ],
   "source": [
    "T3=np.einsum(A,[10,3,8,0],A,[8,4,9,1],A,[9,5,10,2]).reshape(chiw**3,chiw**3)\n",
    "ew = scipy.sparse.linalg.eigsh(T3, k=100, which='LM', maxiter=200, tol=1e-5, return_eigenvectors=False)\n",
    "ew.sort()\n",
    "ew=ew[::-1]\n",
    "el=-np.log(np.abs(ew/ew[0]))\n",
    "(el/(el[2]-el[0]))[:100]"
   ]
  },
  {
   "cell_type": "code",
   "execution_count": 240,
   "metadata": {},
   "outputs": [
    {
     "data": {
      "text/plain": [
       "array([-0.        ,  0.12591164,  1.        ,  1.12397447,  1.12397447,\n",
       "        1.99983768,  1.99997458,  2.00306896,  2.00306896,  2.12643182,\n",
       "        2.12905483,  2.12944401,  3.00453135,  3.00453135,  3.01254739,\n",
       "        3.01569266,  3.01691209,  3.12568275,  3.12568275,  3.1394174 ,\n",
       "        3.1394174 ,  3.14532227,  3.14532227,  3.99490718,  4.00612003,\n",
       "        4.01344961,  4.02162664,  4.04391256,  4.04391256,  4.04505071,\n",
       "        4.05574914,  4.05574914,  4.11939986,  4.12362097,  4.1444107 ,\n",
       "        4.14449174,  4.16025206,  4.16318961,  4.17766789,  4.18094592,\n",
       "        4.26441083,  4.96637003,  4.96637003,  4.98545589,  5.01687769,\n",
       "        5.01959283,  5.03656792,  5.03656792,  5.05780751,  5.05780751,\n",
       "        5.06368734,  5.10555148,  5.10555148,  5.12579794,  5.13420632,\n",
       "        5.14528313,  5.14528313,  5.16011322,  5.16011322,  5.18305417,\n",
       "        5.18305417,  5.1918607 ,  5.1918607 ,  5.2562973 ,  5.2562973 ,\n",
       "        5.35169484,  5.45592533,  5.52237149,  5.52237149,  5.53588191,\n",
       "        5.7410288 ,  5.7410288 ,  5.74187592,  5.86305735,  5.93211196,\n",
       "        5.99309638,  5.99309638,  6.01123592,  6.04489729,  6.04936067,\n",
       "        6.06083144,  6.06083144,  6.06173528,  6.07164973,  6.07951367,\n",
       "        6.11744572,  6.13007663,  6.14637925,  6.14666608,  6.17687004,\n",
       "        6.1795007 ,  6.2025703 ,  6.2104295 ,  6.2398825 ,  6.26065842,\n",
       "        6.26835824,  6.27390653,  6.27390653,  6.27791684,  6.31344471])"
      ]
     },
     "execution_count": 240,
     "metadata": {},
     "output_type": "execute_result"
    }
   ],
   "source": [
    "T4=np.einsum(A,[11,4,8,0],A,[8,5,9,1],A,[9,6,10,2],A,[10,7,11,3]).reshape(chiw**4,chiw**4)\n",
    "ew,_ = np.linalg.eig(T4)\n",
    "ew.sort()\n",
    "ew=ew[::-1]\n",
    "el=-np.log(np.abs(ew/ew[0]))\n",
    "(el/(el[2]-el[0]))[:100]"
   ]
  },
  {
   "cell_type": "code",
   "execution_count": 242,
   "metadata": {},
   "outputs": [
    {
     "data": {
      "text/plain": [
       "array([-0.        ,  0.12591164,  1.        ,  1.12397447,  1.12397447,\n",
       "        1.99983768,  1.99997458,  2.00306896,  2.00306896,  2.12643182,\n",
       "        2.12905483,  2.12944401,  3.00453135,  3.00453135,  3.01254739,\n",
       "        3.01569266,  3.01691209,  3.12568275,  3.12568275,  3.1394174 ,\n",
       "        3.1394174 ,  3.14532227,  3.14532227,  3.99490718,  4.00612003,\n",
       "        4.01344961,  4.02162664,  4.04391256,  4.04391256,  4.04505071,\n",
       "        4.05574914,  4.05574914,  4.11939986,  4.12362097,  4.1444107 ,\n",
       "        4.14449174,  4.16025206,  4.16318961,  4.17766789,  4.18094592,\n",
       "        4.26441083,  4.96637003,  4.96637003,  4.98545589,  5.01687769,\n",
       "        5.01959283,  5.03656792,  5.03656792,  5.05780751,  5.05780751,\n",
       "        5.06368734,  5.10555148,  5.10555148,  5.12579794,  5.13420632,\n",
       "        5.14528313,  5.14528313,  5.16011322,  5.16011322,  5.18305417,\n",
       "        5.18305417,  5.1918607 ,  5.1918607 ,  5.2562973 ,  5.2562973 ,\n",
       "        5.35169484,  5.45592533,  5.52237149,  5.52237149,  5.53588191,\n",
       "        5.7410288 ,  5.7410288 ,  5.74187592,  5.86305735,  5.93211196,\n",
       "        5.99309638,  5.99309638,  6.01123592,  6.04489729,  6.04936067,\n",
       "        6.06083144,  6.06083144,  6.06173528,  6.07164973,  6.07951367,\n",
       "        6.11744572,  6.13007663,  6.14637925,  6.14666608,  6.17687004,\n",
       "        6.1795007 ,  6.2025703 ,  6.2104295 ,  6.2398825 ,  6.26065842,\n",
       "        6.26835824,  6.27390653,  6.27390653,  6.06169173,  6.03396793])"
      ]
     },
     "execution_count": 242,
     "metadata": {},
     "output_type": "execute_result"
    }
   ],
   "source": [
    "T4=np.einsum(A,[11,4,8,0],A,[8,5,9,1],A,[9,6,10,2],A,[10,7,11,3]).reshape(chiw**4,chiw**4)\n",
    "ew = scipy.sparse.linalg.eigsh(T4, k=100, which='LM', return_eigenvectors=False)\n",
    "ew.sort()\n",
    "ew=ew[::-1]\n",
    "el=-np.log(np.abs(ew/ew[0]))\n",
    "(el/(el[2]-el[0]))[:100]"
   ]
  },
  {
   "cell_type": "code",
   "execution_count": 12,
   "metadata": {},
   "outputs": [
    {
     "name": "stderr",
     "output_type": "stream",
     "text": [
      "c:\\programdata\\miniconda3\\lib\\site-packages\\scipy\\sparse\\linalg\\eigen\\arpack\\arpack.py:1254: RuntimeWarning: k >= N - 1 for N * N square matrix. Attempting to use scipy.linalg.eig instead.\n",
      "  RuntimeWarning)\n"
     ]
    },
    {
     "data": {
      "text/plain": [
       "array([-0.00000000e+00,  4.99596599e-09,  9.20580353e-01,  9.23027805e-01,\n",
       "        9.74246459e-01,  9.91745214e-01,  9.96888023e-01,  9.97677177e-01,\n",
       "        9.98760396e-01,  1.00000000e+00,  1.03712251e+00,  1.04902022e+00,\n",
       "        1.07013854e+00,  1.08046930e+00,  1.12311929e+00,  1.17195892e+00,\n",
       "        1.18890350e+00,  1.24217920e+00,  1.24406100e+00,  1.27621656e+00,\n",
       "        1.27699451e+00,  1.28690860e+00,  1.28208019e+00,  1.27945905e+00,\n",
       "        1.22885842e+00,  1.21879832e+00,  1.19262162e+00,  1.10913150e+00,\n",
       "        1.10420462e+00,  1.08104846e+00,  1.06700641e+00,  1.05314342e+00,\n",
       "        9.94678778e-01,  9.41076610e-01,  4.05513452e-01,  4.05513447e-01])"
      ]
     },
     "execution_count": 12,
     "metadata": {},
     "output_type": "execute_result"
    }
   ],
   "source": [
    "T4reduced=np.einsum(A,[11,0,8,0],A,[8,5,9,1],A,[9,6,10,2],A,[10,3,11,3]).reshape(chiw**2,chiw**2)\n",
    "ew = scipy.sparse.linalg.eigsh(T4reduced, k=100, which='LM', maxiter=200, tol=1e-5, return_eigenvectors=False)\n",
    "ew.sort()\n",
    "ew=ew[::-1]\n",
    "el=-np.log(np.abs(ew/ew[0]))\n",
    "(el/(el[9]-el[0]))[:100]"
   ]
  },
  {
   "cell_type": "code",
   "execution_count": 35,
   "metadata": {},
   "outputs": [
    {
     "name": "stdout",
     "output_type": "stream",
     "text": [
      "vertical truncation err: 0.33200000533597757\n",
      "horizontal truncation err: 1.1928251353259178e-05\n",
      "Aout shape: (6, 6, 6, 6)\n"
     ]
    },
    {
     "ename": "ValueError",
     "evalue": "shapes (2,2) and (3,3,6) not aligned: 2 (dim 1) != 3 (dim 1)",
     "output_type": "error",
     "traceback": [
      "\u001b[1;31m---------------------------------------------------------------------------\u001b[0m",
      "\u001b[1;31mValueError\u001b[0m                                Traceback (most recent call last)",
      "\u001b[1;32m<ipython-input-35-64ce180220eb>\u001b[0m in \u001b[0;36m<module>\u001b[1;34m()\u001b[0m\n\u001b[0;32m      4\u001b[0m \u001b[0mop\u001b[0m\u001b[1;33m=\u001b[0m\u001b[0msz\u001b[0m\u001b[1;33m\u001b[0m\u001b[0m\n\u001b[0;32m      5\u001b[0m \u001b[1;33m\u001b[0m\u001b[0m\n\u001b[1;32m----> 6\u001b[1;33m \u001b[0mA0\u001b[0m\u001b[1;33m,\u001b[0m\u001b[0mAz\u001b[0m\u001b[1;33m=\u001b[0m\u001b[0mAsplit\u001b[0m\u001b[1;33m(\u001b[0m\u001b[0mAinit\u001b[0m\u001b[1;33m,\u001b[0m\u001b[0mchi\u001b[0m\u001b[1;33m,\u001b[0m\u001b[0mop\u001b[0m\u001b[1;33m=\u001b[0m\u001b[0mop\u001b[0m\u001b[1;33m)\u001b[0m\u001b[1;33m\u001b[0m\u001b[0m\n\u001b[0m\u001b[0;32m      7\u001b[0m \u001b[1;32mfor\u001b[0m \u001b[0mi\u001b[0m \u001b[1;32min\u001b[0m \u001b[0mrange\u001b[0m\u001b[1;33m(\u001b[0m\u001b[1;36m8\u001b[0m\u001b[1;33m)\u001b[0m\u001b[1;33m:\u001b[0m\u001b[1;33m\u001b[0m\u001b[0m\n\u001b[0;32m      8\u001b[0m     \u001b[0mA0\u001b[0m\u001b[1;33m,\u001b[0m\u001b[0mAz\u001b[0m\u001b[1;33m=\u001b[0m\u001b[0mcoarsen\u001b[0m\u001b[1;33m(\u001b[0m\u001b[0mA0\u001b[0m\u001b[1;33m,\u001b[0m\u001b[0mchi\u001b[0m\u001b[1;33m,\u001b[0m\u001b[0mAz\u001b[0m\u001b[1;33m)\u001b[0m\u001b[1;33m\u001b[0m\u001b[0m\n",
      "\u001b[1;32m~\\Desktop\\TNR\\TNR.py\u001b[0m in \u001b[0;36mAsplit\u001b[1;34m(Ainit, chi, verbose, op)\u001b[0m\n\u001b[0;32m    302\u001b[0m         \u001b[1;32mreturn\u001b[0m \u001b[0mAout\u001b[0m\u001b[1;33m\u001b[0m\u001b[0m\n\u001b[0;32m    303\u001b[0m     \u001b[1;32melse\u001b[0m\u001b[1;33m:\u001b[0m\u001b[1;33m\u001b[0m\u001b[0m\n\u001b[1;32m--> 304\u001b[1;33m         \u001b[0mAzout\u001b[0m\u001b[1;33m=\u001b[0m\u001b[1;36m0.5\u001b[0m\u001b[1;33m*\u001b[0m\u001b[1;33m(\u001b[0m\u001b[0mnp\u001b[0m\u001b[1;33m.\u001b[0m\u001b[0meinsum\u001b[0m\u001b[1;33m(\u001b[0m\u001b[0mvr2\u001b[0m\u001b[1;33m*\u001b[0m\u001b[0mnp\u001b[0m\u001b[1;33m.\u001b[0m\u001b[0msqrt\u001b[0m\u001b[1;33m(\u001b[0m\u001b[0mw2\u001b[0m\u001b[1;33m)\u001b[0m\u001b[1;33m,\u001b[0m\u001b[1;33m[\u001b[0m\u001b[1;36m4\u001b[0m\u001b[1;33m,\u001b[0m\u001b[1;36m5\u001b[0m\u001b[1;33m,\u001b[0m\u001b[1;36m0\u001b[0m\u001b[1;33m]\u001b[0m\u001b[1;33m,\u001b[0m\u001b[0mv\u001b[0m\u001b[1;33m,\u001b[0m\u001b[1;33m[\u001b[0m\u001b[1;36m5\u001b[0m\u001b[1;33m,\u001b[0m\u001b[1;36m7\u001b[0m\u001b[1;33m,\u001b[0m\u001b[1;36m1\u001b[0m\u001b[1;33m]\u001b[0m\u001b[1;33m,\u001b[0m\u001b[0mop\u001b[0m\u001b[1;33m@\u001b[0m\u001b[0mvl2\u001b[0m\u001b[1;33m*\u001b[0m\u001b[0mnp\u001b[0m\u001b[1;33m.\u001b[0m\u001b[0msqrt\u001b[0m\u001b[1;33m(\u001b[0m\u001b[0mw2\u001b[0m\u001b[1;33m)\u001b[0m\u001b[1;33m,\u001b[0m\u001b[1;33m[\u001b[0m\u001b[1;36m6\u001b[0m\u001b[1;33m,\u001b[0m\u001b[1;36m7\u001b[0m\u001b[1;33m,\u001b[0m\u001b[1;36m2\u001b[0m\u001b[1;33m]\u001b[0m\u001b[1;33m,\u001b[0m\u001b[0mv\u001b[0m\u001b[1;33m.\u001b[0m\u001b[0mconj\u001b[0m\u001b[1;33m(\u001b[0m\u001b[1;33m)\u001b[0m\u001b[1;33m,\u001b[0m\u001b[1;33m[\u001b[0m\u001b[1;36m4\u001b[0m\u001b[1;33m,\u001b[0m\u001b[1;36m6\u001b[0m\u001b[1;33m,\u001b[0m\u001b[1;36m3\u001b[0m\u001b[1;33m]\u001b[0m\u001b[1;33m)\u001b[0m\u001b[1;33m+\u001b[0m\u001b[0mnp\u001b[0m\u001b[1;33m.\u001b[0m\u001b[0meinsum\u001b[0m\u001b[1;33m(\u001b[0m\u001b[0mvr2\u001b[0m\u001b[1;33m*\u001b[0m\u001b[0mnp\u001b[0m\u001b[1;33m.\u001b[0m\u001b[0msqrt\u001b[0m\u001b[1;33m(\u001b[0m\u001b[0mw2\u001b[0m\u001b[1;33m)\u001b[0m\u001b[1;33m,\u001b[0m\u001b[1;33m[\u001b[0m\u001b[1;36m4\u001b[0m\u001b[1;33m,\u001b[0m\u001b[1;36m5\u001b[0m\u001b[1;33m,\u001b[0m\u001b[1;36m0\u001b[0m\u001b[1;33m]\u001b[0m\u001b[1;33m,\u001b[0m\u001b[0mv\u001b[0m\u001b[1;33m,\u001b[0m\u001b[1;33m[\u001b[0m\u001b[1;36m5\u001b[0m\u001b[1;33m,\u001b[0m\u001b[1;36m7\u001b[0m\u001b[1;33m,\u001b[0m\u001b[1;36m1\u001b[0m\u001b[1;33m]\u001b[0m\u001b[1;33m,\u001b[0m\u001b[0mvl2\u001b[0m\u001b[1;33m*\u001b[0m\u001b[0mnp\u001b[0m\u001b[1;33m.\u001b[0m\u001b[0msqrt\u001b[0m\u001b[1;33m(\u001b[0m\u001b[0mw2\u001b[0m\u001b[1;33m)\u001b[0m\u001b[1;33m,\u001b[0m\u001b[1;33m[\u001b[0m\u001b[1;36m6\u001b[0m\u001b[1;33m,\u001b[0m\u001b[1;36m7\u001b[0m\u001b[1;33m,\u001b[0m\u001b[1;36m2\u001b[0m\u001b[1;33m]\u001b[0m\u001b[1;33m,\u001b[0m\u001b[0mop\u001b[0m\u001b[1;33m@\u001b[0m\u001b[0mv\u001b[0m\u001b[1;33m.\u001b[0m\u001b[0mconj\u001b[0m\u001b[1;33m(\u001b[0m\u001b[1;33m)\u001b[0m\u001b[1;33m,\u001b[0m\u001b[1;33m[\u001b[0m\u001b[1;36m4\u001b[0m\u001b[1;33m,\u001b[0m\u001b[1;36m6\u001b[0m\u001b[1;33m,\u001b[0m\u001b[1;36m3\u001b[0m\u001b[1;33m]\u001b[0m\u001b[1;33m)\u001b[0m\u001b[1;33m)\u001b[0m\u001b[1;33m\u001b[0m\u001b[0m\n\u001b[0m\u001b[0;32m    305\u001b[0m         \u001b[0mAzout\u001b[0m\u001b[1;33m/=\u001b[0m\u001b[0mAnorm\u001b[0m\u001b[1;33m\u001b[0m\u001b[0m\n\u001b[0;32m    306\u001b[0m         \u001b[1;32mreturn\u001b[0m \u001b[0mAout\u001b[0m\u001b[1;33m,\u001b[0m \u001b[0mAzout\u001b[0m\u001b[1;33m\u001b[0m\u001b[0m\n",
      "\u001b[1;31mValueError\u001b[0m: shapes (2,2) and (3,3,6) not aligned: 2 (dim 1) != 3 (dim 1)"
     ]
    }
   ],
   "source": [
    "#eval mag\n",
    "tensor_list={}\n",
    "tensor_list['A'],tensor_list['U'],tensor_list['vl'],tensor_list['vr'],tensor_list['yl'],tensor_list['yr'],tensor_list['D'],tensor_list['w'],tensor_list['u'],tensor_list['v']=A_list,U_list,vl_list,vr_list,yl_list,yr_list,D_list,w_list,u_list,v_list\n",
    "op=sz\n",
    "\n",
    "A0,Az=Asplit(Ainit,chi,op=op)\n",
    "for i in range(8):\n",
    "    A0,Az=coarsen(A0,chi,Az)\n",
    "MOq=MOq_(A0,Az)\n",
    "eval_op(MOq,tensor_list)  "
   ]
  },
  {
   "cell_type": "code",
   "execution_count": 70,
   "metadata": {},
   "outputs": [
    {
     "name": "stdout",
     "output_type": "stream",
     "text": [
      "RGsteps: 0 , <O> = 0j\n",
      "RGsteps: 1 , <O> = 0j\n",
      "RGsteps: 2 , <O> = 0j\n",
      "RGsteps: 3 , <O> = (1.4645132209427232e-08+0j)\n",
      "RGsteps: 4 , <O> = (-1.0092542614917613e-09+0j)\n",
      "RGsteps: 5 , <O> = (1.6494869855828184e-08+0j)\n",
      "RGsteps: 6 , <O> = (1.810992269371651e-08+0j)\n",
      "RGsteps: 7 , <O> = (-3.9155420681136e-08+0j)\n",
      "RGsteps: 8 , <O> = (-1.81152375193032e-07+0j)\n",
      "RGsteps: 9 , <O> = (-8.091429269816573e-07+0j)\n",
      "RGsteps: 10 , <O> = (-3.4081639479815316e-06+0j)\n",
      "RGsteps: 11 , <O> = (-1.3772852410857965e-05+0j)\n",
      "RGsteps: 12 , <O> = (-5.5243157568508106e-05+0j)\n",
      "RGsteps: 13 , <O> = (-0.0002211243697913897+0j)\n",
      "RGsteps: 14 , <O> = (-0.0008846486804189272+0j)\n",
      "RGsteps: 15 , <O> = (-0.003538711470290323+0j)\n",
      "RGsteps: 16 , <O> = (-0.014152758046130637+0j)\n",
      "RGsteps: 17 , <O> = (-0.0564683107051954+0j)\n",
      "RGsteps: 18 , <O> = (-0.21717823888768314+0j)\n",
      "RGsteps: 19 , <O> = (-0.5621843217333166+0j)\n",
      "RGsteps: 20 , <O> = (-0.6290102380000061+0j)\n",
      "RGsteps: 21 , <O> = (-0.6290227074300213+0j)\n",
      "RGsteps: 22 , <O> = (-0.6290227074300214+0j)\n",
      "RGsteps: 23 , <O> = (-0.6290227074300214+0j)\n",
      "RGsteps: 24 , <O> = (-0.6290227074300214+0j)\n",
      "RGsteps: 25 , <O> = (-0.6290227074300214+0j)\n",
      "RGsteps: 26 , <O> = (-0.6290227074300214+0j)\n",
      "RGsteps: 27 , <O> = (-0.6290227074300214+0j)\n",
      "RGsteps: 28 , <O> = (-0.6290227074300214+0j)\n",
      "RGsteps: 29 , <O> = (-0.6290227074300214+0j)\n"
     ]
    },
    {
     "data": {
      "text/plain": [
       "(-0.6290227074300214+5.745248156333163e-17j)"
      ]
     },
     "execution_count": 70,
     "metadata": {},
     "output_type": "execute_result"
    }
   ],
   "source": [
    "# classical ising:\n",
    "tensor_list={}\n",
    "tensor_list['A'],tensor_list['U'],tensor_list['vl'],tensor_list['vr'],tensor_list['yl'],tensor_list['yr'],tensor_list['D'],tensor_list['w'],tensor_list['u'],tensor_list['v']=A_list,U_list,vl_list,vr_list,yl_list,yr_list,D_list,w_list,u_list,v_list\n",
    "op=sz\n",
    "\n",
    "A0=A_list[0]\n",
    "MO=MO_(A0,op)\n",
    "eval_op(MO,tensor_list)"
   ]
  },
  {
   "cell_type": "code",
   "execution_count": 59,
   "metadata": {},
   "outputs": [
    {
     "name": "stdout",
     "output_type": "stream",
     "text": [
      "0.629648162973007\n"
     ]
    }
   ],
   "source": [
    "#exact value\n",
    "mag_exact=(1-np.sinh(2/T)**(-4))**(1/8)\n",
    "print(mag_exact)"
   ]
  },
  {
   "cell_type": "markdown",
   "metadata": {},
   "source": [
    "scaling dimensions"
   ]
  },
  {
   "cell_type": "code",
   "execution_count": 225,
   "metadata": {},
   "outputs": [],
   "source": [
    "i=3\n",
    "A=A_list[i+1]\n",
    "Aold,U,vl,vr,yl,yr,D,w,u,v=A_list[i],U_list[i],vl_list[i],vr_list[i],yl_list[i],yr_list[i],D_list[i],w_list[i],u_list[i],v_list[i]\n",
    "\n",
    "\n",
    "gl=gl_(vl)\n",
    "gr=gr_(vr)\n",
    "gu=gu_(Aold,U,vl,vr)\n",
    "gnw=gnw_(vl,vr,yr,D,w)\n",
    "gne=gne_(vl,vr,yl,D,w)\n",
    "gnw,gne=gauge_(gnw,gne,u,v)\n",
    "chiwt=min(chiw,Aold.shape[1])\n",
    "chiyt=min(chiy,Aold.shape[0])\n",
    "\n",
    "def scaleop(v):\n",
    "    M=v.reshape(chiwt,chiwt,chiyt,chiyt,chiyt,chiyt,chiwt,chiwt)\n",
    "    Mscaled=rg_(M,gl,gr,gu,gnw,gne)\n",
    "    return Mscaled.flatten()\n",
    "\n",
    "n=chiw**4*chiy**4"
   ]
  },
  {
   "cell_type": "code",
   "execution_count": 233,
   "metadata": {},
   "outputs": [
    {
     "data": {
      "text/plain": [
       "array([-0.        ,  0.12677561,  1.00035411,  1.12314818,  1.12391534,\n",
       "        2.00016536,  2.00021137,  2.0006836 ,  2.00107136,  2.1210812 ,\n",
       "        2.12567347,  2.12778398,  2.99864148,  2.99916299,  2.99959015,\n",
       "        3.00017952,  3.00198907,  3.10273781,  3.12477342,  3.12525128,\n",
       "        3.12935573,  3.13098694,  3.13803997,  3.98877435,  3.99197728])"
      ]
     },
     "execution_count": 233,
     "metadata": {},
     "output_type": "execute_result"
    }
   ],
   "source": [
    "import scipy\n",
    "from scipy.sparse.linalg import LinearOperator\n",
    "\n",
    "N_level=25\n",
    "Atemp = LinearOperator((n,n), matvec = scaleop, dtype='complex')\n",
    "ew = scipy.sparse.linalg.eigs(Atemp, k=N_level, which='LM', maxiter=200, tol=1e-5, return_eigenvectors=False)\n",
    "ew=ew[::-1]\n",
    "-np.log2(np.abs(ew/ew[0]))"
   ]
  },
  {
   "cell_type": "code",
   "execution_count": 228,
   "metadata": {},
   "outputs": [
    {
     "data": {
      "text/plain": [
       "array([-0.        ,  0.18126637,  0.56473003,  0.7651075 ,  0.82930577,\n",
       "        0.93717961,  1.15840441,  1.16340123,  1.21039609,  1.23688751,\n",
       "        1.46377128,  1.54051149,  1.57518613,  1.57518613,  1.64407593,\n",
       "        1.64407593,  1.64840365,  1.86336301,  1.8636821 ,  1.86368214])"
      ]
     },
     "execution_count": 228,
     "metadata": {},
     "output_type": "execute_result"
    }
   ],
   "source": [
    "i=3\n",
    "A=A_list[i+1]\n",
    "Aold,U,vl,vr,yl,yr,D,w,u,v=A_list[i],U_list[i],vl_list[i],vr_list[i],yl_list[i],yr_list[i],D_list[i],w_list[i],u_list[i],v_list[i]\n",
    "\n",
    "\n",
    "wgauged=w@u\n",
    "# wgauged=w\n",
    "\n",
    "def scaleop(v):\n",
    "    M=v.reshape(chiw,chiw,chiw,chiw)\n",
    "    mera=np.einsum(M,[0,1,2,3],U,[0,1,8,9],wgauged,[12,8,4],wgauged,[9,13,5],U.conj(),[2,3,10,11],wgauged.conj(),[12,10,6],wgauged.conj(),[11,13,7],optimize=(\"greedy\",2**100))\n",
    "    return mera.flatten()\n",
    "\n",
    "n=chiw**4\n",
    "\n",
    "import scipy\n",
    "from scipy.sparse.linalg import LinearOperator\n",
    "\n",
    "N_level=20\n",
    "Atemp = LinearOperator((n,n), matvec = scaleop, dtype='complex')\n",
    "ew = scipy.sparse.linalg.eigs(Atemp, k=20,which='LM', maxiter=200, tol=1e-5, return_eigenvectors=False)\n",
    "ew=ew[::-1]\n",
    "-np.log2(np.abs(ew/ew[0]))"
   ]
  },
  {
   "cell_type": "code",
   "execution_count": 11,
   "metadata": {},
   "outputs": [],
   "source": [
    "# compress legs\n",
    "\n",
    "# def wrenv_(A):\n",
    "#     return np.einsum(A,[5,6,0,8],A,[4,7,1,6],A.conj(),[4,7,3,9],A.conj(),[5,9,2,8])\n",
    "# def wlenv_(A):\n",
    "#     return np.einsum(A,[0,6,5,8],A,[1,7,4,6],A.conj(),[3,7,4,9],A.conj(),[2,9,5,8])\n",
    "# def wvenv_(A):\n",
    "#     return np.einsum(A,[8,0,6,5],A,[6,1,7,4],A.conj(),[8,2,9,5],A.conj(),[9,3,7,4])\n",
    "# chik=20\n",
    "# wrenv=wrenv_(A)\n",
    "# _,wr=compress(wrenv,chik)\n",
    "# wlenv=wlenv_(A)\n",
    "# _,wl=compress(wlenv,chik)\n",
    "# wvenv=wvenv_(A)\n",
    "# _,wv=compress(wvenv,chik)\n",
    "\n",
    "# wrenv=wrenv_(Aold)\n",
    "# _,wrold=compress(wrenv,chik)\n",
    "# wlenv=wlenv_(Aold)\n",
    "# _,wlold=compress(wlenv,chik)\n",
    "# wvenv=wvenv_(Aold)\n",
    "# _,wvold=compress(wvenv,chik)\n",
    "\n",
    "# glw=np.einsum(gl,[3,4,1,2],wrold.conj(),[3,4,0])\n",
    "# grw=np.einsum(gr,[3,4,1,2],wlold.conj(),[3,4,0])\n",
    "# guw=np.einsum(gu,[3,4,1,2],wvold.conj(),[3,4,0])\n",
    "\n",
    "# def scaleop(v):\n",
    "#     v4=v.reshape(chik,chik,chik,chik)\n",
    "#     out=np.einsum(v4,[8,9,10,11],glw,[10,19,21],grw,[8,18,20],guw,[9,22,23],guw.conj(),[11,16,17],gnw,[20,22,5,14],gne,[21,23,7,15],gnw.conj(),[18,16,4,12],gne.conj(),[19,17,6,13],wl,[4,5,0],wr,[6,7,2],wv,[14,15,1],wv.conj(),[12,13,3],optimize=('greedy',2**100))\n",
    "#     return out.flatten()\n",
    "# def rscaleop(v):\n",
    "#     v4=v.reshape(chik,chik,chik,chik)\n",
    "#     out=np.einsum(v4.conj(),[0,1,2,3],glw,[10,19,21],grw,[8,18,20],guw,[9,22,23],guw.conj(),[11,16,17],gnw,[20,22,5,14],gne,[21,23,7,15],gnw.conj(),[18,16,4,12],gne.conj(),[19,17,6,13],wl,[4,5,0],wr,[6,7,2],wv,[14,15,1],wv.conj(),[12,13,3],optimize=('greedy',2**100))\n",
    "#     return out.flatten().conj()\n",
    "\n",
    "# n=chik**4"
   ]
  }
 ],
 "metadata": {
  "kernelspec": {
   "display_name": "Python 3",
   "language": "python",
   "name": "python3"
  },
  "language_info": {
   "codemirror_mode": {
    "name": "ipython",
    "version": 3
   },
   "file_extension": ".py",
   "mimetype": "text/x-python",
   "name": "python",
   "nbconvert_exporter": "python",
   "pygments_lexer": "ipython3",
   "version": "3.6.5"
  }
 },
 "nbformat": 4,
 "nbformat_minor": 2
}
