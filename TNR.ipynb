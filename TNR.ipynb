{
 "cells": [
  {
   "cell_type": "code",
   "execution_count": 1,
   "metadata": {},
   "outputs": [],
   "source": [
    "%load_ext autoreload\n",
    "%autoreload 2\n",
    "from TNR import *"
   ]
  },
  {
   "cell_type": "code",
   "execution_count": 2,
   "metadata": {},
   "outputs": [],
   "source": [
    "# htemp=KP(s0,sx,sx,s0)+KP(s0,sy,sy,s0)+KP(s0,sz,sz,s0)\n",
    "# htemp=KP(sx,sx,s0,s0)+KP(sy,sy,s0,s0)+KP(sz,sz,s0,s0)\n",
    "# htemp=KP(sz,sz)+(KP(sx,s0)+KP(s0,sx))/4\n",
    "\n",
    "# d=int(np.sqrt(htemp.shape[0]))\n",
    "# Ainit=expm(-htemp).reshape(d,d,d,d)\n",
    "# A0=Asplit(Ainit,chi)\n",
    "\n",
    "na=np.newaxis\n",
    "s=np.array([1,-1])\n",
    "Tc=2/np.log(1+np.sqrt(2))\n",
    "T=1*Tc\n",
    "A0=np.exp(-1/T*(s[:,na,na,na]*s[na,:,na,na]+s[na,:,na,na]*s[na,na,:,na]\\\n",
    "                +s[na,na,:,na]*s[na,na,na,:]+s[na,na,na,:]*s[:,na,na,na]))\n",
    "A0/=np.linalg.norm(A0)\n",
    "\n",
    "chi={}\n",
    "chi['w'],chi['y'],chi['u'],chi['v']=6,6,6,6\n",
    "chiw,chiy,chiu,chiv=chi['w'],chi['y'],chi['u'],chi['v']"
   ]
  },
  {
   "cell_type": "code",
   "execution_count": 3,
   "metadata": {},
   "outputs": [
    {
     "name": "stdout",
     "output_type": "stream",
     "text": [
      "RG step:  0\n",
      "iter=0, U.Uenv=0.58\n",
      "iter=100, U.Uenv=0.58\n",
      "iter=200, U.Uenv=0.58\n",
      "iter=300, U.Uenv=0.58\n",
      "error in U, vl, vr optimization: 4.09413e-12\n",
      "error in yl, yr, D optimization: 0.00259533\n",
      "error in w optimization: 0.0453499\n",
      "Anew.shape!=Aold.shape, skip fix_gauge\n",
      "\n",
      "RG step:  1\n",
      "iter=0, U.Uenv=0.488667\n",
      "iter=100, U.Uenv=0.489098\n",
      "iter=200, U.Uenv=0.489099\n",
      "iter=300, U.Uenv=0.4891\n",
      "iter=400, U.Uenv=0.4891\n",
      "iter=500, U.Uenv=0.4891\n",
      "error in U, vl, vr optimization: 0.00548505\n",
      "error in yl, yr, D optimization: 0.013349\n",
      "error in w optimization: 0.0222184\n",
      "iter=0, u.uenv=0.337954, v.venv=0.95806\n",
      "iter=1000, u.uenv=0.969214, v.venv=0.969214\n",
      "iter=2000, u.uenv=0.969214, v.venv=0.969214\n",
      "Adiff 0.248138\n",
      "\n",
      "RG step:  2\n",
      "iter=0, U.Uenv=0.527759\n",
      "iter=100, U.Uenv=0.527833\n",
      "iter=200, U.Uenv=0.527833\n",
      "iter=300, U.Uenv=0.527833\n",
      "error in U, vl, vr optimization: 0.00250269\n",
      "error in yl, yr, D optimization: 0.00273869\n",
      "error in w optimization: 0.0188834\n",
      "iter=0, u.uenv=0.968266, v.venv=0.971475\n",
      "iter=1000, u.uenv=0.970696, v.venv=0.970696\n",
      "iter=2000, u.uenv=0.970696, v.venv=0.970696\n",
      "Adiff 0.242089\n",
      "\n",
      "RG step:  3\n",
      "iter=0, U.Uenv=0.501582\n",
      "iter=100, U.Uenv=0.501639\n",
      "iter=200, U.Uenv=0.501643\n",
      "iter=300, U.Uenv=0.501643\n",
      "iter=400, U.Uenv=0.501643\n",
      "iter=500, U.Uenv=0.501643\n",
      "error in U, vl, vr optimization: 0.0016432\n",
      "error in yl, yr, D optimization: 0.00303443\n",
      "error in w optimization: 0.0205581\n",
      "iter=0, u.uenv=0.818842, v.venv=0.837672\n",
      "iter=1000, u.uenv=0.997055, v.venv=0.997055\n",
      "iter=2000, u.uenv=0.997055, v.venv=0.997055\n",
      "Adiff 0.0767445\n",
      "\n",
      "RG step:  4\n",
      "iter=0, U.Uenv=0.501533\n",
      "iter=100, U.Uenv=0.501598\n",
      "iter=200, U.Uenv=0.501602\n",
      "iter=300, U.Uenv=0.501602\n",
      "iter=400, U.Uenv=0.501602\n",
      "iter=500, U.Uenv=0.501602\n",
      "error in U, vl, vr optimization: 0.00155081\n",
      "error in yl, yr, D optimization: 0.00312866\n",
      "error in w optimization: 0.0248296\n",
      "iter=0, u.uenv=0.991415, v.venv=0.995919\n",
      "iter=1000, u.uenv=0.999589, v.venv=0.999589\n",
      "iter=2000, u.uenv=0.999589, v.venv=0.999589\n",
      "Adiff 0.0286696\n",
      "\n",
      "RG step:  5\n",
      "iter=0, U.Uenv=0.502204\n",
      "iter=100, U.Uenv=0.502292\n",
      "iter=200, U.Uenv=0.502295\n",
      "iter=300, U.Uenv=0.502295\n",
      "iter=400, U.Uenv=0.502295\n",
      "iter=500, U.Uenv=0.502295\n",
      "error in U, vl, vr optimization: 0.00171376\n",
      "error in yl, yr, D optimization: 0.00322615\n",
      "error in w optimization: 0.0248924\n",
      "iter=0, u.uenv=0.905181, v.venv=0.988896\n",
      "iter=1000, u.uenv=0.998261, v.venv=0.998261\n",
      "iter=2000, u.uenv=0.998261, v.venv=0.998261\n",
      "Adiff 0.0589789\n",
      "\n"
     ]
    }
   ],
   "source": [
    "RGsteps=6\n",
    "A_list=[None]*(RGsteps+1)\n",
    "Anorm_list=[None]*(RGsteps+1)\n",
    "B_list,U_list,vl_list,vr_list,yl_list,yr_list,D_list,w_list,u_list,v_list=[[None]*RGsteps for i in range(10)]\n",
    "A_list[0]=A0\n",
    "\n",
    "for i in range(RGsteps):\n",
    "    print('RG step: ',i)\n",
    "    Aold=A_list[i]\n",
    "    B,U,vl,vr,yl,yr,D,w,u,v,A,Anorm=doTNR(Aold,chi)\n",
    "    B_list[i],U_list[i],vl_list[i],vr_list[i],yl_list[i],yr_list[i],D_list[i],w_list[i],u_list[i],v_list[i],A_list[i+1],Anorm_list[i+1]=\\\n",
    "    B,U,vl,vr,yl,yr,D,w,u,v,A,Anorm\n",
    "    print()"
   ]
  },
  {
   "cell_type": "code",
   "execution_count": 4,
   "metadata": {},
   "outputs": [],
   "source": [
    "# def Az_(Ainit,chi):\n",
    "#     #input: Ainit, chi, op: operator acting on a leg\n",
    "#     #output:up-down symmetric Aout\n",
    "#     chiw,chiy,chiu,chiv=chi['w'],chi['y'],chi['u'],chi['v']\n",
    "#     As=Ainit.shape\n",
    "    \n",
    "#     #vertical cut\n",
    "#     Av=Ainit.reshape(As[0]*As[1],As[2]*As[3])\n",
    "#     dtemp,vtemp=eigCut(Av,chiw)\n",
    "#     v=(vtemp*np.sqrt(dtemp)).reshape(As[0],As[1],min(chiw,As[0]*As[1]))\n",
    "\n",
    "#     #horizontal cut\n",
    "#     vl2,w,vr2= h_cut(Ainit,chiy)\n",
    "#     Aout=np.einsum(vr2,[4,5,0],v,[5,7,1],vl2*w,[6,7,2],v.conj(),[4,6,3])\n",
    "#     Azout=0.5*(np.einsum(vr2,[4,5,0],v,[5,7,1],sz@vl2*w,[6,7,2],v.conj(),[4,6,3])+np.einsum(vr2,[4,5,0],v,[5,7,1],vl2*w,[6,7,2],sz@v.conj(),[4,6,3]))\n",
    "#     Anorm=np.linalg.norm(Aout)\n",
    "#     return Azout/Anorm\n",
    "\n",
    "# A0=Asplit(Ainit,chi)\n",
    "# Az=Az_(Ainit,chi)\n",
    "# def MZ_(A0,Az):\n",
    "#     return np.einsum(Az,[2,9,8,0],A0,[8,10,3,1],A0,[4,6,11,9],A0,[11,7,5,10])"
   ]
  },
  {
   "cell_type": "code",
   "execution_count": 17,
   "metadata": {},
   "outputs": [
    {
     "name": "stdout",
     "output_type": "stream",
     "text": [
      "RGsteps: 0 , <O> = (1.4212960490389293e-05+0j)\n",
      "RGsteps: 1 , <O> = (0.0009028984210861405+0j)\n",
      "RGsteps: 2 , <O> = (0.004384106686966572+0j)\n",
      "RGsteps: 3 , <O> = (0.01638443445884618+0j)\n",
      "RGsteps: 4 , <O> = (0.05657046213368866+0j)\n",
      "RGsteps: 5 , <O> = (0.18388684929804064+0j)\n"
     ]
    },
    {
     "data": {
      "text/plain": [
       "(0.18388684929804064-1.103265434319907e-19j)"
      ]
     },
     "execution_count": 17,
     "metadata": {},
     "output_type": "execute_result"
    }
   ],
   "source": [
    "#eval mag\n",
    "tensor_list={}\n",
    "tensor_list['A'],tensor_list['U'],tensor_list['vl'],tensor_list['vr'],tensor_list['yl'],tensor_list['yr'],tensor_list['D'],tensor_list['w'],tensor_list['u'],tensor_list['v']=A_list,U_list,vl_list,vr_list,yl_list,yr_list,D_list,w_list,u_list,v_list\n",
    "op=sz\n",
    "eval_op(op,tensor_list)"
   ]
  },
  {
   "cell_type": "code",
   "execution_count": 7,
   "metadata": {},
   "outputs": [
    {
     "name": "stdout",
     "output_type": "stream",
     "text": [
      "nan\n"
     ]
    },
    {
     "name": "stderr",
     "output_type": "stream",
     "text": [
      "c:\\programdata\\miniconda3\\lib\\site-packages\\ipykernel_launcher.py:2: RuntimeWarning: invalid value encountered in double_scalars\n",
      "  \n"
     ]
    }
   ],
   "source": [
    "#exact value\n",
    "mag_exact=(1-np.sinh(2/T)**(-4))**(1/8)\n",
    "print(mag_exact)"
   ]
  },
  {
   "cell_type": "markdown",
   "metadata": {},
   "source": [
    "scaling dimensions"
   ]
  },
  {
   "cell_type": "code",
   "execution_count": 13,
   "metadata": {},
   "outputs": [],
   "source": [
    "i=3\n",
    "A=A_list[i+1]\n",
    "Aold,U,vl,vr,yl,yr,D,w,u,v=A_list[i],U_list[i],vl_list[i],vr_list[i],yl_list[i],yr_list[i],D_list[i],w_list[i],u_list[i],v_list[i]\n",
    "\n",
    "gl=gl_(vl)\n",
    "gr=gr_(vr)\n",
    "gu=gu_(Aold,U,vl,vr)\n",
    "gnw=gnw_(vl,vr,yr,D,w)\n",
    "gne=gne_(vl,vr,yl,D,w)\n",
    "gnw,gne=gauge_(gnw,gne,u,v)\n",
    "\n",
    "def scaleop(v):\n",
    "    M=v.reshape(chiw,chiw,chiy,chiy,chiy,chiy,chiw,chiw)\n",
    "    Mscaled=rg_(M,gl,gr,gu,gnw,gne)\n",
    "    return Mscaled.flatten()\n",
    "\n",
    "n=chiw**4*chiy**4"
   ]
  },
  {
   "cell_type": "code",
   "execution_count": 15,
   "metadata": {},
   "outputs": [
    {
     "data": {
      "text/plain": [
       "array([-0.        ,  0.12896736,  1.00033299,  1.12116407,  1.12141163,\n",
       "        1.99889291,  1.99930069,  2.00120964,  2.00121109,  2.11838727,\n",
       "        2.12264671,  2.12951043,  2.99357471,  2.99388519,  3.00051744,\n",
       "        3.00216003,  3.00295551,  3.09813267,  3.12658064,  3.12660881,\n",
       "        3.130263  ,  3.13157471,  3.13413701,  3.98227535,  3.98340818,\n",
       "        3.9922838 ,  3.99400632,  3.9942293 ,  3.99445219,  4.00098392,\n",
       "        4.0014756 ,  4.00535889,  4.05659084,  4.1064788 ,  4.10765815,\n",
       "        4.11969705,  4.12397837,  4.12943898,  4.13575797,  4.14180143,\n",
       "        4.14249737,  4.89492834,  4.9342542 ,  4.93751714,  4.94794961,\n",
       "        4.95031252,  4.98272165,  4.9843899 ,  4.99182022,  4.99480473,\n",
       "        4.99551623,  4.99568795,  5.00191243,  5.00273679,  5.00633475,\n",
       "        5.06151567,  5.06583195,  5.09953454,  5.10700774,  5.10763618,\n",
       "        5.12252753,  5.12292191,  5.13679564,  5.13825183,  5.14416891,\n",
       "        5.14639191,  5.14771142,  5.18492056,  5.65456615,  5.80967969,\n",
       "        5.81940428,  5.8548844 ,  5.8594869 ,  5.89664031,  5.90142727,\n",
       "        5.93495258,  5.936714  ,  5.94645873,  5.95644448,  5.98105083,\n",
       "        5.98368782,  5.98495179,  5.985839  ,  5.98718158,  5.99339643,\n",
       "        5.99549729,  5.9968378 ,  5.99758193,  6.00404666,  6.0050986 ,\n",
       "        6.00565617,  6.00589642,  6.05909164,  6.061576  ,  6.06677942,\n",
       "        6.09876473,  6.09935499,  6.10016144,  6.10169337,  6.12520882])"
      ]
     },
     "execution_count": 15,
     "metadata": {},
     "output_type": "execute_result"
    }
   ],
   "source": [
    "import scipy\n",
    "from scipy.sparse.linalg import LinearOperator\n",
    "\n",
    "N_level=100\n",
    "Atemp = LinearOperator((n,n), matvec = scaleop, dtype='complex')\n",
    "ew = scipy.sparse.linalg.eigs(Atemp, k=N_level, which='LM', maxiter=200, tol=1e-5, return_eigenvectors=False)\n",
    "ew=ew[::-1]\n",
    "-np.log2(np.abs(ew/ew[0]))"
   ]
  },
  {
   "cell_type": "code",
   "execution_count": 11,
   "metadata": {},
   "outputs": [],
   "source": [
    "# compress legs\n",
    "\n",
    "# def wrenv_(A):\n",
    "#     return np.einsum(A,[5,6,0,8],A,[4,7,1,6],A.conj(),[4,7,3,9],A.conj(),[5,9,2,8])\n",
    "# def wlenv_(A):\n",
    "#     return np.einsum(A,[0,6,5,8],A,[1,7,4,6],A.conj(),[3,7,4,9],A.conj(),[2,9,5,8])\n",
    "# def wvenv_(A):\n",
    "#     return np.einsum(A,[8,0,6,5],A,[6,1,7,4],A.conj(),[8,2,9,5],A.conj(),[9,3,7,4])\n",
    "# chik=20\n",
    "# wrenv=wrenv_(A)\n",
    "# _,wr=compress(wrenv,chik)\n",
    "# wlenv=wlenv_(A)\n",
    "# _,wl=compress(wlenv,chik)\n",
    "# wvenv=wvenv_(A)\n",
    "# _,wv=compress(wvenv,chik)\n",
    "\n",
    "# wrenv=wrenv_(Aold)\n",
    "# _,wrold=compress(wrenv,chik)\n",
    "# wlenv=wlenv_(Aold)\n",
    "# _,wlold=compress(wlenv,chik)\n",
    "# wvenv=wvenv_(Aold)\n",
    "# _,wvold=compress(wvenv,chik)\n",
    "\n",
    "# glw=np.einsum(gl,[3,4,1,2],wrold.conj(),[3,4,0])\n",
    "# grw=np.einsum(gr,[3,4,1,2],wlold.conj(),[3,4,0])\n",
    "# guw=np.einsum(gu,[3,4,1,2],wvold.conj(),[3,4,0])\n",
    "\n",
    "# def scaleop(v):\n",
    "#     v4=v.reshape(chik,chik,chik,chik)\n",
    "#     out=np.einsum(v4,[8,9,10,11],glw,[10,19,21],grw,[8,18,20],guw,[9,22,23],guw.conj(),[11,16,17],gnw,[20,22,5,14],gne,[21,23,7,15],gnw.conj(),[18,16,4,12],gne.conj(),[19,17,6,13],wl,[4,5,0],wr,[6,7,2],wv,[14,15,1],wv.conj(),[12,13,3],optimize=('greedy',2**100))\n",
    "#     return out.flatten()\n",
    "# def rscaleop(v):\n",
    "#     v4=v.reshape(chik,chik,chik,chik)\n",
    "#     out=np.einsum(v4.conj(),[0,1,2,3],glw,[10,19,21],grw,[8,18,20],guw,[9,22,23],guw.conj(),[11,16,17],gnw,[20,22,5,14],gne,[21,23,7,15],gnw.conj(),[18,16,4,12],gne.conj(),[19,17,6,13],wl,[4,5,0],wr,[6,7,2],wv,[14,15,1],wv.conj(),[12,13,3],optimize=('greedy',2**100))\n",
    "#     return out.flatten().conj()\n",
    "\n",
    "# n=chik**4"
   ]
  }
 ],
 "metadata": {
  "kernelspec": {
   "display_name": "Python 3",
   "language": "python",
   "name": "python3"
  },
  "language_info": {
   "codemirror_mode": {
    "name": "ipython",
    "version": 3
   },
   "file_extension": ".py",
   "mimetype": "text/x-python",
   "name": "python",
   "nbconvert_exporter": "python",
   "pygments_lexer": "ipython3",
   "version": "3.6.5"
  }
 },
 "nbformat": 4,
 "nbformat_minor": 2
}
