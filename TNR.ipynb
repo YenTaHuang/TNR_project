{
 "cells": [
  {
   "cell_type": "code",
   "execution_count": 1,
   "metadata": {},
   "outputs": [],
   "source": [
    "%load_ext autoreload\n",
    "%autoreload 2\n",
    "from TNR import *"
   ]
  },
  {
   "cell_type": "code",
   "execution_count": 2,
   "metadata": {},
   "outputs": [],
   "source": [
    "# htemp=KP(s0,sx,sx,s0)+KP(s0,sy,sy,s0)+KP(s0,sz,sz,s0)\n",
    "# htemp=KP(sx,sx,s0,s0)+KP(sy,sy,s0,s0)+KP(sz,sz,s0,s0)\n",
    "# htemp=KP(sz,sz)+(KP(sx,s0)+KP(s0,sx))/4\n",
    "\n",
    "# d=int(np.sqrt(htemp.shape[0]))\n",
    "# Ainit=expm(-htemp).reshape(d,d,d,d)\n",
    "# A0=Asplit(Ainit,chi)\n",
    "\n",
    "na=np.newaxis\n",
    "s=np.array([1,-1])\n",
    "Tc=2/np.log(1+np.sqrt(2))\n",
    "T=1*Tc\n",
    "A0=np.exp(-1/T*(s[:,na,na,na]*s[na,:,na,na]+s[na,:,na,na]*s[na,na,:,na]\\\n",
    "                +s[na,na,:,na]*s[na,na,na,:]+s[na,na,na,:]*s[:,na,na,na]))\n",
    "A0/=np.linalg.norm(A0)\n",
    "\n",
    "chi={}\n",
    "chi['w'],chi['y'],chi['u'],chi['v']=6,6,6,6\n",
    "chiw,chiy,chiu,chiv=chi['w'],chi['y'],chi['u'],chi['v']"
   ]
  },
  {
   "cell_type": "code",
   "execution_count": 3,
   "metadata": {},
   "outputs": [
    {
     "name": "stdout",
     "output_type": "stream",
     "text": [
      "RG step:  0\n",
      "iter=0, U.Uenv=0.58\n",
      "iter=100, U.Uenv=0.58\n",
      "iter=200, U.Uenv=0.58\n",
      "error in U, vl, vr optimization: 8.69041e-12\n",
      "error in yl, yr, D optimization: 0.00268965\n",
      "error in w optimization: 0.0466489\n",
      "Anew.shape!=Aold.shape, skip fix_gauge\n",
      "\n",
      "RG step:  1\n",
      "iter=0, U.Uenv=0.488514\n",
      "iter=100, U.Uenv=0.48895\n",
      "iter=200, U.Uenv=0.488952\n",
      "iter=300, U.Uenv=0.488952\n",
      "iter=400, U.Uenv=0.488952\n",
      "iter=500, U.Uenv=0.488952\n",
      "iter=600, U.Uenv=0.488952\n",
      "iter=700, U.Uenv=0.488952\n",
      "error in U, vl, vr optimization: 0.00554717\n",
      "error in yl, yr, D optimization: 0.0133398\n",
      "error in w optimization: 0.0219681\n",
      "iter=0, u.uenv=0.362257, v.venv=0.957643\n",
      "iter=1000, u.uenv=0.968897, v.venv=0.968897\n",
      "iter=2000, u.uenv=0.968897, v.venv=0.968897\n",
      "Adiff 0.249413\n",
      "\n",
      "RG step:  2\n",
      "iter=0, U.Uenv=0.528154\n",
      "iter=100, U.Uenv=0.528227\n",
      "iter=200, U.Uenv=0.528227\n",
      "iter=300, U.Uenv=0.528227\n",
      "error in U, vl, vr optimization: 0.00247628\n",
      "error in yl, yr, D optimization: 0.00270597\n",
      "error in w optimization: 0.0188958\n",
      "iter=0, u.uenv=0.339714, v.venv=0.969633\n",
      "iter=1000, u.uenv=0.970984, v.venv=0.970984\n",
      "iter=2000, u.uenv=0.970984, v.venv=0.970984\n",
      "Adiff 0.240899\n",
      "\n",
      "RG step:  3\n",
      "iter=0, U.Uenv=0.501471\n",
      "iter=100, U.Uenv=0.501527\n",
      "iter=200, U.Uenv=0.501531\n",
      "iter=300, U.Uenv=0.501531\n",
      "iter=400, U.Uenv=0.501531\n",
      "iter=500, U.Uenv=0.501531\n",
      "error in U, vl, vr optimization: 0.00164374\n",
      "error in yl, yr, D optimization: 0.00305493\n",
      "error in w optimization: 0.0205746\n",
      "iter=0, u.uenv=0.315413, v.venv=0.994707\n",
      "iter=1000, u.uenv=0.999581, v.venv=0.999581\n",
      "iter=2000, u.uenv=0.999581, v.venv=0.999581\n",
      "Adiff 0.0289654\n",
      "\n",
      "RG step:  4\n",
      "iter=0, U.Uenv=0.501618\n",
      "iter=100, U.Uenv=0.501684\n",
      "iter=200, U.Uenv=0.501687\n",
      "iter=300, U.Uenv=0.501687\n",
      "iter=400, U.Uenv=0.501687\n",
      "iter=500, U.Uenv=0.501687\n",
      "error in U, vl, vr optimization: 0.00155321\n",
      "error in yl, yr, D optimization: 0.00312809\n",
      "error in w optimization: 0.024845\n",
      "iter=0, u.uenv=0.886488, v.venv=0.99401\n",
      "iter=1000, u.uenv=0.994618, v.venv=0.994618\n",
      "iter=2000, u.uenv=0.994618, v.venv=0.994618\n",
      "Adiff 0.103748\n",
      "\n",
      "RG step:  5\n",
      "iter=0, U.Uenv=0.502051\n",
      "iter=100, U.Uenv=0.502141\n",
      "iter=200, U.Uenv=0.502144\n",
      "iter=300, U.Uenv=0.502144\n",
      "iter=400, U.Uenv=0.502144\n",
      "iter=500, U.Uenv=0.502144\n",
      "error in U, vl, vr optimization: 0.00171399\n",
      "error in yl, yr, D optimization: 0.0032385\n",
      "error in w optimization: 0.0249627\n",
      "iter=0, u.uenv=0.807803, v.venv=0.83201\n",
      "iter=1000, u.uenv=0.99866, v.venv=0.99866\n",
      "iter=2000, u.uenv=0.99866, v.venv=0.99866\n",
      "Adiff 0.0517682\n",
      "\n"
     ]
    }
   ],
   "source": [
    "RGsteps=6\n",
    "A_list=[None]*(RGsteps+1)\n",
    "Anorm_list=[None]*(RGsteps+1)\n",
    "B_list,U_list,vl_list,vr_list,yl_list,yr_list,D_list,w_list,u_list,v_list=[[None]*RGsteps for i in range(10)]\n",
    "A_list[0]=A0\n",
    "\n",
    "for i in range(RGsteps):\n",
    "    print('RG step: ',i)\n",
    "    Aold=A_list[i]\n",
    "    B,U,vl,vr,yl,yr,D,w,u,v,A,Anorm=doTNR(Aold,chi)\n",
    "    B_list[i],U_list[i],vl_list[i],vr_list[i],yl_list[i],yr_list[i],D_list[i],w_list[i],u_list[i],v_list[i],A_list[i+1],Anorm_list[i+1]=\\\n",
    "    B,U,vl,vr,yl,yr,D,w,u,v,A,Anorm\n",
    "    print()"
   ]
  },
  {
   "cell_type": "code",
   "execution_count": 4,
   "metadata": {},
   "outputs": [],
   "source": [
    "# def Az_(Ainit,chi):\n",
    "#     #input: Ainit, chi, op: operator acting on a leg\n",
    "#     #output:up-down symmetric Aout\n",
    "#     chiw,chiy,chiu,chiv=chi['w'],chi['y'],chi['u'],chi['v']\n",
    "#     As=Ainit.shape\n",
    "    \n",
    "#     #vertical cut\n",
    "#     Av=Ainit.reshape(As[0]*As[1],As[2]*As[3])\n",
    "#     dtemp,vtemp=eigCut(Av,chiw)\n",
    "#     v=(vtemp*np.sqrt(dtemp)).reshape(As[0],As[1],min(chiw,As[0]*As[1]))\n",
    "\n",
    "#     #horizontal cut\n",
    "#     vl2,w,vr2= h_cut(Ainit,chiy)\n",
    "#     Aout=np.einsum(vr2,[4,5,0],v,[5,7,1],vl2*w,[6,7,2],v.conj(),[4,6,3])\n",
    "#     Azout=0.5*(np.einsum(vr2,[4,5,0],v,[5,7,1],sz@vl2*w,[6,7,2],v.conj(),[4,6,3])+np.einsum(vr2,[4,5,0],v,[5,7,1],vl2*w,[6,7,2],sz@v.conj(),[4,6,3]))\n",
    "#     Anorm=np.linalg.norm(Aout)\n",
    "#     return Azout/Anorm\n",
    "\n",
    "# A0=Asplit(Ainit,chi)\n",
    "# Az=Az_(Ainit,chi)\n",
    "# def MZ_(A0,Az):\n",
    "#     return np.einsum(Az,[2,9,8,0],A0,[8,10,3,1],A0,[4,6,11,9],A0,[11,7,5,10])"
   ]
  },
  {
   "cell_type": "code",
   "execution_count": 6,
   "metadata": {},
   "outputs": [
    {
     "name": "stdout",
     "output_type": "stream",
     "text": [
      "<O>= (1.4323207090125877e-05+0j)\n",
      "<O>= (8.912149832822598e-05+0j)\n",
      "<O>= (0.0004144001262507751+0j)\n",
      "<O>= (0.0015162408309614293+0j)\n",
      "<O>= (0.005181632412328955+0j)\n",
      "<O>= (0.017478227403266516+0j)\n"
     ]
    },
    {
     "data": {
      "text/plain": [
       "(0.017478227403266516-2.225942296384518e-19j)"
      ]
     },
     "execution_count": 6,
     "metadata": {},
     "output_type": "execute_result"
    }
   ],
   "source": [
    "#eval mag\n",
    "tensor_list={}\n",
    "tensor_list['A'],tensor_list['U'],tensor_list['vl'],tensor_list['vr'],tensor_list['yl'],tensor_list['yr'],tensor_list['D'],tensor_list['w'],tensor_list['u'],tensor_list['v']=A_list,U_list,vl_list,vr_list,yl_list,yr_list,D_list,w_list,u_list,v_list\n",
    "op=sz\n",
    "eval_op(op,tensor_list)"
   ]
  },
  {
   "cell_type": "code",
   "execution_count": 7,
   "metadata": {},
   "outputs": [
    {
     "name": "stdout",
     "output_type": "stream",
     "text": [
      "nan\n"
     ]
    },
    {
     "name": "stderr",
     "output_type": "stream",
     "text": [
      "c:\\programdata\\miniconda3\\lib\\site-packages\\ipykernel_launcher.py:2: RuntimeWarning: invalid value encountered in double_scalars\n",
      "  \n"
     ]
    }
   ],
   "source": [
    "#exact value\n",
    "mag_exact=(1-np.sinh(2/T)**(-4))**(1/8)\n",
    "print(mag_exact)"
   ]
  },
  {
   "cell_type": "markdown",
   "metadata": {},
   "source": [
    "scaling dimensions"
   ]
  },
  {
   "cell_type": "code",
   "execution_count": 4,
   "metadata": {},
   "outputs": [],
   "source": [
    "i=3\n",
    "A=A_list[i+1]\n",
    "Aold,U,vl,vr,yl,yr,D,w,u,v=A_list[i],U_list[i],vl_list[i],vr_list[i],yl_list[i],yr_list[i],D_list[i],w_list[i],u_list[i],v_list[i]\n",
    "\n",
    "gl=gl_(vl)\n",
    "gr=gr_(vr)\n",
    "gu=gu_(Aold,U,vl,vr)\n",
    "gnw=gnw_(vl,vr,yr,D,w)\n",
    "gne=gne_(vl,vr,yl,D,w)\n",
    "gnw,gne=gauge_(gnw,gne,u,v)"
   ]
  },
  {
   "cell_type": "code",
   "execution_count": 11,
   "metadata": {},
   "outputs": [],
   "source": [
    "# compress legs\n",
    "\n",
    "# def wrenv_(A):\n",
    "#     return np.einsum(A,[5,6,0,8],A,[4,7,1,6],A.conj(),[4,7,3,9],A.conj(),[5,9,2,8])\n",
    "# def wlenv_(A):\n",
    "#     return np.einsum(A,[0,6,5,8],A,[1,7,4,6],A.conj(),[3,7,4,9],A.conj(),[2,9,5,8])\n",
    "# def wvenv_(A):\n",
    "#     return np.einsum(A,[8,0,6,5],A,[6,1,7,4],A.conj(),[8,2,9,5],A.conj(),[9,3,7,4])\n",
    "# chik=20\n",
    "# wrenv=wrenv_(A)\n",
    "# _,wr=compress(wrenv,chik)\n",
    "# wlenv=wlenv_(A)\n",
    "# _,wl=compress(wlenv,chik)\n",
    "# wvenv=wvenv_(A)\n",
    "# _,wv=compress(wvenv,chik)\n",
    "\n",
    "# wrenv=wrenv_(Aold)\n",
    "# _,wrold=compress(wrenv,chik)\n",
    "# wlenv=wlenv_(Aold)\n",
    "# _,wlold=compress(wlenv,chik)\n",
    "# wvenv=wvenv_(Aold)\n",
    "# _,wvold=compress(wvenv,chik)\n",
    "\n",
    "# glw=np.einsum(gl,[3,4,1,2],wrold.conj(),[3,4,0])\n",
    "# grw=np.einsum(gr,[3,4,1,2],wlold.conj(),[3,4,0])\n",
    "# guw=np.einsum(gu,[3,4,1,2],wvold.conj(),[3,4,0])\n",
    "\n",
    "# def scaleop(v):\n",
    "#     v4=v.reshape(chik,chik,chik,chik)\n",
    "#     out=np.einsum(v4,[8,9,10,11],glw,[10,19,21],grw,[8,18,20],guw,[9,22,23],guw.conj(),[11,16,17],gnw,[20,22,5,14],gne,[21,23,7,15],gnw.conj(),[18,16,4,12],gne.conj(),[19,17,6,13],wl,[4,5,0],wr,[6,7,2],wv,[14,15,1],wv.conj(),[12,13,3],optimize=('greedy',2**100))\n",
    "#     return out.flatten()\n",
    "# def rscaleop(v):\n",
    "#     v4=v.reshape(chik,chik,chik,chik)\n",
    "#     out=np.einsum(v4.conj(),[0,1,2,3],glw,[10,19,21],grw,[8,18,20],guw,[9,22,23],guw.conj(),[11,16,17],gnw,[20,22,5,14],gne,[21,23,7,15],gnw.conj(),[18,16,4,12],gne.conj(),[19,17,6,13],wl,[4,5,0],wr,[6,7,2],wv,[14,15,1],wv.conj(),[12,13,3],optimize=('greedy',2**100))\n",
    "#     return out.flatten().conj()"
   ]
  },
  {
   "cell_type": "code",
   "execution_count": 14,
   "metadata": {},
   "outputs": [],
   "source": [
    "def scaleop(v):\n",
    "    M=v.reshape(chiw,chiw,chiy,chiy,chiy,chiy,chiw,chiw)\n",
    "    out=np.einsum(M,[8,9,10,11,12,13,14,15],gl,[11,13,19,21],gr,[10,12,18,20],gu,[14,15,22,23],gu.conj(),[8,9,16,17],gnw,[20,22,4,6],gne,[21,23,5,7],gnw.conj(),[18,16,2,0],gne.conj(),[19,17,3,1],optimize=('greedy', 2**100))\n",
    "    return out.flatten()"
   ]
  },
  {
   "cell_type": "code",
   "execution_count": 13,
   "metadata": {},
   "outputs": [
    {
     "data": {
      "text/plain": [
       "array([1.60171325e-16, 1.38149656e-01, 1.00449970e+00, 1.12453776e+00,\n",
       "       1.12526285e+00, 2.00286567e+00, 2.00314014e+00, 2.00397700e+00,\n",
       "       2.00432823e+00, 2.12390029e+00, 2.12526585e+00, 2.13370168e+00,\n",
       "       2.99925971e+00, 2.99943314e+00, 3.00162406e+00, 3.00195821e+00,\n",
       "       3.00457807e+00, 3.10447017e+00, 3.13167747e+00, 3.13171417e+00,\n",
       "       3.13329317e+00, 3.13487834e+00, 3.13510160e+00, 3.98626949e+00,\n",
       "       3.98796243e+00, 3.98986270e+00, 3.99147293e+00, 3.99976834e+00,\n",
       "       4.00004426e+00, 4.00146268e+00, 4.00474281e+00, 4.00477230e+00,\n",
       "       4.05978553e+00, 4.11301037e+00, 4.11319499e+00, 4.12395526e+00,\n",
       "       4.12595170e+00, 4.13369627e+00, 4.13624302e+00, 4.14285986e+00,\n",
       "       4.14388897e+00, 4.88771483e+00, 4.93977298e+00, 4.94121051e+00,\n",
       "       4.94386937e+00, 4.94760039e+00, 4.98720745e+00, 4.98740867e+00,\n",
       "       4.99059947e+00, 4.99329337e+00, 5.00110744e+00, 5.00152168e+00,\n",
       "       5.00158380e+00, 5.00506031e+00, 5.00512994e+00, 5.06682819e+00,\n",
       "       5.06738838e+00, 5.10461662e+00, 5.11147394e+00, 5.11384311e+00,\n",
       "       5.12602662e+00, 5.12620432e+00, 5.13680036e+00, 5.14084997e+00,\n",
       "       5.14430189e+00, 5.14652948e+00, 5.14709476e+00, 5.18281298e+00,\n",
       "       5.65183071e+00, 5.82857171e+00, 5.83178143e+00, 5.83718213e+00,\n",
       "       5.83843692e+00, 5.89692944e+00, 5.89856011e+00, 5.94065870e+00,\n",
       "       5.94193171e+00, 5.94389355e+00, 5.94912542e+00, 5.98533790e+00,\n",
       "       5.98549511e+00, 5.98823278e+00, 5.98971679e+00, 5.99001049e+00,\n",
       "       5.99104582e+00, 5.99299441e+00, 6.00314045e+00, 6.00324684e+00,\n",
       "       6.00336500e+00, 6.00384360e+00, 6.00385169e+00, 6.00547935e+00,\n",
       "       6.06217169e+00, 6.06673375e+00, 6.06712511e+00, 6.10363862e+00,\n",
       "       6.10403636e+00, 6.10587925e+00, 6.10622421e+00, 6.12734575e+00])"
      ]
     },
     "execution_count": 13,
     "metadata": {},
     "output_type": "execute_result"
    }
   ],
   "source": [
    "import scipy\n",
    "from scipy.sparse.linalg import LinearOperator\n",
    "\n",
    "# n=chik**4\n",
    "n=chiw**4*chiy**4\n",
    "N_level=100\n",
    "\n",
    "Atemp = LinearOperator((n,n), matvec = scaleop, dtype='complex')\n",
    "ew = scipy.sparse.linalg.eigs(Atemp, k=N_level, which='LM', maxiter=200, tol=1e-5, return_eigenvectors=False)\n",
    "ew=ew[::-1]\n",
    "-np.log2(np.abs(ew/ew[0]))"
   ]
  },
  {
   "cell_type": "code",
   "execution_count": null,
   "metadata": {},
   "outputs": [],
   "source": []
  }
 ],
 "metadata": {
  "kernelspec": {
   "display_name": "Python 3",
   "language": "python",
   "name": "python3"
  },
  "language_info": {
   "codemirror_mode": {
    "name": "ipython",
    "version": 3
   },
   "file_extension": ".py",
   "mimetype": "text/x-python",
   "name": "python",
   "nbconvert_exporter": "python",
   "pygments_lexer": "ipython3",
   "version": "3.6.5"
  }
 },
 "nbformat": 4,
 "nbformat_minor": 2
}
