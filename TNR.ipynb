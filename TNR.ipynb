{
 "cells": [
  {
   "cell_type": "code",
   "execution_count": 1,
   "metadata": {},
   "outputs": [],
   "source": [
    "%load_ext autoreload\n",
    "%autoreload 2\n",
    "from TNR import *"
   ]
  },
  {
   "cell_type": "code",
   "execution_count": 113,
   "metadata": {},
   "outputs": [
    {
     "name": "stdout",
     "output_type": "stream",
     "text": [
      "vertical truncation err: 0.0\n",
      "horizontal truncation err: 6.981199308039041e-12\n",
      "Aout shape: (5, 9, 5, 9)\n",
      "Coarsen truncation error: 1.98487e-10\n",
      "Coarsen truncation error: 2.51627e-12\n",
      "Coarsen truncation error: 9.56793e-11\n",
      "Coarsen truncation error: 3.23337e-09\n",
      "Coarsen truncation error: 1.06872e-07\n",
      "Coarsen truncation error: 3.42695e-06\n",
      "Coarsen truncation error: 9.39819e-05\n",
      "Coarsen truncation error: 0.00163805\n",
      "Coarsen truncation error: 0.0145093\n"
     ]
    }
   ],
   "source": [
    "chi={}\n",
    "chi['w'],chi['y'],chi['u'],chi['v']=9,9,9,9\n",
    "chiw,chiy,chiu,chiv=chi['w'],chi['y'],chi['u'],chi['v']\n",
    "\n",
    "J=1\n",
    "# htemp=(KP(s0,sx,sx,s0)+KP(s0,sz,sz,s0))+\\\n",
    "#     J*(KP(sx,sx,s0,s0)+KP(sz,sz,s0,s0)+KP(s0,s0,sx,sx)+KP(s0,s0,sz,sz))/2\n",
    "# htemp=KP(sz,sz)+J*(KP(sx,s0)+KP(s0,sx))/2\n",
    "# htemp=(KP(sz,s0)+KP(s0,sz))/2+(KP(sx,s0)+KP(s0,sx))/2\n",
    "# htemp=KP(sx,sx)+KP(sz,sz)\n",
    "htemp=-KP(R,R.conj())-J*(KP(M,np.eye(3))+KP(np.eye(3),M))/2\n",
    "# htemp=-KP(R,R.conj())-KP(M,M)\n",
    "htemp+=htemp.T.conj()\n",
    "\n",
    "d=int(np.sqrt(htemp.shape[0]))\n",
    "Ainit=expm(-0.002*htemp).reshape(d,d,d,d)\n",
    "A0=Asplit(Ainit,chi)\n",
    "for i in range(9):\n",
    "    A0=coarsen(A0,chi)\n",
    "\n",
    "# classical ising:\n",
    "# na=np.newaxis\n",
    "# s=np.array([1,-1])\n",
    "# Tc=2/np.log(1+np.sqrt(2))\n",
    "# T=1*Tc\n",
    "# A0=np.exp(-1/T*(s[:,na,na,na]*s[na,:,na,na]+s[na,:,na,na]*s[na,na,:,na]\\\n",
    "#                 +s[na,na,:,na]*s[na,na,na,:]+s[na,na,na,:]*s[:,na,na,na]))\n",
    "# A0/=np.linalg.norm(A0)"
   ]
  },
  {
   "cell_type": "code",
   "execution_count": 114,
   "metadata": {},
   "outputs": [
    {
     "name": "stdout",
     "output_type": "stream",
     "text": [
      "RG step:  0\n",
      "iter=0, U.Uenv=0.289333\n",
      "iter=100, U.Uenv=0.289889\n",
      "iter=200, U.Uenv=0.289889\n",
      "error in U, vl, vr optimization: 0.000976795\n",
      "error in yl, yr, D optimization: 0.0146496\n",
      "error in w optimization: 0.0402861\n",
      "iter=0, u.uenv=0.650808, v.venv=0.449281\n",
      "iter=1000, u.uenv=0.995336, v.venv=0.995336\n",
      "iter=2000, u.uenv=0.995336, v.venv=0.995336\n",
      "Adiff 0.0965797\n",
      "A.shape=  (9, 9, 9, 9)\n",
      "\n",
      "RG step:  1\n",
      "iter=0, U.Uenv=0.315853\n",
      "iter=100, U.Uenv=0.316192\n",
      "iter=200, U.Uenv=0.316192\n",
      "error in U, vl, vr optimization: 0.00251916\n",
      "error in yl, yr, D optimization: 0.011907\n",
      "error in w optimization: 0.0409451\n",
      "iter=0, u.uenv=0.703393, v.venv=0.459095\n",
      "iter=1000, u.uenv=0.99994, v.venv=0.99994\n",
      "iter=2000, u.uenv=0.99994, v.venv=0.99994\n",
      "Adiff 0.010958\n",
      "A.shape=  (9, 9, 9, 9)\n",
      "\n",
      "RG step:  2\n",
      "iter=0, U.Uenv=0.314977\n",
      "iter=100, U.Uenv=0.315336\n",
      "iter=200, U.Uenv=0.315336\n",
      "error in U, vl, vr optimization: 0.00287705\n",
      "error in yl, yr, D optimization: 0.0120554\n",
      "error in w optimization: 0.0392633\n",
      "iter=0, u.uenv=0.793835, v.venv=0.412607\n",
      "iter=1000, u.uenv=0.999949, v.venv=0.999949\n",
      "iter=2000, u.uenv=0.999949, v.venv=0.999949\n",
      "Adiff 0.0100667\n",
      "A.shape=  (9, 9, 9, 9)\n",
      "\n",
      "RG step:  3\n",
      "iter=0, U.Uenv=0.316576\n",
      "iter=100, U.Uenv=0.316932\n",
      "iter=200, U.Uenv=0.316932\n",
      "error in U, vl, vr optimization: 0.00284441\n",
      "error in yl, yr, D optimization: 0.0128292\n",
      "error in w optimization: 0.0386156\n",
      "iter=0, u.uenv=0.728706, v.venv=0.508503\n",
      "iter=1000, u.uenv=0.999808, v.venv=0.999808\n",
      "iter=2000, u.uenv=0.999808, v.venv=0.999808\n",
      "Adiff 0.0195846\n",
      "A.shape=  (9, 9, 9, 9)\n",
      "\n",
      "RG step:  4\n",
      "iter=0, U.Uenv=0.319817\n",
      "iter=100, U.Uenv=0.320183\n",
      "iter=200, U.Uenv=0.320183\n",
      "error in U, vl, vr optimization: 0.00280361\n",
      "error in yl, yr, D optimization: 0.0135582\n",
      "error in w optimization: 0.037294\n",
      "iter=0, u.uenv=0.511639, v.venv=0.443035\n",
      "iter=1000, u.uenv=0.999, v.venv=0.999\n",
      "iter=2000, u.uenv=0.999, v.venv=0.999\n",
      "Adiff 0.0447217\n",
      "A.shape=  (9, 9, 9, 9)\n",
      "\n"
     ]
    }
   ],
   "source": [
    "RGsteps=5\n",
    "A_list=[None]*(RGsteps+1)\n",
    "Anorm_list=[None]*(RGsteps+1)\n",
    "B_list,U_list,vl_list,vr_list,yl_list,yr_list,D_list,w_list,u_list,v_list=[[None]*RGsteps for i in range(10)]\n",
    "A_list[0]=A0\n",
    "\n",
    "for i in range(RGsteps):\n",
    "    print('RG step: ',i)\n",
    "    Aold=A_list[i]\n",
    "    B,U,vl,vr,yl,yr,D,w,u,v,A,Anorm=doTNR(Aold,chi)\n",
    "    B_list[i],U_list[i],vl_list[i],vr_list[i],yl_list[i],yr_list[i],D_list[i],w_list[i],u_list[i],v_list[i],A_list[i+1],Anorm_list[i+1]=\\\n",
    "    B,U,vl,vr,yl,yr,D,w,u,v,A,Anorm\n",
    "    print('A.shape= ',A.shape)\n",
    "    print()"
   ]
  },
  {
   "cell_type": "code",
   "execution_count": 115,
   "metadata": {},
   "outputs": [],
   "source": [
    "i=2\n",
    "A=A_list[i+1]"
   ]
  },
  {
   "cell_type": "code",
   "execution_count": 118,
   "metadata": {},
   "outputs": [
    {
     "name": "stderr",
     "output_type": "stream",
     "text": [
      "c:\\programdata\\miniconda3\\lib\\site-packages\\scipy\\sparse\\linalg\\eigen\\arpack\\arpack.py:1254: RuntimeWarning: k >= N - 1 for N * N square matrix. Attempting to use scipy.linalg.eig instead.\n",
      "  RuntimeWarning)\n"
     ]
    },
    {
     "data": {
      "text/plain": [
       "array([-0.        ,  0.13235801,  0.13235801,  0.8       ,  0.92473174,\n",
       "        0.92473174,  1.50283736,  1.33695753,  1.33695752])"
      ]
     },
     "execution_count": 118,
     "metadata": {},
     "output_type": "execute_result"
    }
   ],
   "source": [
    "T=np.einsum(A,[2,1,2,0])\n",
    "# ew,_=np.linalg.eigh(T)\n",
    "ew = scipy.sparse.linalg.eigsh(T, k=100, which='LM', maxiter=200, tol=1e-5, return_eigenvectors=False)\n",
    "ew.sort()\n",
    "ew=ew[::-1]\n",
    "el=-np.log(np.abs(ew/ew[0]))\n",
    "(el/(el[3]-el[0]))[:100]*0.8"
   ]
  },
  {
   "cell_type": "code",
   "execution_count": 119,
   "metadata": {},
   "outputs": [
    {
     "data": {
      "text/plain": [
       "array([-0.        ,  0.13899558,  0.13899558,  0.8       ,  1.10585236,\n",
       "        1.10585236,  1.11829203,  1.11829203,  1.30798929,  1.30798929,\n",
       "        1.70819661,  1.70819661,  1.74275149,  1.74976285,  1.757539  ,\n",
       "        1.78288258,  1.86986997,  1.90832042,  2.04013097,  2.04013097,\n",
       "        2.08751264,  2.08751264,  2.14380766,  2.14380766,  2.16036015,\n",
       "        2.16036016,  2.23943557,  2.23943558,  2.27298435,  2.65681528,\n",
       "        2.70030451,  2.70030451,  2.8101929 ,  2.89160391,  2.90991061,\n",
       "        3.21370074,  3.21370074,  3.21763855,  3.21763856,  3.27349799,\n",
       "        3.27349802,  3.40330806,  3.40330807,  3.42702127,  4.12254949,\n",
       "        4.1225495 ,  5.23935233,  4.90254441,  4.90254438,  4.44936348,\n",
       "        4.44936347,  4.40196689,  4.36836086,  4.36836076,  4.36182175,\n",
       "        4.30794043,  4.26860385,  4.26860384,  4.14090674,  3.95558482,\n",
       "        3.95558479,  3.94649096,  3.92085804,  3.61439828,  3.56224273,\n",
       "        3.56224273,  3.5530332 ,  3.37189177,  3.37189176,  3.2063799 ,\n",
       "        3.2063799 ,  3.14824591,  3.11795549,  3.11795549,  2.8752184 ,\n",
       "        2.82736618,  2.82736616,  2.82064317,  2.73890523,  2.73890522,\n",
       "        2.69251682])"
      ]
     },
     "execution_count": 119,
     "metadata": {},
     "output_type": "execute_result"
    }
   ],
   "source": [
    "T2=np.einsum(A,[4,2,5,0],A,[5,3,4,1]).reshape(chiw**2,chiw**2)\n",
    "ew,_=np.linalg.eigh(T2)\n",
    "ew=ew[::-1]\n",
    "el=-np.log(np.abs(ew/ew[0]))\n",
    "(el/(el[3]-el[0]))[:100]*0.8"
   ]
  },
  {
   "cell_type": "code",
   "execution_count": 120,
   "metadata": {},
   "outputs": [
    {
     "data": {
      "text/plain": [
       "array([-0.        ,  0.1450817 ,  0.1450817 ,  0.8       ,  1.11114154,\n",
       "        1.11114154,  1.11114154,  1.11114154,  1.31287496,  1.31287496,\n",
       "        1.75968898,  1.75968898,  1.80073569,  1.80073569,  1.9777622 ,\n",
       "        1.9777622 ,  2.07199959,  2.07199959,  2.07199959,  2.07199959,\n",
       "        2.10863971,  2.10863971,  2.10863971,  2.10863971,  2.12391801,\n",
       "        2.12391801,  2.3031281 ,  2.3031281 ,  2.3031281 ,  2.3031281 ,\n",
       "        2.49637849,  2.49637849,  2.65308388,  2.65308388,  2.69259706,\n",
       "        2.7014563 ,  2.7014563 ,  2.73075741,  2.75339918,  2.75617526,\n",
       "        2.7851248 ,  2.80345762,  2.91172769,  2.9117277 ,  2.95966914,\n",
       "        2.95966914,  2.96934782,  2.98511717,  3.00143378,  3.00143378,\n",
       "        3.00143378,  3.00143378,  3.07042708,  3.07042708,  3.07042708,\n",
       "        3.07042708,  3.08429546,  3.08429546,  3.09461313,  3.10049875,\n",
       "        3.10049875,  3.10564777,  3.10564777,  3.10564777,  3.10564777,\n",
       "        3.29715854,  3.29715854,  3.29715855,  3.29715855,  3.35509658,\n",
       "        3.35509658,  3.51329597,  3.51329597,  3.51329597,  3.51329597,\n",
       "        3.58363763,  3.58363763,  3.60290301,  3.60290301,  3.64147712,\n",
       "        3.64147712,  3.70196971,  3.71172573,  3.71506547,  3.73059466,\n",
       "        3.73059466,  3.74471933,  3.7712657 ,  3.7712657 ,  3.9001176 ,\n",
       "        3.9001176 ,  3.9001176 ,  3.9001176 ,  3.93679211,  3.93679211,\n",
       "        3.93679212,  3.93679212,  3.97176462,  3.97176462,  3.97224168])"
      ]
     },
     "execution_count": 120,
     "metadata": {},
     "output_type": "execute_result"
    }
   ],
   "source": [
    "T3=np.einsum(A,[10,3,8,0],A,[8,4,9,1],A,[9,5,10,2]).reshape(chiw**3,chiw**3)\n",
    "ew = scipy.sparse.linalg.eigsh(T3, k=100, which='LM', maxiter=200, tol=1e-5, return_eigenvectors=False)\n",
    "ew.sort()\n",
    "ew=ew[::-1]\n",
    "el=-np.log(np.abs(ew/ew[0]))\n",
    "(el/(el[3]-el[0]))[:100]*0.8"
   ]
  },
  {
   "cell_type": "code",
   "execution_count": 121,
   "metadata": {},
   "outputs": [
    {
     "data": {
      "text/plain": [
       "array([-0.        ,  0.15123767,  0.15123767,  0.8       ,  1.1067762 ,\n",
       "        1.1067762 ,  1.1067762 ,  1.1067762 ,  1.31517811,  1.31517811,\n",
       "        1.76399162,  1.76399162,  1.79798586,  1.79798586,  1.98112526,\n",
       "        1.98141536,  2.09161787,  2.09161787,  2.10229574,  2.10229574,\n",
       "        2.10958357,  2.10958357,  2.12079518,  2.12079518,  2.12684607,\n",
       "        2.12684607,  2.30919739,  2.30919739,  2.30919739,  2.30919739,\n",
       "        2.73000568,  2.74928388,  2.76054701,  2.76615308,  2.77563269,\n",
       "        2.78203967,  2.78882182,  2.8068115 ,  2.94122966,  2.94122966,\n",
       "        2.96935325,  2.96935325,  2.96935325,  2.96935325,  2.97943426,\n",
       "        2.97943426,  3.08151929,  3.08151929,  3.08151929,  3.08151929,\n",
       "        3.09107741,  3.09107741,  3.09107741,  3.09107741,  3.11093913,\n",
       "        3.11093913,  3.11093913,  3.11093913,  3.13509014,  3.13509014,\n",
       "        3.13509014,  3.13509014,  3.25779216,  3.25779216,  3.26166576,\n",
       "        3.26166576,  3.28177134,  3.28177134,  3.29962836,  3.29962836,\n",
       "        3.30056667,  3.30056667,  3.30575767,  3.30575767,  3.48347976,\n",
       "        3.48347976,  3.50051874,  3.56481909,  3.5908259 ,  3.5908259 ,\n",
       "        3.70356262,  3.70356262,  3.73878653,  3.73878653,  3.74262595,\n",
       "        3.74262595,  3.74990577,  3.74990577,  3.76518157,  3.76518157,\n",
       "        3.77029098,  3.77029098,  3.77425289,  3.77425289,  3.80296995,\n",
       "        3.80296995,  3.81279452,  3.81279452,  3.81279452,  3.81279452])"
      ]
     },
     "execution_count": 121,
     "metadata": {},
     "output_type": "execute_result"
    }
   ],
   "source": [
    "T4=np.einsum(A,[11,4,8,0],A,[8,5,9,1],A,[9,6,10,2],A,[10,7,11,3]).reshape(chiw**4,chiw**4)\n",
    "ew = scipy.sparse.linalg.eigsh(T4, k=100, which='LM', return_eigenvectors=False)\n",
    "ew.sort()\n",
    "ew=ew[::-1]\n",
    "el=-np.log(np.abs(ew/ew[0]))\n",
    "(el/(el[3]-el[0]))[:100]*0.8"
   ]
  },
  {
   "cell_type": "code",
   "execution_count": 12,
   "metadata": {},
   "outputs": [
    {
     "name": "stderr",
     "output_type": "stream",
     "text": [
      "c:\\programdata\\miniconda3\\lib\\site-packages\\scipy\\sparse\\linalg\\eigen\\arpack\\arpack.py:1254: RuntimeWarning: k >= N - 1 for N * N square matrix. Attempting to use scipy.linalg.eig instead.\n",
      "  RuntimeWarning)\n"
     ]
    },
    {
     "data": {
      "text/plain": [
       "array([-0.00000000e+00,  4.99596599e-09,  9.20580353e-01,  9.23027805e-01,\n",
       "        9.74246459e-01,  9.91745214e-01,  9.96888023e-01,  9.97677177e-01,\n",
       "        9.98760396e-01,  1.00000000e+00,  1.03712251e+00,  1.04902022e+00,\n",
       "        1.07013854e+00,  1.08046930e+00,  1.12311929e+00,  1.17195892e+00,\n",
       "        1.18890350e+00,  1.24217920e+00,  1.24406100e+00,  1.27621656e+00,\n",
       "        1.27699451e+00,  1.28690860e+00,  1.28208019e+00,  1.27945905e+00,\n",
       "        1.22885842e+00,  1.21879832e+00,  1.19262162e+00,  1.10913150e+00,\n",
       "        1.10420462e+00,  1.08104846e+00,  1.06700641e+00,  1.05314342e+00,\n",
       "        9.94678778e-01,  9.41076610e-01,  4.05513452e-01,  4.05513447e-01])"
      ]
     },
     "execution_count": 12,
     "metadata": {},
     "output_type": "execute_result"
    }
   ],
   "source": [
    "T4reduced=np.einsum(A,[11,0,8,0],A,[8,5,9,1],A,[9,6,10,2],A,[10,3,11,3]).reshape(chiw**2,chiw**2)\n",
    "ew = scipy.sparse.linalg.eigsh(T4reduced, k=100, which='LM', maxiter=200, tol=1e-5, return_eigenvectors=False)\n",
    "ew.sort()\n",
    "ew=ew[::-1]\n",
    "el=-np.log(np.abs(ew/ew[0]))\n",
    "(el/(el[9]-el[0]))[:100]"
   ]
  },
  {
   "cell_type": "code",
   "execution_count": 92,
   "metadata": {},
   "outputs": [
    {
     "name": "stdout",
     "output_type": "stream",
     "text": [
      "vertical truncation err: 0.0\n",
      "horizontal truncation err: 1.0778653232328133e-12\n",
      "Aout shape: (3, 4, 3, 4)\n",
      "Coarsen truncation error: 5.37843e-11\n",
      "Coarsen truncation error: 4.47123e-13\n",
      "Coarsen truncation error: 1.68353e-11\n",
      "Coarsen truncation error: 1.71591e-11\n",
      "Coarsen truncation error: 2.92536e-12\n",
      "Coarsen truncation error: 5.23275e-10\n",
      "Coarsen truncation error: 8.30833e-08\n",
      "Coarsen truncation error: 8.34418e-06\n",
      "Coarsen truncation error: 0.000354328\n",
      "Coarsen truncation error: 0.00620844\n",
      "Coarsen truncation error: 0.0473409\n",
      "RGsteps: 0 , <O> = 0j\n",
      "RGsteps: 1 , <O> = (-6.376873039429741e-10+0j)\n",
      "RGsteps: 2 , <O> = (4.3345908333581516e-10+0j)\n",
      "RGsteps: 3 , <O> = (3.587927173525184e-09+0j)\n",
      "RGsteps: 4 , <O> = (1.2692824696695027e-08+0j)\n",
      "RGsteps: 5 , <O> = (4.910922652640878e-08+0j)\n",
      "RGsteps: 6 , <O> = (1.9477485328180986e-07+0j)\n",
      "RGsteps: 7 , <O> = (7.774373633048396e-07+0j)\n",
      "RGsteps: 8 , <O> = (3.108087404864749e-06+0j)\n",
      "RGsteps: 9 , <O> = (1.2430687574576725e-05+0j)\n",
      "RGsteps: 10 , <O> = (4.9721088193973385e-05+0j)\n",
      "RGsteps: 11 , <O> = (0.000198882686996742+0j)\n",
      "RGsteps: 12 , <O> = (0.000795528847405195+0j)\n",
      "RGsteps: 13 , <O> = (0.0031820984615147777+0j)\n",
      "RGsteps: 14 , <O> = (0.012727415251960278+0j)\n",
      "RGsteps: 15 , <O> = (0.05084723344946296+0j)\n",
      "RGsteps: 16 , <O> = (0.19949128728083734+0j)\n",
      "RGsteps: 17 , <O> = (0.6195625814684784+0j)\n",
      "RGsteps: 18 , <O> = (0.811613860110634+0j)\n",
      "RGsteps: 19 , <O> = (0.8121454471613601+0j)\n",
      "RGsteps: 20 , <O> = (0.8121454471613788+0j)\n",
      "RGsteps: 21 , <O> = (0.8121454471613788+0j)\n",
      "RGsteps: 22 , <O> = (0.8121454471613788+0j)\n",
      "RGsteps: 23 , <O> = (0.8121454471613788+0j)\n",
      "RGsteps: 24 , <O> = (0.8121454471613788+0j)\n",
      "RGsteps: 25 , <O> = (0.8121454471613788+0j)\n",
      "RGsteps: 26 , <O> = (0.8121454471613788+0j)\n",
      "RGsteps: 27 , <O> = (0.8121454471613788+0j)\n",
      "RGsteps: 28 , <O> = (0.8121454471613788+0j)\n",
      "RGsteps: 29 , <O> = (0.8121454471613788+0j)\n"
     ]
    },
    {
     "data": {
      "text/plain": [
       "(0.8121454471613788-1.2398831235001642e-16j)"
      ]
     },
     "execution_count": 92,
     "metadata": {},
     "output_type": "execute_result"
    }
   ],
   "source": [
    "#eval mag\n",
    "tensor_list={}\n",
    "tensor_list['A'],tensor_list['U'],tensor_list['vl'],tensor_list['vr'],tensor_list['yl'],tensor_list['yr'],tensor_list['D'],tensor_list['w'],tensor_list['u'],tensor_list['v']=A_list,U_list,vl_list,vr_list,yl_list,yr_list,D_list,w_list,u_list,v_list\n",
    "op=sz\n",
    "\n",
    "A0,Az=Asplit(Ainit,chi,op=op)\n",
    "for i in range(11):\n",
    "    A0,Az=coarsen(A0,chi,Az)\n",
    "MOq=MOq_(A0,Az)\n",
    "eval_op(MOq,tensor_list)  "
   ]
  },
  {
   "cell_type": "code",
   "execution_count": 70,
   "metadata": {},
   "outputs": [
    {
     "name": "stdout",
     "output_type": "stream",
     "text": [
      "RGsteps: 0 , <O> = 0j\n",
      "RGsteps: 1 , <O> = 0j\n",
      "RGsteps: 2 , <O> = 0j\n",
      "RGsteps: 3 , <O> = 0j\n",
      "RGsteps: 4 , <O> = (5.848497230349814e-10+0j)\n",
      "RGsteps: 5 , <O> = (2.8557120265143097e-09+0j)\n",
      "RGsteps: 6 , <O> = (1.2696832363946172e-08+0j)\n",
      "RGsteps: 7 , <O> = (5.30885300837056e-08+0j)\n",
      "RGsteps: 8 , <O> = (2.136721706764644e-07+0j)\n",
      "RGsteps: 9 , <O> = (8.561100140332804e-07+0j)\n",
      "RGsteps: 10 , <O> = (3.4258000281196226e-06+0j)\n",
      "RGsteps: 11 , <O> = (1.3704560078727831e-05+0j)\n",
      "RGsteps: 12 , <O> = (5.4819600148251406e-05+0j)\n",
      "RGsteps: 13 , <O> = (0.0002192797522145205+0j)\n",
      "RGsteps: 14 , <O> = (0.0008771198348129445+0j)\n",
      "RGsteps: 15 , <O> = (0.0035084465228825417+0j)\n",
      "RGsteps: 16 , <O> = (0.014031600599996388+0j)\n",
      "RGsteps: 17 , <O> = (0.055986888822901086+0j)\n",
      "RGsteps: 18 , <O> = (0.21545050038725533+0j)\n",
      "RGsteps: 19 , <O> = (0.560234987406899+0j)\n",
      "RGsteps: 20 , <O> = (0.6283897009038639+0j)\n",
      "RGsteps: 21 , <O> = (0.6284032963974049+0j)\n",
      "RGsteps: 22 , <O> = (0.6284032963974047+0j)\n",
      "RGsteps: 23 , <O> = (0.6284032963974047+0j)\n",
      "RGsteps: 24 , <O> = (0.6284032963974047+0j)\n"
     ]
    },
    {
     "data": {
      "text/plain": [
       "(0.6284032963974047+1.040834085829653e-16j)"
      ]
     },
     "execution_count": 70,
     "metadata": {},
     "output_type": "execute_result"
    }
   ],
   "source": [
    "# classical ising:\n",
    "tensor_list={}\n",
    "tensor_list['A'],tensor_list['U'],tensor_list['vl'],tensor_list['vr'],tensor_list['yl'],tensor_list['yr'],tensor_list['D'],tensor_list['w'],tensor_list['u'],tensor_list['v']=A_list,U_list,vl_list,vr_list,yl_list,yr_list,D_list,w_list,u_list,v_list\n",
    "op=sz\n",
    "\n",
    "A0=A_list[0]\n",
    "MO=MO_(A0,op)\n",
    "eval_op(MO,tensor_list)"
   ]
  },
  {
   "cell_type": "code",
   "execution_count": 59,
   "metadata": {},
   "outputs": [
    {
     "name": "stdout",
     "output_type": "stream",
     "text": [
      "0.629648162973007\n"
     ]
    }
   ],
   "source": [
    "#exact value\n",
    "mag_exact=(1-np.sinh(2/T)**(-4))**(1/8)\n",
    "print(mag_exact)"
   ]
  },
  {
   "cell_type": "markdown",
   "metadata": {},
   "source": [
    "scaling dimensions"
   ]
  },
  {
   "cell_type": "code",
   "execution_count": 109,
   "metadata": {},
   "outputs": [],
   "source": [
    "i=3\n",
    "A=A_list[i+1]\n",
    "Aold,U,vl,vr,yl,yr,D,w,u,v=A_list[i],U_list[i],vl_list[i],vr_list[i],yl_list[i],yr_list[i],D_list[i],w_list[i],u_list[i],v_list[i]\n",
    "\n",
    "\n",
    "gl=gl_(vl)\n",
    "gr=gr_(vr)\n",
    "gu=gu_(Aold,U,vl,vr)\n",
    "gnw=gnw_(vl,vr,yr,D,w)\n",
    "gne=gne_(vl,vr,yl,D,w)\n",
    "gnw,gne=gauge_(gnw,gne,u,v)\n",
    "chiwt=min(chiw,Aold.shape[1])\n",
    "chiyt=min(chiy,Aold.shape[0])\n",
    "\n",
    "def scaleop(v):\n",
    "    M=v.reshape(chiwt,chiwt,chiyt,chiyt,chiyt,chiyt,chiwt,chiwt)\n",
    "    Mscaled=rg_(M,gl,gr,gu,gnw,gne)\n",
    "    return Mscaled.flatten()\n",
    "\n",
    "n=chiw**4*chiy**4"
   ]
  },
  {
   "cell_type": "code",
   "execution_count": 17,
   "metadata": {},
   "outputs": [],
   "source": [
    "# compress legs\n",
    "\n",
    "# def wrenv_(A):\n",
    "#     return np.einsum(A,[5,6,0,8],A,[4,7,1,6],A.conj(),[4,7,3,9],A.conj(),[5,9,2,8])\n",
    "# def wlenv_(A):\n",
    "#     return np.einsum(A,[0,6,5,8],A,[1,7,4,6],A.conj(),[3,7,4,9],A.conj(),[2,9,5,8])\n",
    "# def wvenv_(A):\n",
    "#     return np.einsum(A,[8,0,6,5],A,[6,1,7,4],A.conj(),[8,2,9,5],A.conj(),[9,3,7,4])\n",
    "# chik=20\n",
    "# wrenv=wrenv_(A)\n",
    "# _,wr=compress(wrenv,chik)\n",
    "# wlenv=wlenv_(A)\n",
    "# _,wl=compress(wlenv,chik)\n",
    "# wvenv=wvenv_(A)\n",
    "# _,wv=compress(wvenv,chik)\n",
    "\n",
    "# wrenv=wrenv_(Aold)\n",
    "# _,wrold=compress(wrenv,chik)\n",
    "# wlenv=wlenv_(Aold)\n",
    "# _,wlold=compress(wlenv,chik)\n",
    "# wvenv=wvenv_(Aold)\n",
    "# _,wvold=compress(wvenv,chik)\n",
    "\n",
    "# glw=np.einsum(gl,[3,4,1,2],wrold.conj(),[3,4,0])\n",
    "# grw=np.einsum(gr,[3,4,1,2],wlold.conj(),[3,4,0])\n",
    "# guw=np.einsum(gu,[3,4,1,2],wvold.conj(),[3,4,0])\n",
    "\n",
    "# def scaleop(v):\n",
    "#     v4=v.reshape(chik,chik,chik,chik)\n",
    "#     out=np.einsum(v4,[8,9,10,11],glw,[10,19,21],grw,[8,18,20],guw,[9,22,23],guw.conj(),[11,16,17],gnw,[20,22,5,14],gne,[21,23,7,15],gnw.conj(),[18,16,4,12],gne.conj(),[19,17,6,13],wl,[4,5,0],wr,[6,7,2],wv,[14,15,1],wv.conj(),[12,13,3],optimize=('greedy',2**100))\n",
    "#     return out.flatten()\n",
    "# n=chik**4"
   ]
  },
  {
   "cell_type": "code",
   "execution_count": 108,
   "metadata": {},
   "outputs": [
    {
     "data": {
      "text/plain": [
       "array([-0.        ,  0.12221254,  1.00086546,  1.12678589,  1.12932501,\n",
       "        1.99981724,  1.9998292 ,  2.00097536,  2.00411283,  2.12568928,\n",
       "        2.12659392,  2.12867056,  2.99495999,  2.99741236,  2.9992648 ,\n",
       "        3.00464966,  3.01122008,  3.1060336 ,  3.12143411,  3.12189701,\n",
       "        3.12770424,  3.13433001,  3.13433001,  3.97022917,  3.97994752])"
      ]
     },
     "execution_count": 108,
     "metadata": {},
     "output_type": "execute_result"
    }
   ],
   "source": [
    "import scipy\n",
    "from scipy.sparse.linalg import LinearOperator\n",
    "\n",
    "N_level=25\n",
    "Atemp = LinearOperator((n,n), matvec = scaleop, dtype='complex')\n",
    "ew = scipy.sparse.linalg.eigs(Atemp, k=N_level, which='LM', maxiter=200, tol=1e-5, return_eigenvectors=False)\n",
    "ew=ew[::-1]\n",
    "-np.log2(np.abs(ew/ew[0]))"
   ]
  },
  {
   "cell_type": "code",
   "execution_count": 75,
   "metadata": {},
   "outputs": [],
   "source": [
    "i=3\n",
    "A=A_list[i+1]\n",
    "Aold,U,vl,vr,yl,yr,D,w,u,v=A_list[i],U_list[i],vl_list[i],vr_list[i],yl_list[i],yr_list[i],D_list[i],w_list[i],u_list[i],v_list[i]\n",
    "\n",
    "\n",
    "wgauged=w@u\n",
    "# wgauged=w\n",
    "\n",
    "def scaleop(v):\n",
    "    M=v.reshape(chiw,chiw,chiw,chiw)\n",
    "    mera=np.einsum(M,[0,1,2,3],U,[0,1,8,9],wgauged,[12,8,4],wgauged,[9,13,5],U.conj(),[2,3,10,11],wgauged.conj(),[12,10,6],wgauged.conj(),[11,13,7],optimize=(\"greedy\",2**100))\n",
    "    return mera.flatten()\n",
    "\n",
    "n=chiw**4"
   ]
  },
  {
   "cell_type": "code",
   "execution_count": 76,
   "metadata": {},
   "outputs": [
    {
     "data": {
      "text/plain": [
       "array([-0.        ,  0.12728364,  0.9684625 ,  1.10353051,  1.20739804,\n",
       "        1.20739804,  1.59860124,  1.59860124,  1.64755579,  1.81271592,\n",
       "        1.81271592,  1.8180896 ,  1.8180896 ,  1.81871814,  1.81871814,\n",
       "        1.92904183,  1.98387286,  2.07673273,  2.27317919,  2.35460655,\n",
       "        2.46307267,  2.491622  ,  2.52851065,  2.52851065,  2.5387383 ])"
      ]
     },
     "execution_count": 76,
     "metadata": {},
     "output_type": "execute_result"
    }
   ],
   "source": [
    "import scipy\n",
    "from scipy.sparse.linalg import LinearOperator\n",
    "\n",
    "N_level=25\n",
    "Atemp = LinearOperator((n,n), matvec = scaleop, dtype='complex')\n",
    "ew = scipy.sparse.linalg.eigs(Atemp, k=N_level, which='LM', maxiter=200, tol=1e-5, return_eigenvectors=False)\n",
    "ew=ew[::-1]\n",
    "-np.log2(np.abs(ew/ew[0]))"
   ]
  },
  {
   "cell_type": "code",
   "execution_count": null,
   "metadata": {},
   "outputs": [],
   "source": []
  }
 ],
 "metadata": {
  "kernelspec": {
   "display_name": "Python 3",
   "language": "python",
   "name": "python3"
  },
  "language_info": {
   "codemirror_mode": {
    "name": "ipython",
    "version": 3
   },
   "file_extension": ".py",
   "mimetype": "text/x-python",
   "name": "python",
   "nbconvert_exporter": "python",
   "pygments_lexer": "ipython3",
   "version": "3.6.5"
  }
 },
 "nbformat": 4,
 "nbformat_minor": 2
}
