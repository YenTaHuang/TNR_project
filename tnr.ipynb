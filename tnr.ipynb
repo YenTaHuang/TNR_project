{
 "cells": [
  {
   "cell_type": "code",
   "execution_count": 1,
   "metadata": {},
   "outputs": [
    {
     "name": "stdout",
     "output_type": "stream",
     "text": [
      "RGstep:  0  , Truncation Errors: [2.008217989894428e-06, 4.710099382075902e-05, 4.3385250754765434e-05, 0.00010246157077446297]\n",
      "time spent for this RGstep:  0.8481032848358154\n",
      "shape of A: (6, 6, 6, 6)\n",
      "shape of q: (4, 4, 6)\n",
      "shape of s: (6, 4)\n",
      "shape of u: (4, 4, 4, 4)\n",
      "shape of y: (4, 4, 4)\n",
      "shape of v: (4, 4, 6)\n",
      "shape of w: (4, 4, 6)\n",
      "RGstep:  1  , Truncation Errors: [1.2052261389767233e-06, 5.5314341863221894e-05, 8.854347959034827e-05, 0.00011995394719820866]\n",
      "time spent for this RGstep:  0.8429150581359863\n",
      "shape of A: (6, 6, 6, 6)\n",
      "shape of q: (6, 6, 6)\n",
      "shape of s: (6, 4)\n",
      "shape of u: (6, 6, 4, 4)\n",
      "shape of y: (6, 4, 4)\n",
      "shape of v: (6, 6, 6)\n",
      "shape of w: (4, 4, 6)\n",
      "RGstep:  2  , Truncation Errors: [1.3926494470403928e-06, 6.887552980815456e-05, 8.107328747758827e-05, 0.00010534040724117942]\n",
      "time spent for this RGstep:  0.7530243396759033\n",
      "shape of A: (6, 6, 6, 6)\n",
      "shape of q: (6, 6, 6)\n",
      "shape of s: (6, 4)\n",
      "shape of u: (6, 6, 4, 4)\n",
      "shape of y: (6, 4, 4)\n",
      "shape of v: (6, 6, 6)\n",
      "shape of w: (4, 4, 6)\n",
      "RGstep:  3  , Truncation Errors: [1.1252362554782714e-06, 6.564287993059423e-05, 7.960705611707541e-05, 0.00010052964617330995]\n",
      "time spent for this RGstep:  0.7492337226867676\n",
      "shape of A: (6, 6, 6, 6)\n",
      "shape of q: (6, 6, 6)\n",
      "shape of s: (6, 4)\n",
      "shape of u: (6, 6, 4, 4)\n",
      "shape of y: (6, 4, 4)\n",
      "shape of v: (6, 6, 6)\n",
      "shape of w: (4, 4, 6)\n",
      "RGstep:  4  , Truncation Errors: [8.907934947566074e-07, 6.418832069409194e-05, 6.323137711139737e-05, 7.665886303907495e-05]\n",
      "time spent for this RGstep:  0.7317712306976318\n",
      "shape of A: (6, 6, 6, 6)\n",
      "shape of q: (6, 6, 6)\n",
      "shape of s: (6, 4)\n",
      "shape of u: (6, 6, 4, 4)\n",
      "shape of y: (6, 4, 4)\n",
      "shape of v: (6, 6, 6)\n",
      "shape of w: (4, 4, 6)\n",
      "RGstep:  5  , Truncation Errors: [3.934886841924704e-07, 5.2624418456759325e-05, 3.105919362577685e-05, 3.4436003634252994e-05]\n",
      "time spent for this RGstep:  0.8058731555938721\n",
      "shape of A: (6, 6, 6, 6)\n",
      "shape of q: (6, 6, 6)\n",
      "shape of s: (6, 4)\n",
      "shape of u: (6, 6, 4, 4)\n",
      "shape of y: (6, 4, 4)\n",
      "shape of v: (6, 6, 6)\n",
      "shape of w: (4, 4, 6)\n",
      "RGstep:  6  , Truncation Errors: [5.259798119724915e-08, 1.536752838259278e-05, 3.7162384373916986e-06, 3.544867096151842e-06]\n",
      "time spent for this RGstep:  0.781174898147583\n",
      "shape of A: (6, 6, 6, 6)\n",
      "shape of q: (6, 6, 6)\n",
      "shape of s: (6, 4)\n",
      "shape of u: (6, 6, 4, 4)\n",
      "shape of y: (6, 4, 4)\n",
      "shape of v: (6, 6, 6)\n",
      "shape of w: (4, 4, 6)\n",
      "RGstep:  7  , Truncation Errors: [1.138850773598245e-09, 4.0164826996544e-07, 2.8104835477519214e-08, 1.68388619732711e-08]\n",
      "time spent for this RGstep:  1.0159988403320312\n",
      "shape of A: (6, 6, 6, 6)\n",
      "shape of q: (6, 6, 6)\n",
      "shape of s: (6, 4)\n",
      "shape of u: (6, 6, 4, 4)\n",
      "shape of y: (6, 4, 4)\n",
      "shape of v: (6, 6, 6)\n",
      "shape of w: (4, 4, 6)\n",
      "RGstep:  8  , Truncation Errors: [4.17650607422235e-14, 5.936716681808346e-11, 3.5817869760505303e-13, 1.7880594219395564e-13]\n",
      "time spent for this RGstep:  0.3651895523071289\n",
      "shape of A: (6, 6, 6, 6)\n",
      "shape of q: (6, 6, 6)\n",
      "shape of s: (6, 4)\n",
      "shape of u: (6, 6, 4, 4)\n",
      "shape of y: (6, 4, 4)\n",
      "shape of v: (6, 6, 6)\n",
      "shape of w: (4, 4, 6)\n",
      "RGstep:  9  , Truncation Errors: [1e-16, 9.881784197001253e-16, 1e-16, 3.2196311972169543e-16]\n",
      "time spent for this RGstep:  0.493396520614624\n",
      "shape of A: (2, 2, 2, 2)\n",
      "shape of q: (6, 6, 2)\n",
      "shape of s: (2, 2)\n",
      "shape of u: (6, 6, 4, 4)\n",
      "shape of y: (6, 4, 2)\n",
      "shape of v: (6, 6, 2)\n",
      "shape of w: (4, 4, 2)\n",
      "RGstep:  10  , Truncation Errors: [1e-16, 3.220446049250313e-16, 3.2074779292297404e-16, 3.2074779292297404e-16]\n",
      "time spent for this RGstep:  0.18134522438049316\n",
      "shape of A: (2, 2, 2, 2)\n",
      "shape of q: (2, 2, 2)\n",
      "shape of s: (2, 2)\n",
      "shape of u: (2, 2, 2, 2)\n",
      "shape of y: (2, 2, 2)\n",
      "shape of v: (2, 2, 2)\n",
      "shape of w: (2, 2, 2)\n",
      "RGstep:  11  , Truncation Errors: [1e-16, 3.220446049250313e-16, 1e-16, 1e-16]\n",
      "time spent for this RGstep:  0.18918442726135254\n",
      "shape of A: (2, 2, 2, 2)\n",
      "shape of q: (2, 2, 2)\n",
      "shape of s: (2, 2)\n",
      "shape of u: (2, 2, 2, 2)\n",
      "shape of y: (2, 2, 2)\n",
      "shape of v: (2, 2, 2)\n",
      "shape of w: (2, 2, 2)\n",
      "Magnetization:  0.6246991248151762\n",
      "##############################################\n"
     ]
    }
   ],
   "source": [
    "%run mainTNR.py"
   ]
  },
  {
   "cell_type": "code",
   "execution_count": 1,
   "metadata": {},
   "outputs": [
    {
     "name": "stdout",
     "output_type": "stream",
     "text": [
      "Iteration:  0  of  2000 , Trunc. Error: 6.08743e-10,4.06838e-06\n",
      "Iteration:  100  of  2000 , Trunc. Error: 6.08743e-10,2.94729e-06\n",
      "Iteration:  200  of  2000 , Trunc. Error: 6.08743e-10,2.48122e-06\n",
      "Iteration:  300  of  2000 , Trunc. Error: 6.08743e-10,2.1954e-06\n",
      "Iteration:  400  of  2000 , Trunc. Error: 6.08743e-10,1.98306e-06\n",
      "Iteration:  500  of  2000 , Trunc. Error: 6.08743e-10,1.81134e-06\n",
      "Iteration:  600  of  2000 , Trunc. Error: 6.08743e-10,1.67127e-06\n",
      "Iteration:  700  of  2000 , Trunc. Error: 6.08743e-10,1.55939e-06\n",
      "Iteration:  800  of  2000 , Trunc. Error: 6.08743e-10,1.4727e-06\n",
      "Iteration:  900  of  2000 , Trunc. Error: 6.08743e-10,1.40773e-06\n",
      "Iteration:  1000  of  2000 , Trunc. Error: 6.08743e-10,1.36077e-06\n",
      "Iteration:  1100  of  2000 , Trunc. Error: 6.08743e-10,1.32807e-06\n",
      "Iteration:  1200  of  2000 , Trunc. Error: 6.08743e-10,1.30612e-06\n",
      "Iteration:  1300  of  2000 , Trunc. Error: 6.08743e-10,1.29188e-06\n",
      "Iteration:  1400  of  2000 , Trunc. Error: 6.08743e-10,1.2829e-06\n",
      "RGstep: 0 ,A_differ: 1 , Truncation Errors: 6.08743e-10, 1.2829e-06, 2.10581e-05\n",
      "time spent for this RGstep: 7.9553\n",
      "shape of A: (10, 10, 10, 10)\n",
      "Iteration:  0  of  2000 , Trunc. Error: 1.77267e-08,0.000351365\n",
      "Iteration:  100  of  2000 , Trunc. Error: 1.77267e-08,1.23227e-05\n",
      "Iteration:  200  of  2000 , Trunc. Error: 1.77267e-08,8.89159e-06\n",
      "Iteration:  300  of  2000 , Trunc. Error: 1.77267e-08,6.98445e-06\n",
      "Iteration:  400  of  2000 , Trunc. Error: 1.77267e-08,5.53827e-06\n",
      "Iteration:  500  of  2000 , Trunc. Error: 1.77267e-08,4.44801e-06\n",
      "Iteration:  600  of  2000 , Trunc. Error: 1.77267e-08,3.65116e-06\n",
      "Iteration:  700  of  2000 , Trunc. Error: 1.77267e-08,3.10206e-06\n",
      "Iteration:  800  of  2000 , Trunc. Error: 1.77267e-08,2.75556e-06\n",
      "Iteration:  900  of  2000 , Trunc. Error: 1.77267e-08,2.55715e-06\n",
      "Iteration:  1000  of  2000 , Trunc. Error: 1.77267e-08,2.45082e-06\n",
      "Iteration:  1100  of  2000 , Trunc. Error: 1.77267e-08,2.40032e-06\n",
      "Iteration:  1200  of  2000 , Trunc. Error: 1.77267e-08,2.37737e-06\n",
      "RGstep: 1 ,A_differ: 0.0349906 , Truncation Errors: 1.77267e-08, 2.37737e-06, 4.1197e-05\n",
      "time spent for this RGstep: 6.81132\n",
      "shape of A: (10, 10, 10, 10)\n",
      "Iteration:  0  of  2000 , Trunc. Error: 4.92939e-08,0.00950823\n",
      "Iteration:  100  of  2000 , Trunc. Error: 4.92939e-08,1.7288e-06\n",
      "Iteration:  200  of  2000 , Trunc. Error: 4.92939e-08,1.62746e-06\n",
      "Iteration:  300  of  2000 , Trunc. Error: 4.92939e-08,1.59099e-06\n",
      "Iteration:  400  of  2000 , Trunc. Error: 4.92939e-08,1.57438e-06\n",
      "Iteration:  500  of  2000 , Trunc. Error: 4.92939e-08,1.5658e-06\n",
      "RGstep: 2 ,A_differ: 0.00276501 , Truncation Errors: 4.92939e-08, 1.5658e-06, 3.77667e-05\n",
      "time spent for this RGstep: 3.09681\n",
      "shape of A: (10, 10, 10, 10)\n",
      "Iteration:  0  of  2000 , Trunc. Error: 3.87739e-08,0.00732845\n",
      "Iteration:  100  of  2000 , Trunc. Error: 3.87739e-08,1.51505e-06\n",
      "Iteration:  200  of  2000 , Trunc. Error: 3.87739e-08,1.50747e-06\n",
      "RGstep: 3 ,A_differ: 0.000843829 , Truncation Errors: 3.87739e-08, 1.50747e-06, 3.74905e-05\n",
      "time spent for this RGstep: 1.29803\n",
      "shape of A: (10, 10, 10, 10)\n",
      "Iteration:  0  of  2000 , Trunc. Error: 3.91776e-08,0.0074455\n",
      "Iteration:  100  of  2000 , Trunc. Error: 3.91776e-08,1.51009e-06\n",
      "Iteration:  200  of  2000 , Trunc. Error: 3.91776e-08,1.50581e-06\n",
      "RGstep: 4 ,A_differ: 0.0017296 , Truncation Errors: 3.91776e-08, 1.50581e-06, 3.71109e-05\n",
      "time spent for this RGstep: 1.28631\n",
      "shape of A: (10, 10, 10, 10)\n",
      "Iteration:  0  of  2000 , Trunc. Error: 3.9965e-08,0.00740789\n",
      "Iteration:  100  of  2000 , Trunc. Error: 3.9965e-08,1.52198e-06\n",
      "Iteration:  200  of  2000 , Trunc. Error: 3.9965e-08,1.51927e-06\n",
      "RGstep: 5 ,A_differ: 0.00263391 , Truncation Errors: 3.9965e-08, 1.51927e-06, 3.69045e-05\n",
      "time spent for this RGstep: 1.21707\n",
      "shape of A: (10, 10, 10, 10)\n",
      "Iteration:  0  of  2000 , Trunc. Error: 4.04268e-08,0.00741364\n",
      "Iteration:  100  of  2000 , Trunc. Error: 4.04268e-08,1.53699e-06\n",
      "Iteration:  200  of  2000 , Trunc. Error: 4.04268e-08,1.5346e-06\n",
      "RGstep: 6 ,A_differ: 0.00490012 , Truncation Errors: 4.04268e-08, 1.5346e-06, 3.69077e-05\n",
      "time spent for this RGstep: 1.2574\n",
      "shape of A: (10, 10, 10, 10)\n",
      "Iteration:  0  of  2000 , Trunc. Error: 3.99417e-08,0.00756652\n",
      "Iteration:  100  of  2000 , Trunc. Error: 3.99417e-08,1.54676e-06\n",
      "Iteration:  200  of  2000 , Trunc. Error: 3.99417e-08,1.54446e-06\n",
      "RGstep: 7 ,A_differ: 0.00976573 , Truncation Errors: 3.99417e-08, 1.54446e-06, 3.71213e-05\n",
      "time spent for this RGstep: 1.2028\n",
      "shape of A: (10, 10, 10, 10)\n",
      "Iteration:  0  of  2000 , Trunc. Error: 3.82851e-08,0.00774389\n",
      "Iteration:  100  of  2000 , Trunc. Error: 3.82851e-08,1.56831e-06\n",
      "Iteration:  200  of  2000 , Trunc. Error: 3.82851e-08,1.56502e-06\n",
      "RGstep: 8 ,A_differ: 0.019587 , Truncation Errors: 3.82851e-08, 1.56502e-06, 3.85443e-05\n",
      "time spent for this RGstep: 1.34765\n",
      "shape of A: (10, 10, 10, 10)\n",
      "Iteration:  0  of  2000 , Trunc. Error: 3.48922e-08,0.00904818\n",
      "Iteration:  100  of  2000 , Trunc. Error: 3.48922e-08,1.60209e-06\n",
      "Iteration:  200  of  2000 , Trunc. Error: 3.48922e-08,1.59527e-06\n",
      "RGstep: 9 ,A_differ: 0.0392322 , Truncation Errors: 3.48922e-08, 1.59527e-06, 4.13147e-05\n",
      "time spent for this RGstep: 1.31987\n",
      "shape of A: (10, 10, 10, 10)\n"
     ]
    }
   ],
   "source": [
    "%run mainScInvTNR.py"
   ]
  },
  {
   "cell_type": "code",
   "execution_count": 3,
   "metadata": {},
   "outputs": [
    {
     "name": "stdout",
     "output_type": "stream",
     "text": [
      "Adiff:  [1, 0.034990588653356657, 0.002765012685538419, 0.0008438292308551482, 0.0017295999703319208, 0.002633914807284678, 0.004900118624230868, 0.009765734271955366, 0.019587028465820264, 0.03923223327970642]\n",
      "sclev:  3\n"
     ]
    }
   ],
   "source": [
    "print(\"Adiff: \",Adiff)\n",
    "sclev = np.argmin(Adiff)\n",
    "print(\"sclev: \",sclev)"
   ]
  },
  {
   "cell_type": "code",
   "execution_count": 6,
   "metadata": {},
   "outputs": [],
   "source": [
    "np.save('ScInvTensors',(A[sclev],qC[sclev],sC[sclev],yC[sclev],vC[sclev],wC[sclev]))"
   ]
  },
  {
   "cell_type": "code",
   "execution_count": 41,
   "metadata": {},
   "outputs": [],
   "source": [
    "import numpy as np\n",
    "chiK = 20\n",
    "(Ax,qx,sx,yx,vx,wx)=np.load('ScInvTensors.npy')"
   ]
  },
  {
   "cell_type": "code",
   "execution_count": 43,
   "metadata": {},
   "outputs": [],
   "source": [
    "from doScInvTNR import eigCut\n",
    "\n",
    "##### Compress vertical indices\n",
    "chitemp = Ax.shape[3]\n",
    "genv = np.einsum(Ax,[1,2,5,21],Ax,[3,4,5,22],Ax,[1,2,6,23],Ax,[3,4,6,24],order='C').reshape(chitemp**2,chitemp**2)\n",
    "dtemp, gtemp = eigCut(genv, chimax = chiK, dtol = 0)\n",
    "gx = gtemp.reshape(chitemp,chitemp,gtemp.shape[1])\n",
    "\n",
    "##### Compress horizontal indices\n",
    "chitemp = Ax.shape[2]\n",
    "renv = np.einsum(Ax,[1,2,22,5],Ax,[4,3,21,5],Ax,[1,2,24,6],Ax,[4,3,23,6],order='C').reshape(chitemp**2,chitemp**2)\n",
    "dtemp, rtemp = eigCut(renv, chimax = chiK, dtol = 0)\n",
    "rx = rtemp.reshape(chitemp,chitemp,rtemp.shape[1])\n",
    "\n",
    "##### Compute gates\n",
    "Aqs = np.einsum(Ax,[22,21,1,2],qx,[1,2,3],sx,[3,23],order='C')\n",
    "\n",
    "rT = np.einsum(rx,[10,12,22],vx,[5,6,12],Aqs,[4,5,24],Aqs,[4,6,11],rx,[3,2,21],\n",
    "               yx,[2,1,11],yx,[3,1,13],vx,[9,8,10],Aqs,[7,8,13],Aqs,[7,9,23],order='C')\n",
    "\n",
    "gT = np.einsum(gx,[12,11,22],wx,[6,5,12],yx,[4,5,23],yx,[4,6,10],\n",
    "    gx,[2,3,21],Aqs,[2,1,10],Aqs,[3,1,13],wx,[8,9,11],yx,[7,8,13],yx,[7,9,24],order='C')"
   ]
  },
  {
   "cell_type": "code",
   "execution_count": 44,
   "metadata": {},
   "outputs": [],
   "source": [
    "np.save('rTgT',(rT,gT))"
   ]
  },
  {
   "cell_type": "code",
   "execution_count": 2,
   "metadata": {},
   "outputs": [],
   "source": [
    "import numpy as np\n",
    "(rT,gT)=np.load('rTgT.npy')"
   ]
  },
  {
   "cell_type": "code",
   "execution_count": 47,
   "metadata": {},
   "outputs": [],
   "source": [
    "import h5py\n",
    "with h5py.File(\"rT.h5\") as h5f2:\n",
    "    h5f2.create_dataset('rT', data=rT)\n",
    "with h5py.File(\"gT.h5\") as h5f:\n",
    "    h5f.create_dataset('gT', data=gT)"
   ]
  }
 ],
 "metadata": {
  "kernelspec": {
   "display_name": "Python 3",
   "language": "python",
   "name": "python3"
  },
  "language_info": {
   "codemirror_mode": {
    "name": "ipython",
    "version": 3
   },
   "file_extension": ".py",
   "mimetype": "text/x-python",
   "name": "python",
   "nbconvert_exporter": "python",
   "pygments_lexer": "ipython3",
   "version": "3.6.5"
  },
  "varInspector": {
   "cols": {
    "lenName": 16,
    "lenType": 16,
    "lenVar": 40
   },
   "kernels_config": {
    "python": {
     "delete_cmd_postfix": "",
     "delete_cmd_prefix": "del ",
     "library": "var_list.py",
     "varRefreshCmd": "print(var_dic_list())"
    },
    "r": {
     "delete_cmd_postfix": ") ",
     "delete_cmd_prefix": "rm(",
     "library": "var_list.r",
     "varRefreshCmd": "cat(var_dic_list()) "
    }
   },
   "types_to_exclude": [
    "module",
    "function",
    "builtin_function_or_method",
    "instance",
    "_Feature"
   ],
   "window_display": true
  }
 },
 "nbformat": 4,
 "nbformat_minor": 2
}
