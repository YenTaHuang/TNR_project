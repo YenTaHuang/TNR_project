{
 "cells": [
  {
   "cell_type": "code",
   "execution_count": 1,
   "metadata": {},
   "outputs": [],
   "source": [
    "%load_ext autoreload\n",
    "%autoreload 2"
   ]
  },
  {
   "cell_type": "code",
   "execution_count": 13,
   "metadata": {},
   "outputs": [
    {
     "name": "stdout",
     "output_type": "stream",
     "text": [
      "relTemp= 0.995\n",
      "Iteration:  0  of  2000 , Trunc. Error: 2.00822e-06,0.000283112\n",
      "Iteration:  100  of  2000 , Trunc. Error: 2.00822e-06,6.58429e-05\n",
      "Iteration:  200  of  2000 , Trunc. Error: 2.00822e-06,4.71489e-05\n",
      "Iteration:  300  of  2000 , Trunc. Error: 2.00822e-06,4.7101e-05\n",
      "RGstep: 0 , Truncation Errors: 2.00822e-06, 4.7101e-05, 4.33853e-05, 0.000102462\n",
      "Iteration:  0  of  2000 , Trunc. Error: 1.20523e-06,0.00369753\n",
      "Iteration:  100  of  2000 , Trunc. Error: 1.20523e-06,7.01867e-05\n",
      "Iteration:  200  of  2000 , Trunc. Error: 1.20523e-06,5.53399e-05\n",
      "Iteration:  300  of  2000 , Trunc. Error: 1.20523e-06,5.53143e-05\n",
      "RGstep: 1 , Truncation Errors: 1.20523e-06, 5.53143e-05, 8.85435e-05, 0.000119954\n",
      "Iteration:  0  of  2000 , Trunc. Error: 1.39265e-06,0.00435041\n",
      "Iteration:  100  of  2000 , Trunc. Error: 1.39265e-06,8.14519e-05\n",
      "Iteration:  200  of  2000 , Trunc. Error: 1.39265e-06,6.88852e-05\n",
      "Iteration:  300  of  2000 , Trunc. Error: 1.39265e-06,6.88755e-05\n",
      "RGstep: 2 , Truncation Errors: 1.39265e-06, 6.88755e-05, 8.10733e-05, 0.00010534\n",
      "Iteration:  0  of  2000 , Trunc. Error: 1.12524e-06,0.00407843\n",
      "Iteration:  100  of  2000 , Trunc. Error: 1.12524e-06,7.57054e-05\n",
      "Iteration:  200  of  2000 , Trunc. Error: 1.12524e-06,6.5657e-05\n",
      "Iteration:  300  of  2000 , Trunc. Error: 1.12524e-06,6.56429e-05\n",
      "RGstep: 3 , Truncation Errors: 1.12524e-06, 6.56429e-05, 7.96071e-05, 0.00010053\n",
      "Iteration:  0  of  2000 , Trunc. Error: 8.90794e-07,0.00421876\n",
      "Iteration:  100  of  2000 , Trunc. Error: 8.90794e-07,7.07501e-05\n",
      "Iteration:  200  of  2000 , Trunc. Error: 8.90794e-07,6.42034e-05\n",
      "Iteration:  300  of  2000 , Trunc. Error: 8.90794e-07,6.41883e-05\n",
      "RGstep: 4 , Truncation Errors: 8.90794e-07, 6.41883e-05, 6.32313e-05, 7.66588e-05\n",
      "Iteration:  0  of  2000 , Trunc. Error: 3.93489e-07,0.00398773\n",
      "Iteration:  100  of  2000 , Trunc. Error: 3.93489e-07,5.57511e-05\n",
      "Iteration:  200  of  2000 , Trunc. Error: 3.93489e-07,5.26423e-05\n",
      "Iteration:  300  of  2000 , Trunc. Error: 3.93489e-07,5.26244e-05\n",
      "RGstep: 5 , Truncation Errors: 3.93489e-07, 5.26244e-05, 3.10592e-05, 3.4436e-05\n",
      "Iteration:  0  of  2000 , Trunc. Error: 5.2598e-08,0.00311952\n",
      "Iteration:  100  of  2000 , Trunc. Error: 5.2598e-08,1.65847e-05\n",
      "Iteration:  200  of  2000 , Trunc. Error: 5.2598e-08,1.53849e-05\n",
      "Iteration:  300  of  2000 , Trunc. Error: 5.2598e-08,1.53675e-05\n",
      "RGstep: 6 , Truncation Errors: 5.2598e-08, 1.53675e-05, 3.71624e-06, 3.54487e-06\n",
      "Iteration:  0  of  2000 , Trunc. Error: 1.13885e-09,0.00131647\n",
      "Iteration:  100  of  2000 , Trunc. Error: 1.13885e-09,4.28074e-07\n",
      "Iteration:  200  of  2000 , Trunc. Error: 1.13885e-09,4.10853e-07\n",
      "Iteration:  300  of  2000 , Trunc. Error: 1.13885e-09,4.05549e-07\n",
      "Iteration:  400  of  2000 , Trunc. Error: 1.13885e-09,4.01649e-07\n",
      "RGstep: 7 , Truncation Errors: 1.13885e-09, 4.01649e-07, 2.81048e-08, 1.68389e-08\n",
      "Iteration:  0  of  2000 , Trunc. Error: 4.20984e-14,6.70977e-05\n",
      "Iteration:  100  of  2000 , Trunc. Error: 4.20984e-14,5.93652e-11\n",
      "RGstep: 8 , Truncation Errors: 4.20984e-14, 5.93652e-11, 3.57734e-13, 1.78806e-13\n",
      "Iteration:  0  of  2000 , Trunc. Error: 9.87847e-16,1.78524e-08\n",
      "Iteration:  100  of  2000 , Trunc. Error: 9.87847e-16,1e-16\n",
      "RGstep: 9 , Truncation Errors: 9.87847e-16, 1e-16, 1e-16, 1e-16\n",
      "Iteration:  0  of  2000 , Trunc. Error: 1e-16,1.21022e-15\n",
      "Iteration:  100  of  2000 , Trunc. Error: 1e-16,1e-16\n",
      "RGstep: 10 , Truncation Errors: 1e-16, 1e-16, 3.20727e-16, 3.20727e-16\n",
      "Iteration:  0  of  2000 , Trunc. Error: 1e-16,1e-16\n",
      "Iteration:  100  of  2000 , Trunc. Error: 1e-16,3.22045e-16\n",
      "RGstep: 11 , Truncation Errors: 1e-16, 3.22045e-16, 1e-16, 3.02818e-16\n",
      "Magnetization:  0.6248592719670615\n",
      "##############################################\n"
     ]
    }
   ],
   "source": [
    "%run mainTNR.py"
   ]
  },
  {
   "cell_type": "code",
   "execution_count": 3,
   "metadata": {},
   "outputs": [
    {
     "name": "stdout",
     "output_type": "stream",
     "text": [
      "Iteration:  0  of  2000 , Trunc. Error: 6.08743e-10,4.06838e-06\n",
      "Iteration:  100  of  2000 , Trunc. Error: 6.08743e-10,2.94729e-06\n",
      "Iteration:  200  of  2000 , Trunc. Error: 6.08743e-10,2.48122e-06\n",
      "Iteration:  300  of  2000 , Trunc. Error: 6.08743e-10,2.1954e-06\n",
      "Iteration:  400  of  2000 , Trunc. Error: 6.08743e-10,1.98306e-06\n",
      "Iteration:  500  of  2000 , Trunc. Error: 6.08743e-10,1.81134e-06\n",
      "Iteration:  600  of  2000 , Trunc. Error: 6.08743e-10,1.67127e-06\n",
      "Iteration:  700  of  2000 , Trunc. Error: 6.08743e-10,1.55939e-06\n",
      "Iteration:  800  of  2000 , Trunc. Error: 6.08743e-10,1.4727e-06\n",
      "Iteration:  900  of  2000 , Trunc. Error: 6.08743e-10,1.40773e-06\n",
      "Iteration:  1000  of  2000 , Trunc. Error: 6.08743e-10,1.36077e-06\n",
      "Iteration:  1100  of  2000 , Trunc. Error: 6.08743e-10,1.32807e-06\n",
      "Iteration:  1200  of  2000 , Trunc. Error: 6.08743e-10,1.30612e-06\n",
      "Iteration:  1300  of  2000 , Trunc. Error: 6.08743e-10,1.29188e-06\n",
      "Iteration:  1400  of  2000 , Trunc. Error: 6.08743e-10,1.2829e-06\n",
      "RGstep: 0 ,A_differ: 1 , Truncation Errors: 6.08743e-10, 1.2829e-06, 2.10581e-05\n",
      "time spent for this RGstep: 8.73559\n",
      "shape of A: (10, 10, 10, 10)\n",
      "Iteration:  0  of  2000 , Trunc. Error: 1.77267e-08,0.000351365\n",
      "Iteration:  100  of  2000 , Trunc. Error: 1.77267e-08,1.23227e-05\n",
      "Iteration:  200  of  2000 , Trunc. Error: 1.77267e-08,8.89159e-06\n",
      "Iteration:  300  of  2000 , Trunc. Error: 1.77267e-08,6.98445e-06\n",
      "Iteration:  400  of  2000 , Trunc. Error: 1.77267e-08,5.53827e-06\n",
      "Iteration:  500  of  2000 , Trunc. Error: 1.77267e-08,4.44801e-06\n",
      "Iteration:  600  of  2000 , Trunc. Error: 1.77267e-08,3.65116e-06\n",
      "Iteration:  700  of  2000 , Trunc. Error: 1.77267e-08,3.10206e-06\n",
      "Iteration:  800  of  2000 , Trunc. Error: 1.77267e-08,2.75556e-06\n",
      "Iteration:  900  of  2000 , Trunc. Error: 1.77267e-08,2.55715e-06\n",
      "Iteration:  1000  of  2000 , Trunc. Error: 1.77267e-08,2.45082e-06\n",
      "Iteration:  1100  of  2000 , Trunc. Error: 1.77267e-08,2.40007e-06\n",
      "Iteration:  1200  of  2000 , Trunc. Error: 1.77267e-08,2.37731e-06\n",
      "RGstep: 1 ,A_differ: 0.0350064 , Truncation Errors: 1.77267e-08, 2.37731e-06, 4.12783e-05\n",
      "time spent for this RGstep: 6.61724\n",
      "shape of A: (10, 10, 10, 10)\n",
      "Iteration:  0  of  2000 , Trunc. Error: 4.93143e-08,0.00950803\n",
      "Iteration:  100  of  2000 , Trunc. Error: 4.93143e-08,1.72914e-06\n",
      "Iteration:  200  of  2000 , Trunc. Error: 4.93143e-08,1.62787e-06\n",
      "Iteration:  300  of  2000 , Trunc. Error: 4.93143e-08,1.5913e-06\n",
      "Iteration:  400  of  2000 , Trunc. Error: 4.93143e-08,1.57461e-06\n",
      "Iteration:  500  of  2000 , Trunc. Error: 4.93143e-08,1.56603e-06\n",
      "RGstep: 2 ,A_differ: 0.00275436 , Truncation Errors: 4.93143e-08, 1.56603e-06, 3.77672e-05\n",
      "time spent for this RGstep: 2.96191\n",
      "shape of A: (10, 10, 10, 10)\n",
      "Iteration:  0  of  2000 , Trunc. Error: 3.8783e-08,0.00733311\n",
      "Iteration:  100  of  2000 , Trunc. Error: 3.8783e-08,1.51512e-06\n",
      "Iteration:  200  of  2000 , Trunc. Error: 3.8783e-08,1.50757e-06\n",
      "RGstep: 3 ,A_differ: 0.000843546 , Truncation Errors: 3.8783e-08, 1.50757e-06, 3.75002e-05\n",
      "time spent for this RGstep: 1.32917\n",
      "shape of A: (10, 10, 10, 10)\n",
      "Iteration:  0  of  2000 , Trunc. Error: 3.91856e-08,0.0074486\n",
      "Iteration:  100  of  2000 , Trunc. Error: 3.91856e-08,1.51023e-06\n",
      "Iteration:  200  of  2000 , Trunc. Error: 3.91856e-08,1.50596e-06\n",
      "RGstep: 4 ,A_differ: 0.00172811 , Truncation Errors: 3.91856e-08, 1.50596e-06, 3.71155e-05\n",
      "time spent for this RGstep: 1.18094\n",
      "shape of A: (10, 10, 10, 10)\n",
      "Iteration:  0  of  2000 , Trunc. Error: 3.99702e-08,0.00741159\n",
      "Iteration:  100  of  2000 , Trunc. Error: 3.99702e-08,1.52209e-06\n",
      "Iteration:  200  of  2000 , Trunc. Error: 3.99702e-08,1.51937e-06\n",
      "RGstep: 5 ,A_differ: 0.00263223 , Truncation Errors: 3.99702e-08, 1.51937e-06, 3.6908e-05\n",
      "time spent for this RGstep: 1.21349\n",
      "shape of A: (10, 10, 10, 10)\n",
      "Iteration:  0  of  2000 , Trunc. Error: 4.04286e-08,0.00741689\n",
      "Iteration:  100  of  2000 , Trunc. Error: 4.04286e-08,1.53706e-06\n",
      "Iteration:  200  of  2000 , Trunc. Error: 4.04286e-08,1.53466e-06\n",
      "RGstep: 6 ,A_differ: 0.00489887 , Truncation Errors: 4.04286e-08, 1.53466e-06, 3.69098e-05\n",
      "time spent for this RGstep: 1.16001\n",
      "shape of A: (10, 10, 10, 10)\n",
      "Iteration:  0  of  2000 , Trunc. Error: 3.99418e-08,0.00756962\n",
      "Iteration:  100  of  2000 , Trunc. Error: 3.99418e-08,1.5468e-06\n",
      "Iteration:  200  of  2000 , Trunc. Error: 3.99418e-08,1.54449e-06\n",
      "RGstep: 7 ,A_differ: 0.00976352 , Truncation Errors: 3.99418e-08, 1.54449e-06, 3.7124e-05\n",
      "time spent for this RGstep: 1.15373\n",
      "shape of A: (10, 10, 10, 10)\n",
      "Iteration:  0  of  2000 , Trunc. Error: 3.82855e-08,0.00774654\n",
      "Iteration:  100  of  2000 , Trunc. Error: 3.82855e-08,1.56835e-06\n",
      "Iteration:  200  of  2000 , Trunc. Error: 3.82855e-08,1.56506e-06\n",
      "RGstep: 8 ,A_differ: 0.0195826 , Truncation Errors: 3.82855e-08, 1.56506e-06, 3.85452e-05\n",
      "time spent for this RGstep: 1.26212\n",
      "shape of A: (10, 10, 10, 10)\n",
      "Iteration:  0  of  2000 , Trunc. Error: 3.48938e-08,0.00905093\n",
      "Iteration:  100  of  2000 , Trunc. Error: 3.48938e-08,1.60208e-06\n",
      "Iteration:  200  of  2000 , Trunc. Error: 3.48938e-08,1.59527e-06\n",
      "RGstep: 9 ,A_differ: 0.0392235 , Truncation Errors: 3.48938e-08, 1.59527e-06, 4.13157e-05\n",
      "time spent for this RGstep: 1.27299\n",
      "shape of A: (10, 10, 10, 10)\n",
      "Adiff:  [1, 0.03500638563696313, 0.002754355043463857, 0.0008435457444157078, 0.0017281089914642038, 0.002632234385211877, 0.004898868800049744, 0.009763521494729185, 0.01958260200784272, 0.03922350802477594]\n",
      "sclev:  3\n",
      "rT.shape:  (20, 20, 6, 6)\n",
      "gT.shape:  (20, 20, 6, 6)\n",
      "n:  160000\n",
      "defining Atemp...\n",
      "calculating eigs\n"
     ]
    }
   ],
   "source": [
    "%run mainScInvTNR.py"
   ]
  },
  {
   "cell_type": "code",
   "execution_count": 4,
   "metadata": {},
   "outputs": [
    {
     "data": {
      "text/plain": [
       "array([-0.        ,  0.12704589,  1.00024473,  1.12222162,  1.12333985,\n",
       "        1.99851092,  1.99872306,  1.99913345,  1.99941232,  2.11939745,\n",
       "        2.11999277,  2.12728698,  2.99244553,  2.99264387,  2.99320731,\n",
       "        2.9946286 ,  2.99944181,  3.10623731,  3.11430485,  3.12301525,\n",
       "        3.12305146,  3.12481681,  3.12538312,  3.97665396,  3.97973526,\n",
       "        3.98069923,  3.98091394,  3.99101189,  3.99132524,  3.99594198,\n",
       "        3.99598677,  4.00102818,  4.0656465 ,  4.11009329,  4.11150933,\n",
       "        4.11646297,  4.1191813 ,  4.12122506,  4.12195357,  4.12279122,\n",
       "        4.12411147,  4.94884227,  4.95691295,  4.95985151,  4.96244066,\n",
       "        4.97608263,  4.9801529 ,  4.98548764,  4.9876223 ,  4.99344789,\n",
       "        4.99367804,  4.99522515,  4.99835161,  4.99842436,  5.00692568,\n",
       "        5.06685636,  5.07381003,  5.10829708,  5.10874253,  5.11110572,\n",
       "        5.12072758,  5.12072758,  5.12094167,  5.1212284 ,  5.12204152,\n",
       "        5.12387944,  5.12932713,  5.12936624,  5.90765802,  5.92670343,\n",
       "        5.94077921,  5.95155726,  5.95278753,  5.96798686,  5.97071108,\n",
       "        5.97108687,  5.97428909,  5.98105192,  5.98455279,  5.98558306,\n",
       "        5.98900799,  5.98988684,  5.9919253 ,  5.99403753,  5.99436849,\n",
       "        5.99761055,  5.99784687,  5.99850321,  5.9988161 ,  5.99978892,\n",
       "        6.0049795 ,  6.03467334,  6.0477001 ,  6.07215782,  6.07371547,\n",
       "        6.07612989,  6.10602599,  6.10636901,  6.11073825,  6.11177091])"
      ]
     },
     "execution_count": 4,
     "metadata": {},
     "output_type": "execute_result"
    }
   ],
   "source": [
    "scDims"
   ]
  },
  {
   "cell_type": "code",
   "execution_count": 1,
   "metadata": {},
   "outputs": [],
   "source": [
    "# #Todo: diagonalize in python\n",
    "\n",
    "# import h5py\n",
    "# f = h5py.File('rT.h5', 'r')\n",
    "# a_group_key = list(f.keys())[0]\n",
    "# rT=np.array(f[a_group_key])\n",
    "\n",
    "# f = h5py.File('gT.h5', 'r')\n",
    "# a_group_key = list(f.keys())[0]\n",
    "# gT=np.array(f[a_group_key])"
   ]
  },
  {
   "cell_type": "code",
   "execution_count": null,
   "metadata": {},
   "outputs": [],
   "source": []
  }
 ],
 "metadata": {
  "kernelspec": {
   "display_name": "Python 3",
   "language": "python",
   "name": "python3"
  },
  "language_info": {
   "codemirror_mode": {
    "name": "ipython",
    "version": 3
   },
   "file_extension": ".py",
   "mimetype": "text/x-python",
   "name": "python",
   "nbconvert_exporter": "python",
   "pygments_lexer": "ipython3",
   "version": "3.6.5"
  },
  "varInspector": {
   "cols": {
    "lenName": 16,
    "lenType": 16,
    "lenVar": 40
   },
   "kernels_config": {
    "python": {
     "delete_cmd_postfix": "",
     "delete_cmd_prefix": "del ",
     "library": "var_list.py",
     "varRefreshCmd": "print(var_dic_list())"
    },
    "r": {
     "delete_cmd_postfix": ") ",
     "delete_cmd_prefix": "rm(",
     "library": "var_list.r",
     "varRefreshCmd": "cat(var_dic_list()) "
    }
   },
   "types_to_exclude": [
    "module",
    "function",
    "builtin_function_or_method",
    "instance",
    "_Feature"
   ],
   "window_display": true
  }
 },
 "nbformat": 4,
 "nbformat_minor": 2
}
