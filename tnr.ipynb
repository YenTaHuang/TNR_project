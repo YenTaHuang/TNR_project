{
 "cells": [
  {
   "cell_type": "code",
   "execution_count": 1,
   "metadata": {},
   "outputs": [
    {
     "name": "stdout",
     "output_type": "stream",
     "text": [
      "RGstep:  0  , Truncation Errors: [2.008217989894428e-06, 4.710099382075902e-05, 4.3385250754765434e-05, 0.00010246157077446297]\n",
      "time spent for this RGstep:  0.8481032848358154\n",
      "shape of A: (6, 6, 6, 6)\n",
      "shape of q: (4, 4, 6)\n",
      "shape of s: (6, 4)\n",
      "shape of u: (4, 4, 4, 4)\n",
      "shape of y: (4, 4, 4)\n",
      "shape of v: (4, 4, 6)\n",
      "shape of w: (4, 4, 6)\n",
      "RGstep:  1  , Truncation Errors: [1.2052261389767233e-06, 5.5314341863221894e-05, 8.854347959034827e-05, 0.00011995394719820866]\n",
      "time spent for this RGstep:  0.8429150581359863\n",
      "shape of A: (6, 6, 6, 6)\n",
      "shape of q: (6, 6, 6)\n",
      "shape of s: (6, 4)\n",
      "shape of u: (6, 6, 4, 4)\n",
      "shape of y: (6, 4, 4)\n",
      "shape of v: (6, 6, 6)\n",
      "shape of w: (4, 4, 6)\n",
      "RGstep:  2  , Truncation Errors: [1.3926494470403928e-06, 6.887552980815456e-05, 8.107328747758827e-05, 0.00010534040724117942]\n",
      "time spent for this RGstep:  0.7530243396759033\n",
      "shape of A: (6, 6, 6, 6)\n",
      "shape of q: (6, 6, 6)\n",
      "shape of s: (6, 4)\n",
      "shape of u: (6, 6, 4, 4)\n",
      "shape of y: (6, 4, 4)\n",
      "shape of v: (6, 6, 6)\n",
      "shape of w: (4, 4, 6)\n",
      "RGstep:  3  , Truncation Errors: [1.1252362554782714e-06, 6.564287993059423e-05, 7.960705611707541e-05, 0.00010052964617330995]\n",
      "time spent for this RGstep:  0.7492337226867676\n",
      "shape of A: (6, 6, 6, 6)\n",
      "shape of q: (6, 6, 6)\n",
      "shape of s: (6, 4)\n",
      "shape of u: (6, 6, 4, 4)\n",
      "shape of y: (6, 4, 4)\n",
      "shape of v: (6, 6, 6)\n",
      "shape of w: (4, 4, 6)\n",
      "RGstep:  4  , Truncation Errors: [8.907934947566074e-07, 6.418832069409194e-05, 6.323137711139737e-05, 7.665886303907495e-05]\n",
      "time spent for this RGstep:  0.7317712306976318\n",
      "shape of A: (6, 6, 6, 6)\n",
      "shape of q: (6, 6, 6)\n",
      "shape of s: (6, 4)\n",
      "shape of u: (6, 6, 4, 4)\n",
      "shape of y: (6, 4, 4)\n",
      "shape of v: (6, 6, 6)\n",
      "shape of w: (4, 4, 6)\n",
      "RGstep:  5  , Truncation Errors: [3.934886841924704e-07, 5.2624418456759325e-05, 3.105919362577685e-05, 3.4436003634252994e-05]\n",
      "time spent for this RGstep:  0.8058731555938721\n",
      "shape of A: (6, 6, 6, 6)\n",
      "shape of q: (6, 6, 6)\n",
      "shape of s: (6, 4)\n",
      "shape of u: (6, 6, 4, 4)\n",
      "shape of y: (6, 4, 4)\n",
      "shape of v: (6, 6, 6)\n",
      "shape of w: (4, 4, 6)\n",
      "RGstep:  6  , Truncation Errors: [5.259798119724915e-08, 1.536752838259278e-05, 3.7162384373916986e-06, 3.544867096151842e-06]\n",
      "time spent for this RGstep:  0.781174898147583\n",
      "shape of A: (6, 6, 6, 6)\n",
      "shape of q: (6, 6, 6)\n",
      "shape of s: (6, 4)\n",
      "shape of u: (6, 6, 4, 4)\n",
      "shape of y: (6, 4, 4)\n",
      "shape of v: (6, 6, 6)\n",
      "shape of w: (4, 4, 6)\n",
      "RGstep:  7  , Truncation Errors: [1.138850773598245e-09, 4.0164826996544e-07, 2.8104835477519214e-08, 1.68388619732711e-08]\n",
      "time spent for this RGstep:  1.0159988403320312\n",
      "shape of A: (6, 6, 6, 6)\n",
      "shape of q: (6, 6, 6)\n",
      "shape of s: (6, 4)\n",
      "shape of u: (6, 6, 4, 4)\n",
      "shape of y: (6, 4, 4)\n",
      "shape of v: (6, 6, 6)\n",
      "shape of w: (4, 4, 6)\n",
      "RGstep:  8  , Truncation Errors: [4.17650607422235e-14, 5.936716681808346e-11, 3.5817869760505303e-13, 1.7880594219395564e-13]\n",
      "time spent for this RGstep:  0.3651895523071289\n",
      "shape of A: (6, 6, 6, 6)\n",
      "shape of q: (6, 6, 6)\n",
      "shape of s: (6, 4)\n",
      "shape of u: (6, 6, 4, 4)\n",
      "shape of y: (6, 4, 4)\n",
      "shape of v: (6, 6, 6)\n",
      "shape of w: (4, 4, 6)\n",
      "RGstep:  9  , Truncation Errors: [1e-16, 9.881784197001253e-16, 1e-16, 3.2196311972169543e-16]\n",
      "time spent for this RGstep:  0.493396520614624\n",
      "shape of A: (2, 2, 2, 2)\n",
      "shape of q: (6, 6, 2)\n",
      "shape of s: (2, 2)\n",
      "shape of u: (6, 6, 4, 4)\n",
      "shape of y: (6, 4, 2)\n",
      "shape of v: (6, 6, 2)\n",
      "shape of w: (4, 4, 2)\n",
      "RGstep:  10  , Truncation Errors: [1e-16, 3.220446049250313e-16, 3.2074779292297404e-16, 3.2074779292297404e-16]\n",
      "time spent for this RGstep:  0.18134522438049316\n",
      "shape of A: (2, 2, 2, 2)\n",
      "shape of q: (2, 2, 2)\n",
      "shape of s: (2, 2)\n",
      "shape of u: (2, 2, 2, 2)\n",
      "shape of y: (2, 2, 2)\n",
      "shape of v: (2, 2, 2)\n",
      "shape of w: (2, 2, 2)\n",
      "RGstep:  11  , Truncation Errors: [1e-16, 3.220446049250313e-16, 1e-16, 1e-16]\n",
      "time spent for this RGstep:  0.18918442726135254\n",
      "shape of A: (2, 2, 2, 2)\n",
      "shape of q: (2, 2, 2)\n",
      "shape of s: (2, 2)\n",
      "shape of u: (2, 2, 2, 2)\n",
      "shape of y: (2, 2, 2)\n",
      "shape of v: (2, 2, 2)\n",
      "shape of w: (2, 2, 2)\n",
      "Magnetization:  0.6246991248151762\n",
      "##############################################\n"
     ]
    }
   ],
   "source": [
    "%run mainTNR.py"
   ]
  },
  {
   "cell_type": "code",
   "execution_count": 1,
   "metadata": {},
   "outputs": [
    {
     "name": "stdout",
     "output_type": "stream",
     "text": [
      "Iteration:  0  of  2000 , Trunc. Error: 6.08743e-10,4.06838e-06\n",
      "Iteration:  100  of  2000 , Trunc. Error: 6.08743e-10,2.94729e-06\n",
      "Iteration:  200  of  2000 , Trunc. Error: 6.08743e-10,2.48122e-06\n",
      "Iteration:  300  of  2000 , Trunc. Error: 6.08743e-10,2.1954e-06\n",
      "Iteration:  400  of  2000 , Trunc. Error: 6.08743e-10,1.98306e-06\n",
      "Iteration:  500  of  2000 , Trunc. Error: 6.08743e-10,1.81134e-06\n",
      "Iteration:  600  of  2000 , Trunc. Error: 6.08743e-10,1.67127e-06\n",
      "Iteration:  700  of  2000 , Trunc. Error: 6.08743e-10,1.55939e-06\n",
      "Iteration:  800  of  2000 , Trunc. Error: 6.08743e-10,1.4727e-06\n",
      "Iteration:  900  of  2000 , Trunc. Error: 6.08743e-10,1.40773e-06\n",
      "Iteration:  1000  of  2000 , Trunc. Error: 6.08743e-10,1.36077e-06\n",
      "Iteration:  1100  of  2000 , Trunc. Error: 6.08743e-10,1.32807e-06\n",
      "Iteration:  1200  of  2000 , Trunc. Error: 6.08743e-10,1.30612e-06\n",
      "Iteration:  1300  of  2000 , Trunc. Error: 6.08743e-10,1.29188e-06\n",
      "Iteration:  1400  of  2000 , Trunc. Error: 6.08743e-10,1.2829e-06\n",
      "RGstep: 0 ,A_differ: 1 , Truncation Errors: 6.08743e-10, 1.2829e-06, 2.10581e-05\n",
      "time spent for this RGstep: 6.55082\n",
      "shape of A: (10, 10, 10, 10)\n",
      "Iteration:  0  of  2000 , Trunc. Error: 1.77267e-08,0.000351365\n",
      "Iteration:  100  of  2000 , Trunc. Error: 1.77267e-08,1.23227e-05\n",
      "Iteration:  200  of  2000 , Trunc. Error: 1.77267e-08,8.89159e-06\n",
      "Iteration:  300  of  2000 , Trunc. Error: 1.77267e-08,6.98445e-06\n",
      "Iteration:  400  of  2000 , Trunc. Error: 1.77267e-08,5.53827e-06\n",
      "Iteration:  500  of  2000 , Trunc. Error: 1.77267e-08,4.44801e-06\n",
      "Iteration:  600  of  2000 , Trunc. Error: 1.77267e-08,3.65116e-06\n",
      "Iteration:  700  of  2000 , Trunc. Error: 1.77267e-08,3.10206e-06\n",
      "Iteration:  800  of  2000 , Trunc. Error: 1.77267e-08,2.75556e-06\n",
      "Iteration:  900  of  2000 , Trunc. Error: 1.77267e-08,2.55715e-06\n",
      "Iteration:  1000  of  2000 , Trunc. Error: 1.77267e-08,2.45082e-06\n",
      "Iteration:  1100  of  2000 , Trunc. Error: 1.77267e-08,2.40006e-06\n",
      "Iteration:  1200  of  2000 , Trunc. Error: 1.77267e-08,2.37731e-06\n",
      "RGstep: 1 ,A_differ: 0.0349984 , Truncation Errors: 1.77267e-08, 2.37731e-06, 3.9858e-05\n",
      "time spent for this RGstep: 4.79459\n",
      "shape of A: (10, 10, 10, 10)\n",
      "Iteration:  0  of  2000 , Trunc. Error: 4.87352e-08,0.00950095\n",
      "Iteration:  100  of  2000 , Trunc. Error: 4.87352e-08,1.72291e-06\n",
      "Iteration:  200  of  2000 , Trunc. Error: 4.87352e-08,1.62187e-06\n",
      "Iteration:  300  of  2000 , Trunc. Error: 4.87352e-08,1.58545e-06\n",
      "Iteration:  400  of  2000 , Trunc. Error: 4.87352e-08,1.56885e-06\n",
      "Iteration:  500  of  2000 , Trunc. Error: 4.87352e-08,1.5603e-06\n",
      "RGstep: 2 ,A_differ: 0.00277209 , Truncation Errors: 4.87352e-08, 1.5603e-06, 3.75004e-05\n",
      "time spent for this RGstep: 2.09872\n",
      "shape of A: (10, 10, 10, 10)\n",
      "Iteration:  0  of  2000 , Trunc. Error: 3.85295e-08,0.00731814\n",
      "Iteration:  100  of  2000 , Trunc. Error: 3.85295e-08,1.51284e-06\n",
      "Iteration:  200  of  2000 , Trunc. Error: 3.85295e-08,1.50501e-06\n",
      "RGstep: 3 ,A_differ: 0.000856021 , Truncation Errors: 3.85295e-08, 1.50501e-06, 3.75431e-05\n",
      "time spent for this RGstep: 0.918072\n",
      "shape of A: (10, 10, 10, 10)\n",
      "Iteration:  0  of  2000 , Trunc. Error: 3.90957e-08,0.00743366\n",
      "Iteration:  100  of  2000 , Trunc. Error: 3.90957e-08,1.5093e-06\n",
      "Iteration:  200  of  2000 , Trunc. Error: 3.90957e-08,1.50494e-06\n",
      "RGstep: 4 ,A_differ: 0.0017669 , Truncation Errors: 3.90957e-08, 1.50494e-06, 3.70726e-05\n",
      "time spent for this RGstep: 0.904993\n",
      "shape of A: (10, 10, 10, 10)\n",
      "Iteration:  0  of  2000 , Trunc. Error: 3.99174e-08,0.00740338\n",
      "Iteration:  100  of  2000 , Trunc. Error: 3.99174e-08,1.52132e-06\n",
      "Iteration:  200  of  2000 , Trunc. Error: 3.99174e-08,1.51864e-06\n",
      "RGstep: 5 ,A_differ: 0.00265558 , Truncation Errors: 3.99174e-08, 1.51864e-06, 3.67941e-05\n",
      "time spent for this RGstep: 0.981653\n",
      "shape of A: (10, 10, 10, 10)\n",
      "Iteration:  0  of  2000 , Trunc. Error: 4.03821e-08,0.0074073\n",
      "Iteration:  100  of  2000 , Trunc. Error: 4.03821e-08,1.53692e-06\n",
      "Iteration:  200  of  2000 , Trunc. Error: 4.03821e-08,1.53454e-06\n",
      "RGstep: 6 ,A_differ: 0.00492561 , Truncation Errors: 4.03821e-08, 1.53454e-06, 3.68387e-05\n",
      "time spent for this RGstep: 0.951683\n",
      "shape of A: (10, 10, 10, 10)\n",
      "Iteration:  0  of  2000 , Trunc. Error: 3.99381e-08,0.00758958\n",
      "Iteration:  100  of  2000 , Trunc. Error: 3.99381e-08,1.55141e-06\n",
      "Iteration:  200  of  2000 , Trunc. Error: 3.99381e-08,1.54883e-06\n",
      "RGstep: 7 ,A_differ: 0.00980955 , Truncation Errors: 3.99381e-08, 1.54883e-06, 3.73906e-05\n",
      "time spent for this RGstep: 1.00051\n",
      "shape of A: (10, 10, 10, 10)\n",
      "Iteration:  0  of  2000 , Trunc. Error: 3.83113e-08,0.00802082\n",
      "Iteration:  100  of  2000 , Trunc. Error: 3.83113e-08,1.57282e-06\n",
      "Iteration:  200  of  2000 , Trunc. Error: 3.83113e-08,1.56916e-06\n",
      "RGstep: 8 ,A_differ: 0.0196709 , Truncation Errors: 3.83113e-08, 1.56916e-06, 3.8874e-05\n",
      "time spent for this RGstep: 1.02782\n",
      "shape of A: (10, 10, 10, 10)\n",
      "Iteration:  0  of  2000 , Trunc. Error: 3.48723e-08,0.00932784\n",
      "Iteration:  100  of  2000 , Trunc. Error: 3.48723e-08,1.60768e-06\n",
      "Iteration:  200  of  2000 , Trunc. Error: 3.48723e-08,1.60029e-06\n",
      "RGstep: 9 ,A_differ: 0.0394016 , Truncation Errors: 3.48723e-08, 1.60029e-06, 4.16943e-05\n",
      "time spent for this RGstep: 1.08102\n",
      "shape of A: (10, 10, 10, 10)\n"
     ]
    }
   ],
   "source": [
    "%run mainScInvTNR.py"
   ]
  },
  {
   "cell_type": "code",
   "execution_count": 4,
   "metadata": {},
   "outputs": [
    {
     "name": "stdout",
     "output_type": "stream",
     "text": [
      "Adiff:  [1, 0.03499839782597879, 0.0027720922927511956, 0.0008560210431324797, 0.0017669038886816552, 0.002655583925808028, 0.004925614792670759, 0.009809550583532164, 0.019670907128324713, 0.03940156136058012]\n",
      "sclev:  3\n"
     ]
    }
   ],
   "source": [
    "print(\"Adiff: \",Adiff)\n",
    "sclev = np.argmin(Adiff)\n",
    "print(\"sclev: \",sclev)"
   ]
  },
  {
   "cell_type": "code",
   "execution_count": 5,
   "metadata": {},
   "outputs": [],
   "source": [
    "from doScEval import *"
   ]
  },
  {
   "cell_type": "code",
   "execution_count": null,
   "metadata": {},
   "outputs": [
    {
     "name": "stdout",
     "output_type": "stream",
     "text": [
      "compute gates\n",
      "rT.shape:  (20, 20, 6, 6)\n",
      "gT.shape:  (20, 20, 6, 6)\n",
      "n:  160000\n"
     ]
    }
   ],
   "source": [
    "chiK = 20\n",
    "time1 = time.time()\n",
    "w,v = doScEval(A[sclev],qC[sclev],sC[sclev],yC[sclev],vC[sclev],wC[sclev],chiK)\n",
    "time2 = time.time()\n",
    "print(\"Scaling dimension: \",np.sort(w))\n",
    "print(\"time spent for diagonalization: \",time2-time1)"
   ]
  },
  {
   "cell_type": "code",
   "execution_count": null,
   "metadata": {},
   "outputs": [],
   "source": [
    "path1 = \"./scaling_dim.txt\"\n",
    "file1 = open(path,'w')\n",
    "file1.write(np.sort(w))\n",
    "file1.close()"
   ]
  }
 ],
 "metadata": {
  "kernelspec": {
   "display_name": "Python 3",
   "language": "python",
   "name": "python3"
  },
  "language_info": {
   "codemirror_mode": {
    "name": "ipython",
    "version": 3
   },
   "file_extension": ".py",
   "mimetype": "text/x-python",
   "name": "python",
   "nbconvert_exporter": "python",
   "pygments_lexer": "ipython3",
   "version": "3.6.5"
  },
  "varInspector": {
   "cols": {
    "lenName": 16,
    "lenType": 16,
    "lenVar": 40
   },
   "kernels_config": {
    "python": {
     "delete_cmd_postfix": "",
     "delete_cmd_prefix": "del ",
     "library": "var_list.py",
     "varRefreshCmd": "print(var_dic_list())"
    },
    "r": {
     "delete_cmd_postfix": ") ",
     "delete_cmd_prefix": "rm(",
     "library": "var_list.r",
     "varRefreshCmd": "cat(var_dic_list()) "
    }
   },
   "types_to_exclude": [
    "module",
    "function",
    "builtin_function_or_method",
    "instance",
    "_Feature"
   ],
   "window_display": true
  }
 },
 "nbformat": 4,
 "nbformat_minor": 2
}
