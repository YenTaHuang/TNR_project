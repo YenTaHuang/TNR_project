{
 "cells": [
  {
   "cell_type": "code",
   "execution_count": 6,
   "metadata": {},
   "outputs": [],
   "source": [
    "%load_ext autoreload\n",
    "%autoreload 2"
   ]
  },
  {
   "cell_type": "code",
   "execution_count": 13,
   "metadata": {},
   "outputs": [
    {
     "name": "stdout",
     "output_type": "stream",
     "text": [
      "relTemp= 0.995\n",
      "Iteration:  0  of  2000 , Trunc. Error: 2.00822e-06,0.000283112\n",
      "Iteration:  100  of  2000 , Trunc. Error: 2.00822e-06,6.58429e-05\n",
      "Iteration:  200  of  2000 , Trunc. Error: 2.00822e-06,4.71489e-05\n",
      "Iteration:  300  of  2000 , Trunc. Error: 2.00822e-06,4.7101e-05\n",
      "RGstep: 0 , Truncation Errors: 2.00822e-06, 4.7101e-05, 4.33853e-05, 0.000102462\n",
      "Iteration:  0  of  2000 , Trunc. Error: 1.20523e-06,0.00369753\n",
      "Iteration:  100  of  2000 , Trunc. Error: 1.20523e-06,7.01867e-05\n",
      "Iteration:  200  of  2000 , Trunc. Error: 1.20523e-06,5.53399e-05\n",
      "Iteration:  300  of  2000 , Trunc. Error: 1.20523e-06,5.53143e-05\n",
      "RGstep: 1 , Truncation Errors: 1.20523e-06, 5.53143e-05, 8.85435e-05, 0.000119954\n",
      "Iteration:  0  of  2000 , Trunc. Error: 1.39265e-06,0.00435041\n",
      "Iteration:  100  of  2000 , Trunc. Error: 1.39265e-06,8.14519e-05\n",
      "Iteration:  200  of  2000 , Trunc. Error: 1.39265e-06,6.88852e-05\n",
      "Iteration:  300  of  2000 , Trunc. Error: 1.39265e-06,6.88755e-05\n",
      "RGstep: 2 , Truncation Errors: 1.39265e-06, 6.88755e-05, 8.10733e-05, 0.00010534\n",
      "Iteration:  0  of  2000 , Trunc. Error: 1.12524e-06,0.00407843\n",
      "Iteration:  100  of  2000 , Trunc. Error: 1.12524e-06,7.57054e-05\n",
      "Iteration:  200  of  2000 , Trunc. Error: 1.12524e-06,6.5657e-05\n",
      "Iteration:  300  of  2000 , Trunc. Error: 1.12524e-06,6.56429e-05\n",
      "RGstep: 3 , Truncation Errors: 1.12524e-06, 6.56429e-05, 7.96071e-05, 0.00010053\n",
      "Iteration:  0  of  2000 , Trunc. Error: 8.90794e-07,0.00421876\n",
      "Iteration:  100  of  2000 , Trunc. Error: 8.90794e-07,7.07501e-05\n",
      "Iteration:  200  of  2000 , Trunc. Error: 8.90794e-07,6.42034e-05\n",
      "Iteration:  300  of  2000 , Trunc. Error: 8.90794e-07,6.41883e-05\n",
      "RGstep: 4 , Truncation Errors: 8.90794e-07, 6.41883e-05, 6.32313e-05, 7.66588e-05\n",
      "Iteration:  0  of  2000 , Trunc. Error: 3.93489e-07,0.00398773\n",
      "Iteration:  100  of  2000 , Trunc. Error: 3.93489e-07,5.57511e-05\n",
      "Iteration:  200  of  2000 , Trunc. Error: 3.93489e-07,5.26423e-05\n",
      "Iteration:  300  of  2000 , Trunc. Error: 3.93489e-07,5.26244e-05\n",
      "RGstep: 5 , Truncation Errors: 3.93489e-07, 5.26244e-05, 3.10592e-05, 3.4436e-05\n",
      "Iteration:  0  of  2000 , Trunc. Error: 5.2598e-08,0.00311952\n",
      "Iteration:  100  of  2000 , Trunc. Error: 5.2598e-08,1.65847e-05\n",
      "Iteration:  200  of  2000 , Trunc. Error: 5.2598e-08,1.53849e-05\n",
      "Iteration:  300  of  2000 , Trunc. Error: 5.2598e-08,1.53675e-05\n",
      "RGstep: 6 , Truncation Errors: 5.2598e-08, 1.53675e-05, 3.71624e-06, 3.54487e-06\n",
      "Iteration:  0  of  2000 , Trunc. Error: 1.13885e-09,0.00131647\n",
      "Iteration:  100  of  2000 , Trunc. Error: 1.13885e-09,4.28074e-07\n",
      "Iteration:  200  of  2000 , Trunc. Error: 1.13885e-09,4.10853e-07\n",
      "Iteration:  300  of  2000 , Trunc. Error: 1.13885e-09,4.05549e-07\n",
      "Iteration:  400  of  2000 , Trunc. Error: 1.13885e-09,4.01649e-07\n",
      "RGstep: 7 , Truncation Errors: 1.13885e-09, 4.01649e-07, 2.81048e-08, 1.68389e-08\n",
      "Iteration:  0  of  2000 , Trunc. Error: 4.20984e-14,6.70977e-05\n",
      "Iteration:  100  of  2000 , Trunc. Error: 4.20984e-14,5.93652e-11\n",
      "RGstep: 8 , Truncation Errors: 4.20984e-14, 5.93652e-11, 3.57734e-13, 1.78806e-13\n",
      "Iteration:  0  of  2000 , Trunc. Error: 9.87847e-16,1.78524e-08\n",
      "Iteration:  100  of  2000 , Trunc. Error: 9.87847e-16,1e-16\n",
      "RGstep: 9 , Truncation Errors: 9.87847e-16, 1e-16, 1e-16, 1e-16\n",
      "Iteration:  0  of  2000 , Trunc. Error: 1e-16,1.21022e-15\n",
      "Iteration:  100  of  2000 , Trunc. Error: 1e-16,1e-16\n",
      "RGstep: 10 , Truncation Errors: 1e-16, 1e-16, 3.20727e-16, 3.20727e-16\n",
      "Iteration:  0  of  2000 , Trunc. Error: 1e-16,1e-16\n",
      "Iteration:  100  of  2000 , Trunc. Error: 1e-16,3.22045e-16\n",
      "RGstep: 11 , Truncation Errors: 1e-16, 3.22045e-16, 1e-16, 3.02818e-16\n",
      "Magnetization:  0.6248592719670615\n",
      "##############################################\n"
     ]
    }
   ],
   "source": [
    "%run mainTNR.py"
   ]
  },
  {
   "cell_type": "code",
   "execution_count": 1,
   "metadata": {},
   "outputs": [
    {
     "name": "stdout",
     "output_type": "stream",
     "text": [
      "Iteration:  0  of  2000 , Trunc. Error: 6.08743e-10,4.06838e-06\n",
      "Iteration:  100  of  2000 , Trunc. Error: 6.08743e-10,2.94729e-06\n",
      "Iteration:  200  of  2000 , Trunc. Error: 6.08743e-10,2.48122e-06\n",
      "Iteration:  300  of  2000 , Trunc. Error: 6.08743e-10,2.1954e-06\n",
      "Iteration:  400  of  2000 , Trunc. Error: 6.08743e-10,1.98306e-06\n",
      "Iteration:  500  of  2000 , Trunc. Error: 6.08743e-10,1.81134e-06\n",
      "Iteration:  600  of  2000 , Trunc. Error: 6.08743e-10,1.67127e-06\n",
      "Iteration:  700  of  2000 , Trunc. Error: 6.08743e-10,1.55939e-06\n",
      "Iteration:  800  of  2000 , Trunc. Error: 6.08743e-10,1.4727e-06\n",
      "Iteration:  900  of  2000 , Trunc. Error: 6.08743e-10,1.40773e-06\n",
      "Iteration:  1000  of  2000 , Trunc. Error: 6.08743e-10,1.36077e-06\n",
      "Iteration:  1100  of  2000 , Trunc. Error: 6.08743e-10,1.32807e-06\n",
      "Iteration:  1200  of  2000 , Trunc. Error: 6.08743e-10,1.30612e-06\n",
      "Iteration:  1300  of  2000 , Trunc. Error: 6.08743e-10,1.29188e-06\n",
      "Iteration:  1400  of  2000 , Trunc. Error: 6.08743e-10,1.2829e-06\n",
      "RGstep: 0 ,A_differ: 1 , Truncation Errors: 6.08743e-10, 1.2829e-06, 2.10581e-05\n",
      "time spent for this RGstep: 6.7765\n",
      "shape of A: (10, 10, 10, 10)\n",
      "Iteration:  0  of  2000 , Trunc. Error: 1.77267e-08,0.000351365\n",
      "Iteration:  100  of  2000 , Trunc. Error: 1.77267e-08,1.23227e-05\n",
      "Iteration:  200  of  2000 , Trunc. Error: 1.77267e-08,8.89159e-06\n",
      "Iteration:  300  of  2000 , Trunc. Error: 1.77267e-08,6.98445e-06\n",
      "Iteration:  400  of  2000 , Trunc. Error: 1.77267e-08,5.53827e-06\n",
      "Iteration:  500  of  2000 , Trunc. Error: 1.77267e-08,4.44801e-06\n",
      "Iteration:  600  of  2000 , Trunc. Error: 1.77267e-08,3.65116e-06\n",
      "Iteration:  700  of  2000 , Trunc. Error: 1.77267e-08,3.10206e-06\n",
      "Iteration:  800  of  2000 , Trunc. Error: 1.77267e-08,2.75556e-06\n",
      "Iteration:  900  of  2000 , Trunc. Error: 1.77267e-08,2.55715e-06\n",
      "Iteration:  1000  of  2000 , Trunc. Error: 1.77267e-08,2.45082e-06\n",
      "Iteration:  1100  of  2000 , Trunc. Error: 1.77267e-08,2.40034e-06\n",
      "Iteration:  1200  of  2000 , Trunc. Error: 1.77267e-08,2.37742e-06\n",
      "RGstep: 1 ,A_differ: 0.034979 , Truncation Errors: 1.77267e-08, 2.37742e-06, 3.98676e-05\n",
      "time spent for this RGstep: 4.85192\n",
      "shape of A: (10, 10, 10, 10)\n",
      "Iteration:  0  of  2000 , Trunc. Error: 4.87574e-08,0.00950176\n",
      "Iteration:  100  of  2000 , Trunc. Error: 4.87574e-08,1.72278e-06\n",
      "Iteration:  200  of  2000 , Trunc. Error: 4.87574e-08,1.622e-06\n",
      "Iteration:  300  of  2000 , Trunc. Error: 4.87574e-08,1.58568e-06\n",
      "Iteration:  400  of  2000 , Trunc. Error: 4.87574e-08,1.56912e-06\n",
      "Iteration:  500  of  2000 , Trunc. Error: 4.87574e-08,1.56058e-06\n",
      "RGstep: 2 ,A_differ: 0.00278697 , Truncation Errors: 4.87574e-08, 1.56058e-06, 3.7508e-05\n",
      "time spent for this RGstep: 2.13826\n",
      "shape of A: (10, 10, 10, 10)\n",
      "Iteration:  0  of  2000 , Trunc. Error: 3.8534e-08,0.00731948\n",
      "Iteration:  100  of  2000 , Trunc. Error: 3.8534e-08,1.51294e-06\n",
      "Iteration:  200  of  2000 , Trunc. Error: 3.8534e-08,1.50509e-06\n",
      "RGstep: 3 ,A_differ: 0.00085305 , Truncation Errors: 3.8534e-08, 1.50509e-06, 3.75382e-05\n",
      "time spent for this RGstep: 0.891641\n",
      "shape of A: (10, 10, 10, 10)\n",
      "Iteration:  0  of  2000 , Trunc. Error: 3.90903e-08,0.0074352\n",
      "Iteration:  100  of  2000 , Trunc. Error: 3.90903e-08,1.50926e-06\n",
      "Iteration:  200  of  2000 , Trunc. Error: 3.90903e-08,1.50489e-06\n",
      "RGstep: 4 ,A_differ: 0.0017666 , Truncation Errors: 3.90903e-08, 1.50489e-06, 3.70745e-05\n",
      "time spent for this RGstep: 0.892799\n",
      "shape of A: (10, 10, 10, 10)\n",
      "Iteration:  0  of  2000 , Trunc. Error: 3.99128e-08,0.00740439\n",
      "Iteration:  100  of  2000 , Trunc. Error: 3.99128e-08,1.52129e-06\n",
      "Iteration:  200  of  2000 , Trunc. Error: 3.99128e-08,1.51861e-06\n",
      "RGstep: 5 ,A_differ: 0.00265664 , Truncation Errors: 3.99128e-08, 1.51861e-06, 3.67937e-05\n",
      "time spent for this RGstep: 0.884352\n",
      "shape of A: (10, 10, 10, 10)\n",
      "Iteration:  0  of  2000 , Trunc. Error: 4.03798e-08,0.00740858\n",
      "Iteration:  100  of  2000 , Trunc. Error: 4.03798e-08,1.53691e-06\n",
      "Iteration:  200  of  2000 , Trunc. Error: 4.03798e-08,1.53453e-06\n",
      "RGstep: 6 ,A_differ: 0.00492575 , Truncation Errors: 4.03798e-08, 1.53453e-06, 3.68413e-05\n",
      "time spent for this RGstep: 0.893091\n",
      "shape of A: (10, 10, 10, 10)\n",
      "Iteration:  0  of  2000 , Trunc. Error: 3.99383e-08,0.00759078\n",
      "Iteration:  100  of  2000 , Trunc. Error: 3.99383e-08,1.55144e-06\n",
      "Iteration:  200  of  2000 , Trunc. Error: 3.99383e-08,1.54885e-06\n",
      "RGstep: 7 ,A_differ: 0.00980943 , Truncation Errors: 3.99383e-08, 1.54885e-06, 3.73918e-05\n",
      "time spent for this RGstep: 0.903796\n",
      "shape of A: (10, 10, 10, 10)\n",
      "Iteration:  0  of  2000 , Trunc. Error: 3.83123e-08,0.00802224\n",
      "Iteration:  100  of  2000 , Trunc. Error: 3.83123e-08,1.57315e-06\n",
      "Iteration:  200  of  2000 , Trunc. Error: 3.83123e-08,1.56948e-06\n",
      "RGstep: 8 ,A_differ: 0.0196708 , Truncation Errors: 3.83123e-08, 1.56948e-06, 3.88992e-05\n",
      "time spent for this RGstep: 0.90928\n",
      "shape of A: (10, 10, 10, 10)\n",
      "Iteration:  0  of  2000 , Trunc. Error: 3.48701e-08,0.00934823\n",
      "Iteration:  100  of  2000 , Trunc. Error: 3.48701e-08,1.60819e-06\n",
      "Iteration:  200  of  2000 , Trunc. Error: 3.48701e-08,1.60074e-06\n",
      "RGstep: 9 ,A_differ: 0.039401 , Truncation Errors: 3.48701e-08, 1.60074e-06, 4.16858e-05\n",
      "time spent for this RGstep: 0.958395\n",
      "shape of A: (10, 10, 10, 10)\n",
      "Adiff:  [1, 0.03497897853612639, 0.0027869670126830933, 0.0008530500555366353, 0.0017666017042738168, 0.0026566383724480882, 0.004925751058033586, 0.009809429395539776, 0.01967084643881875, 0.03940095903680215]\n",
      "sclev:  3\n",
      "rT.shape:  (20, 20, 6, 6)\n",
      "gT.shape:  (20, 20, 6, 6)\n",
      "n:  160000\n"
     ]
    }
   ],
   "source": [
    "%run mainScInvTNR.py"
   ]
  },
  {
   "cell_type": "code",
   "execution_count": 14,
   "metadata": {},
   "outputs": [],
   "source": [
    "#Todo: diagonalize in python\n",
    "\n",
    "import h5py\n",
    "f = h5py.File('rT.h5', 'r')\n",
    "a_group_key = list(f.keys())[0]\n",
    "rT=np.array(f[a_group_key])\n",
    "\n",
    "f = h5py.File('gT.h5', 'r')\n",
    "a_group_key = list(f.keys())[0]\n",
    "gT=np.array(f[a_group_key])"
   ]
  },
  {
   "cell_type": "code",
   "execution_count": null,
   "metadata": {},
   "outputs": [],
   "source": [
    "#Todo: diagonalize in python\n",
    "\n",
    "def logScaleSuper(psi):\n",
    "    return np.einsum(psi.reshape(chir,chig,chir,chig),[1,3,5,7],rT,[1,21,8,2],gT,[3,22,2,4],rT,[5,23,4,6],gT,[7,24,6,8]).reshape((chir*chig)**2)\n",
    "\n",
    "Atemp = LinearOperator(((chir*chig)**2,(chir*chig)**2), matvec = logScaleSuper)\n",
    "\n",
    "print(\"eig\")\n",
    "w = scipy.sparse.linalg.eigsh(Atemp, k=12, M=None, sigma=None, which='SM', v0=None, ncv=None, maxiter=300, tol=1e-5, return_eigenvectors=False, Minv=None, OPinv=None, mode='normal')"
   ]
  }
 ],
 "metadata": {
  "kernelspec": {
   "display_name": "Python 3",
   "language": "python",
   "name": "python3"
  },
  "language_info": {
   "codemirror_mode": {
    "name": "ipython",
    "version": 3
   },
   "file_extension": ".py",
   "mimetype": "text/x-python",
   "name": "python",
   "nbconvert_exporter": "python",
   "pygments_lexer": "ipython3",
   "version": "3.6.5"
  },
  "varInspector": {
   "cols": {
    "lenName": 16,
    "lenType": 16,
    "lenVar": 40
   },
   "kernels_config": {
    "python": {
     "delete_cmd_postfix": "",
     "delete_cmd_prefix": "del ",
     "library": "var_list.py",
     "varRefreshCmd": "print(var_dic_list())"
    },
    "r": {
     "delete_cmd_postfix": ") ",
     "delete_cmd_prefix": "rm(",
     "library": "var_list.r",
     "varRefreshCmd": "cat(var_dic_list()) "
    }
   },
   "types_to_exclude": [
    "module",
    "function",
    "builtin_function_or_method",
    "instance",
    "_Feature"
   ],
   "window_display": true
  }
 },
 "nbformat": 4,
 "nbformat_minor": 2
}
