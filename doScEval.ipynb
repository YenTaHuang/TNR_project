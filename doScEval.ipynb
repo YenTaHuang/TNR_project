{
 "cells": [
  {
   "cell_type": "code",
   "execution_count": 14,
   "metadata": {},
   "outputs": [],
   "source": [
    "using HDF5\n",
    "rT=h5read(\"rT.h5\", \"rT\");\n",
    "gT=h5read(\"gT.h5\", \"gT\");\n",
    "\n",
    "rT=permutedims(rT,[4,3,2,1]);\n",
    "gT=permutedims(gT,[4,3,2,1]);"
   ]
  },
  {
   "cell_type": "code",
   "execution_count": 15,
   "metadata": {},
   "outputs": [
    {
     "data": {
      "text/plain": [
       "logScaleSuper (generic function with 1 method)"
      ]
     },
     "execution_count": 15,
     "metadata": {},
     "output_type": "execute_result"
    }
   ],
   "source": [
    "include(\"ncon.jl\");\n",
    "include(\"doScInvTNR.jl\");\n",
    "include(\"doScEval.jl\");\n",
    "function logScaleSuper(psi,fargs)\n",
    "    #rT = fargs[1]; gT = fargs[2];\n",
    "    chir = size(fargs[1],1);\n",
    "    chig = size(fargs[2],1);\n",
    "    return reshape(ncon(Any[reshape(psi,chir,chig,chir,chig),fargs[1],fargs[2],fargs[1],fargs[2]],\n",
    "        Any[[1,3,5,7],[1,-1,8,2],[3,-2,2,4],[5,-3,4,6],[7,-4,6,8]]),(chir^2)*(chig^2))\n",
    "end"
   ]
  },
  {
   "cell_type": "code",
   "execution_count": 16,
   "metadata": {},
   "outputs": [],
   "source": [
    "numeval=100;\n",
    "dtemp, utemp = impeigs(logScaleSuper; n =size(rT,1)^2*size(gT,1)^2, issym = false, nev = numeval, tol = 1e-10, which=:LM, maxiter = 300, fargs = Any[rT,gT]);\n",
    "scDims = -log2.(abs.(dtemp./dtemp[1]));"
   ]
  },
  {
   "cell_type": "code",
   "execution_count": 17,
   "metadata": {},
   "outputs": [
    {
     "data": {
      "text/plain": [
       "100-element Array{Float64,1}:\n",
       " -0.0     \n",
       "  0.127046\n",
       "  1.00025 \n",
       "  1.12222 \n",
       "  1.12334 \n",
       "  1.99851 \n",
       "  1.99872 \n",
       "  1.99913 \n",
       "  1.99941 \n",
       "  2.1194  \n",
       "  2.11999 \n",
       "  2.12729 \n",
       "  2.99245 \n",
       "  ⋮       \n",
       "  5.99882 \n",
       "  5.9998  \n",
       "  6.005   \n",
       "  6.03467 \n",
       "  6.04778 \n",
       "  6.07217 \n",
       "  6.07372 \n",
       "  6.07613 \n",
       "  6.10603 \n",
       "  6.10638 \n",
       "  6.11075 \n",
       "  6.11178 "
      ]
     },
     "execution_count": 17,
     "metadata": {},
     "output_type": "execute_result"
    }
   ],
   "source": [
    "scDims"
   ]
  },
  {
   "cell_type": "code",
   "execution_count": 18,
   "metadata": {},
   "outputs": [],
   "source": [
    "writedlm(\"scDims.csv\",scDims)"
   ]
  }
 ],
 "metadata": {
  "kernelspec": {
   "display_name": "Julia 0.6.4",
   "language": "julia",
   "name": "julia-0.6"
  },
  "language_info": {
   "file_extension": ".jl",
   "mimetype": "application/julia",
   "name": "julia",
   "version": "0.6.4"
  }
 },
 "nbformat": 4,
 "nbformat_minor": 2
}
